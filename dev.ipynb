{
 "cells": [
  {
   "cell_type": "code",
   "execution_count": 355,
   "metadata": {},
   "outputs": [],
   "source": [
    "from helpers import cd_to_datetime, datetime_to_str\n",
    "\n",
    "class NearEarthObject:\n",
    "    \"\"\"A near-Earth object (NEO).\n",
    "\n",
    "    An NEO encapsulates semantic and physical parameters about the object, such\n",
    "    as its primary designation (required, unique), IAU name (optional), diameter\n",
    "    in kilometers (optional - sometimes unknown), and whether it's marked as\n",
    "    potentially hazardous to Earth.\n",
    "\n",
    "    A `NearEarthObject` also maintains a collection of its close approaches -\n",
    "    initialized to an empty collection, but eventually populated in the\n",
    "    `NEODatabase` constructor.\n",
    "    \"\"\"\n",
    "\n",
    "    def __init__(self, designation, name=None, diameter=float('nan'), hazardous='N'):\n",
    "        \"\"\"Create a new `NearEarthObject`.\n",
    "        \n",
    "        :param info: \n",
    "        required unique designation (str), \n",
    "        optional name (str), diameter (float), hazardous (bool)\n",
    "        \"\"\"\n",
    "        \n",
    "        self.designation = str(designation)\n",
    "        self.name = str(name).title()\n",
    "        self.diameter = diameter\n",
    "        self.hazardous = hazardous\n",
    "        \n",
    "        self.approaches = []\n",
    "\n",
    "    @property\n",
    "    def fullname(self):\n",
    "        \"\"\"Return a representation of the full name of this NEO.\"\"\"\n",
    "        \n",
    "        if self.name is None:\n",
    "            return self.designation      \n",
    "        else:\n",
    "            return self.designation + \" (\" + self.name + \")\"\n",
    "    \n",
    "    @property\n",
    "    def hazard(self):\n",
    "        \"\"\"Return 'is/is not' depending on boolean value of hazardous.\"\"\"\n",
    "        \n",
    "        if self.hazardous == 'N':\n",
    "            hazard = 'is not'\n",
    "        else:\n",
    "            hazard = 'is'\n",
    "        return hazard\n",
    "\n",
    "    def __str__(self):\n",
    "        \"\"\"Return `str(self)`.\"\"\"\n",
    "        \n",
    "        formatted_string = \"NEO {} has a diameter {} km and {} potentially hazardous.\".format(\n",
    "        self.fullname, self.diameter, self.hazard\n",
    "        )\n",
    "\n",
    "        return formatted_string\n",
    "  \n",
    "    \n",
    "    def __hash__(self):\n",
    "        return hash(str(self))\n",
    "    \n",
    "    def __eq__(self, neo):\n",
    "        return self.designation is neo.designation\n",
    "\n",
    "class CloseApproach:\n",
    "    \"\"\"A close approach to Earth by an NEO.\n",
    "\n",
    "    A `CloseApproach` encapsulates information about the NEO's close approach to\n",
    "    Earth, such as the date and time (in UTC) of closest approach, the nominal\n",
    "    approach distance in astronomical units, and the relative approach velocity\n",
    "    in kilometers per second.\n",
    "\n",
    "    A `CloseApproach` also maintains a reference to its `NearEarthObject` -\n",
    "    initally, this information (the NEO's primary designation) is saved in a\n",
    "    private attribute, but the referenced NEO is eventually replaced in the\n",
    "    `NEODatabase` constructor.\n",
    "    \"\"\"\n",
    "\n",
    "    def __init__(self, neo, time, distance=float('nan'), velocity=float('nan')):\n",
    "        \"\"\"Create a new `CloseApproach`.\n",
    "\n",
    "        :param info: \n",
    "        required unique designation (str), can be passed from the neo type'\n",
    "        required date (str);\n",
    "        optional: distance (float), velocity (bool), neo (neo).\n",
    "        \"\"\"\n",
    "\n",
    "        \n",
    "        self.neo = neo\n",
    "        self._designation = neo.designation\n",
    "        self.time = cd_to_datetime(time)\n",
    "        \n",
    "        self.distance = distance\n",
    "        self.velocity = velocity\n",
    "\n",
    "        \n",
    "    @property\n",
    "    def time_str(self):\n",
    "        \"\"\"Return a formatted representation of this `CloseApproach`'s approach time.\n",
    "\n",
    "        The value in `self.time` should be a Python `datetime` object. While a\n",
    "        `datetime` object has a string representation, the default representation\n",
    "        includes seconds - significant figures that don't exist in our input\n",
    "        data set.\n",
    "\n",
    "        The `datetime_to_str` method converts a `datetime` object to a\n",
    "        formatted string that can be used in human-readable representations and\n",
    "        in serialization to CSV and JSON files.\n",
    "        \"\"\"\n",
    "\n",
    "        return datetime_to_str(self.time)\n",
    "\n",
    "    \n",
    "    def __str__(self):\n",
    "        \"\"\"Return `str(self)`.\"\"\"\n",
    "        \n",
    "        formatted_string = \"- On {} NEO {} approaching with speed {} km/s and distance {} au.\".format(\n",
    "        self.time_str, self.neo.fullname, self.velocity, self.distance\n",
    "        )\n",
    "            \n",
    "        return formatted_string\n",
    "\n",
    "    def __repr__(self):\n",
    "        \"\"\"Return `repr(self)`, a computer-readable string representation of this object.\"\"\"\n",
    "        \n",
    "        formatted_string = \"CloseApproach(time={}, distance={}, velocity={}, neo={})\".format(\n",
    "        self.time_str, self.distance, self.velocity, self.neo)\n",
    "        \n",
    "        return formatted_string"
   ]
  },
  {
   "cell_type": "code",
   "execution_count": 343,
   "metadata": {},
   "outputs": [
    {
     "data": {
      "text/plain": [
       "'1900-12-27 12:12'"
      ]
     },
     "execution_count": 343,
     "metadata": {},
     "output_type": "execute_result"
    }
   ],
   "source": [
    "neo = NearEarthObject(123, 'Barsik', 21.21, True)\n",
    "cap = CloseApproach(neo, '1900-Dec-27 12:12', 10, 0.1)\n",
    "neo.approaches.append(cap)\n",
    "new_dic = {neo:cap}\n",
    "cap.time_str"
   ]
  },
  {
   "cell_type": "code",
   "execution_count": 344,
   "metadata": {},
   "outputs": [
    {
     "name": "stdout",
     "output_type": "stream",
     "text": [
      "NEO 123 (Barsik) has a diameter 21.21 km and is potentially hazardous.\n",
      "- On 1900-12-27 12:12 NEO 123 (Barsik) approaching with speed 0.1 km/s and distance 10 au.\n"
     ]
    },
    {
     "data": {
      "text/plain": [
       "{<__main__.NearEarthObject at 0x7fecff260bb0>: CloseApproach(time=1900-12-27 12:12, distance=10.00, velocity=0.10, neo=<__main__.NearEarthObject object at 0x7fecff260bb0>)}"
      ]
     },
     "execution_count": 344,
     "metadata": {},
     "output_type": "execute_result"
    }
   ],
   "source": [
    "print(neo)\n",
    "print(cap)\n",
    "neo.approaches\n",
    "new_dic"
   ]
  },
  {
   "cell_type": "markdown",
   "metadata": {},
   "source": [
    "### Loading datasets with `extract.py`"
   ]
  },
  {
   "cell_type": "code",
   "execution_count": 325,
   "metadata": {},
   "outputs": [],
   "source": [
    "\"\"\"Extract data on near-Earth objects and close approaches from CSV and JSON files.\n",
    "\n",
    "The `load_neos` function extracts NEO data from a CSV file, formatted as\n",
    "described in the project instructions, into a collection of `NearEarthObject`s.\n",
    "\n",
    "The `load_approaches` function extracts close approach data from a JSON file,\n",
    "formatted as described in the project instructions, into a collection of\n",
    "`CloseApproach` objects.\n",
    "\n",
    "The main module calls these functions with the arguments provided at the command\n",
    "line, and uses the resulting collections to build an `NEODatabase`.\n",
    "\n",
    "You'll edit this file in Task 2.\n",
    "\"\"\"\n",
    "import csv\n",
    "import json\n",
    "\n",
    "#from models import NearEarthObject, CloseApproach\n",
    "\n",
    "\n",
    "def load_neos(neo_csv_path = 'data/neos.csv') -> list:\n",
    "    \"\"\"Read near-Earth object information from a CSV file.\n",
    "\n",
    "    :param neo_csv_path: A path to a CSV file containing data about near-Earth objects.\n",
    "    :return: A collection of `NearEarthObject`s.\n",
    "    \"\"\"\n",
    "    # List below will store instanciated NEOs objects \n",
    "    # new_neo = NearEarthObject(designation, name=None, diameter=float('nan'), hazardous=False)\n",
    "    neos = []\n",
    "    with open(neo_csv_path, 'r') as file:\n",
    "        reader = csv.DictReader(file)\n",
    "        for line in reader:\n",
    "            neos.append(NearEarthObject(designation=line['pdes'], \n",
    "                                        name=line['name'], \n",
    "                                        diameter=line['diameter'], \n",
    "                                        hazardous=line['pha']\n",
    "                                       )\n",
    "                       )\n",
    "    return neos\n",
    "\n",
    "\n",
    "def load_approaches(cad_json_path = 'data/cad.json') -> dict:\n",
    "    \"\"\"Read close approach data from a JSON file.\n",
    "\n",
    "    :param neo_csv_path: A path to a JSON file containing data about close approaches.\n",
    "    :return: A collection of `CloseApproach`es.\n",
    "    \"\"\"\n",
    "    with open(cad_json_path, 'r') as file:\n",
    "        cads = json.load(file)\n",
    "    return cads"
   ]
  },
  {
   "cell_type": "code",
   "execution_count": 328,
   "metadata": {},
   "outputs": [
    {
     "data": {
      "text/plain": [
       "'N'"
      ]
     },
     "execution_count": 328,
     "metadata": {},
     "output_type": "execute_result"
    }
   ],
   "source": [
    "nn = load_neos()\n",
    "nn[0].hazardous"
   ]
  },
  {
   "cell_type": "code",
   "execution_count": 350,
   "metadata": {},
   "outputs": [
    {
     "data": {
      "text/plain": [
       "23967"
      ]
     },
     "execution_count": 350,
     "metadata": {},
     "output_type": "execute_result"
    }
   ],
   "source": [
    "len(nn)"
   ]
  },
  {
   "cell_type": "code",
   "execution_count": 266,
   "metadata": {},
   "outputs": [],
   "source": [
    "cc = load_approaches()\n",
    "l = (cc['data'])"
   ]
  },
  {
   "cell_type": "code",
   "execution_count": 273,
   "metadata": {},
   "outputs": [],
   "source": [
    "l.sort()"
   ]
  },
  {
   "cell_type": "code",
   "execution_count": null,
   "metadata": {},
   "outputs": [],
   "source": [
    "db = {}\n",
    "neos_dict = {}\n",
    "for i in range(len(l)): # take the first record of known close approached\n",
    "    pdes = l[i][0] # note pdes of Near Earth Object\n",
    "    date = l[i][3]\n",
    "    distance = l[i][4]\n",
    "    speed = l[i][7]\n",
    "    \n",
    "    if pdes in neos_dict: # check if this pdes is already associated with a known neo:\n",
    "        cap = CloseApproach(neos_dict[pdes], date, distance, speed) # create new cap\n",
    "        neos_dict[pdes].approaches.append(cap)\n",
    "    \n",
    "    else: # if not, check if we can find data for this neo:\n",
    "        for n in range(len(nn)): # go to the list of known Near Earth Objects\n",
    "            if pdes == nn[n].designation: # Loop through the list looking for this pdes\n",
    "                neo = NearEarthObject(nn[n].designation, nn[n].name, nn[n].diameter, nn[n].hazardous) # create new neo\n",
    "                cap = CloseApproach(neo, date, distance, speed) # create new cap\n",
    "                neo.approaches.append(cap) # add new cap to the list of caps in this new\n",
    "                neos_dict[pdes] = neo # put this neo into neos dict\n",
    "len(neos_dict)"
   ]
  },
  {
   "cell_type": "code",
   "execution_count": 395,
   "metadata": {},
   "outputs": [
    {
     "ename": "KeyError",
     "evalue": "'10007'",
     "output_type": "error",
     "traceback": [
      "\u001b[0;31m---------------------------------------------------------------------------\u001b[0m",
      "\u001b[0;31mKeyError\u001b[0m                                  Traceback (most recent call last)",
      "\u001b[0;32m<ipython-input-395-c8813a36b0b5>\u001b[0m in \u001b[0;36m<module>\u001b[0;34m\u001b[0m\n\u001b[0;32m----> 1\u001b[0;31m \u001b[0mprint\u001b[0m\u001b[0;34m(\u001b[0m\u001b[0mneos_dict\u001b[0m\u001b[0;34m[\u001b[0m\u001b[0;34m'10007'\u001b[0m\u001b[0;34m]\u001b[0m\u001b[0;34m)\u001b[0m\u001b[0;34m\u001b[0m\u001b[0;34m\u001b[0m\u001b[0m\n\u001b[0m",
      "\u001b[0;31mKeyError\u001b[0m: '10007'"
     ]
    }
   ],
   "source": [
    "neos_dict.keys()[:10]"
   ]
  },
  {
   "cell_type": "markdown",
   "metadata": {},
   "source": [
    "### Encapsulate the data in a `NEODatabase`"
   ]
  },
  {
   "cell_type": "code",
   "execution_count": null,
   "metadata": {},
   "outputs": [],
   "source": [
    "\"\"\"A database encapsulating collections of near-Earth objects and their close approaches.\n",
    "\n",
    "A `NEODatabase` holds an interconnected data set of NEOs and close approaches.\n",
    "It provides methods to fetch an NEO by primary designation or by name, as well\n",
    "as a method to query the set of close approaches that match a collection of\n",
    "user-specified criteria.\n",
    "\n",
    "Under normal circumstances, the main module creates one NEODatabase from the\n",
    "data on NEOs and close approaches extracted by `extract.load_neos` and\n",
    "`extract.load_approaches`.\n",
    "\n",
    "\"\"\"\n",
    "#from extract import load_neos, load_approaches\n",
    "\n",
    "class NEODatabase:\n",
    "    \"\"\"A database of near-Earth objects and their close approaches.\n",
    "\n",
    "    A `NEODatabase` contains a collection of NEOs and a collection of close\n",
    "    approaches. It additionally maintains a few auxiliary data structures to\n",
    "    help fetch NEOs by primary designation or by name and to help speed up\n",
    "    querying for close approaches that match criteria.\n",
    "    \"\"\"\n",
    "    def __init__(self, neos, approaches):\n",
    "        \"\"\"Create a new `NEODatabase`.\n",
    "\n",
    "        As a precondition, this constructor assumes that the collections of NEOs\n",
    "        and close approaches haven't yet been linked - that is, the\n",
    "        `.approaches` attribute of each `NearEarthObject` resolves to an empty\n",
    "        collection, and the `.neo` attribute of each `CloseApproach` is None.\n",
    "\n",
    "        However, each `CloseApproach` has an attribute (`._designation`) that\n",
    "        matches the `.designation` attribute of the corresponding NEO. This\n",
    "        constructor modifies the supplied NEOs and close approaches to link them\n",
    "        together - after it's done, the `.approaches` attribute of each NEO has\n",
    "        a collection of that NEO's close approaches, and the `.neo` attribute of\n",
    "        each close approach references the appropriate NEO.\n",
    "\n",
    "        :param neos: A collection of `NearEarthObject`s.\n",
    "        :param approaches: A collection of `CloseApproach`es.\n",
    "        \"\"\"\n",
    "        self._neos = neos\n",
    "        self._approaches = approaches\n",
    "        \n",
    "        db_dict = {}\n",
    "        neos.sort()\n",
    "        approaches.sort()\n",
    "        \n",
    "        for i in range(len(approaches)): # take the first record of known close approached\n",
    "            pdes = approaches[i][0] # note pdes of Near Earth Object\n",
    "            date = approaches[i][3]\n",
    "            distance = approaches[i][4]\n",
    "            speed = approaches[i][7]\n",
    "            \n",
    "            if pdes in db_dict: # check if this pdes is already associated with a known neo:\n",
    "                cap = CloseApproach(db_dict[pdes], date, distance, speed) # create new cap\n",
    "                db_dict[pdes].approaches.append(cap)\n",
    "            \n",
    "            else: # if not, check if we can find data for this neos dataset:\n",
    "                \n",
    "                for n in range(len(neos)): # # loop through the list looking for this pdes\n",
    "                    \n",
    "                    if pdes == neos[n].designation: # if found this pdes, then \n",
    "                        name = neos[n].designation # note key parameters \n",
    "                        diameter = neos[n].diameter\n",
    "                        hazardous = neos[n].hazardous\n",
    "                        \n",
    "                        neo = NearEarthObject(pdes, name, diameter, hazardous) # create new neo\n",
    "                        cap = CloseApproach(neo, date, distance, speed) # create a new close approach\n",
    "                        neo.approaches.append(cap) # add new cap to the list of caps in this new\n",
    "                        neos_dict[pdes] = neo # put this neo into neos dict\n",
    "\n",
    "\n",
    "    def get_neo_by_designation(self, designation):\n",
    "        \"\"\"Find and return an NEO by its primary designation.\n",
    "\n",
    "        If no match is found, return `None` instead.\n",
    "\n",
    "        Each NEO in the data set has a unique primary designation, as a string.\n",
    "\n",
    "        The matching is exact - check for spelling and capitalization if no\n",
    "        match is found.\n",
    "\n",
    "        :param designation: The primary designation of the NEO to search for.\n",
    "        :return: The `NearEarthObject` with the desired primary designation, or `None`.\n",
    "        \"\"\"\n",
    "        # TODO: Fetch an NEO by its primary designation.\n",
    "        if designation in neo_dict.keys(): #NEODatabase\n",
    "            print(neos_dict[designation])\n",
    "        \n",
    "        return None\n",
    "\n",
    "    def get_neo_by_name(self, name):\n",
    "        \"\"\"Find and return an NEO by its name.\n",
    "\n",
    "        If no match is found, return `None` instead.\n",
    "\n",
    "        Not every NEO in the data set has a name. No NEOs are associated with\n",
    "        the empty string nor with the `None` singleton.\n",
    "\n",
    "        The matching is exact - check for spelling and capitalization if no\n",
    "        match is found.\n",
    "\n",
    "        :param name: The name, as a string, of the NEO to search for.\n",
    "        :return: The `NearEarthObject` with the desired name, or `None`.\n",
    "        \"\"\"\n",
    "        # TODO: Fetch an NEO by its name.\n",
    "        for neo in neos_dict.values():\n",
    "            \n",
    "            if name == neo.name:\n",
    "                print(neo)\n",
    "        return None\n",
    "\n",
    "    def query(self, filters=()):\n",
    "        \"\"\"Query close approaches to generate those that match a collection of filters.\n",
    "\n",
    "        This generates a stream of `CloseApproach` objects that match all of the\n",
    "        provided filters.\n",
    "\n",
    "        If no arguments are provided, generate all known close approaches.\n",
    "\n",
    "        The `CloseApproach` objects are generated in internal order, which isn't\n",
    "        guaranteed to be sorted meaninfully, although is often sorted by time.\n",
    "\n",
    "        :param filters: A collection of filters capturing user-specified criteria.\n",
    "        :return: A stream of matching `CloseApproach` objects.\n",
    "        \"\"\"\n",
    "        # TODO: Generate `CloseApproach` objects that match all of the filters.\n",
    "        for approach in self._approaches:\n",
    "            yield approach\n"
   ]
  },
  {
   "cell_type": "code",
   "execution_count": null,
   "metadata": {},
   "outputs": [],
   "source": []
  },
  {
   "cell_type": "code",
   "execution_count": null,
   "metadata": {},
   "outputs": [],
   "source": []
  },
  {
   "cell_type": "code",
   "execution_count": null,
   "metadata": {},
   "outputs": [],
   "source": []
  },
  {
   "cell_type": "code",
   "execution_count": null,
   "metadata": {},
   "outputs": [],
   "source": []
  },
  {
   "cell_type": "code",
   "execution_count": null,
   "metadata": {},
   "outputs": [],
   "source": []
  },
  {
   "cell_type": "code",
   "execution_count": null,
   "metadata": {},
   "outputs": [],
   "source": []
  },
  {
   "cell_type": "markdown",
   "metadata": {},
   "source": [
    "### Example of class methods to dynamically create new classes:"
   ]
  },
  {
   "cell_type": "code",
   "execution_count": 611,
   "metadata": {},
   "outputs": [
    {
     "name": "stdout",
     "output_type": "stream",
     "text": [
      "chihuahua-terrier Mix\n"
     ]
    }
   ],
   "source": [
    "class Dog():\n",
    "\n",
    "    def __init__(self, name:str, age:int, breed:str, weight:int):\n",
    "        \"\"\"Create a new dog\"\"\"\n",
    "        self.breed = breed\n",
    "        self.weight = weight\n",
    "        self.name = name\n",
    "        self.age = age\n",
    "        \n",
    "    def __gt__(self, other):\n",
    "        return self.age > other.age\n",
    "    \n",
    "    def __str__(self):\n",
    "        return str(self.name)\n",
    "    \n",
    "    def speak(self) -> None:\n",
    "        \"\"\"Make the dog bark\"\"\"\n",
    "        print(f'{self.name} says, \"woof\"')\n",
    "    @classmethod    \n",
    "    def spawn(cls, name, mother, father):\n",
    "        breed = mother.breed\n",
    "        if mother.breed != father.breed:\n",
    "            breed = f'{mother.breed}-{father.breed} Mix'\n",
    "        weight = (mother.weight + father.weight) / (2 * 10)\n",
    "        return cls(name, 0, breed, weight)\n",
    "\n",
    "if __name__ == \"__main__\":\n",
    "    sally = Dog('Sally', 6, 'chihuahua', 7)\n",
    "    henry = Dog('Henry', 7, 'terrier', 15)\n",
    "    trixy = Dog.spawn('Trixy', sally, henry)\n",
    "    print(trixy.breed)"
   ]
  },
  {
   "cell_type": "code",
   "execution_count": 612,
   "metadata": {},
   "outputs": [
    {
     "data": {
      "text/plain": [
       "1.1"
      ]
     },
     "execution_count": 612,
     "metadata": {},
     "output_type": "execute_result"
    }
   ],
   "source": [
    "trixy.weight"
   ]
  },
  {
   "cell_type": "code",
   "execution_count": 618,
   "metadata": {},
   "outputs": [
    {
     "data": {
      "text/plain": [
       "831.8333333333334"
      ]
     },
     "execution_count": 618,
     "metadata": {},
     "output_type": "execute_result"
    }
   ],
   "source": [
    "(9257+725) / 12"
   ]
  },
  {
   "cell_type": "code",
   "execution_count": 621,
   "metadata": {},
   "outputs": [
    {
     "data": {
      "text/plain": [
       "2388"
      ]
     },
     "execution_count": 621,
     "metadata": {},
     "output_type": "execute_result"
    }
   ],
   "source": [
    "199 * 12\n"
   ]
  },
  {
   "cell_type": "code",
   "execution_count": 622,
   "metadata": {},
   "outputs": [
    {
     "data": {
      "text/plain": [
       "39"
      ]
     },
     "execution_count": 622,
     "metadata": {},
     "output_type": "execute_result"
    }
   ],
   "source": [
    "18 + 16 + 5"
   ]
  },
  {
   "cell_type": "code",
   "execution_count": null,
   "metadata": {},
   "outputs": [],
   "source": []
  }
 ],
 "metadata": {
  "kernelspec": {
   "display_name": "Python 3",
   "language": "python",
   "name": "python3"
  },
  "language_info": {
   "codemirror_mode": {
    "name": "ipython",
    "version": 3
   },
   "file_extension": ".py",
   "mimetype": "text/x-python",
   "name": "python",
   "nbconvert_exporter": "python",
   "pygments_lexer": "ipython3",
   "version": "3.8.3"
  }
 },
 "nbformat": 4,
 "nbformat_minor": 4
}
