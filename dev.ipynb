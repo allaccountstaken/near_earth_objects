{
 "cells": [
  {
   "cell_type": "code",
   "execution_count": 89,
   "metadata": {},
   "outputs": [],
   "source": [
    "from helpers import cd_to_datetime, datetime_to_str\n",
    "\n",
    "class NearEarthObject:\n",
    "    \"\"\"A near-Earth object (NEO).\n",
    "\n",
    "    An NEO encapsulates semantic and physical parameters about the object, such\n",
    "    as its primary designation (required, unique), IAU name (optional), diameter\n",
    "    in kilometers (optional - sometimes unknown), and whether it's marked as\n",
    "    potentially hazardous to Earth.\n",
    "\n",
    "    A `NearEarthObject` also maintains a collection of its close approaches -\n",
    "    initialized to an empty collection, but eventually populated in the\n",
    "    `NEODatabase` constructor.\n",
    "    \"\"\"\n",
    "\n",
    "    def __init__(self, designation, name=None, diameter=float('nan'), hazardous='N'):\n",
    "        \"\"\"Create a new `NearEarthObject`.\n",
    "        \n",
    "        :param info: \n",
    "        required unique designation (str), \n",
    "        optional name (str), diameter (float), hazardous (bool)\n",
    "        \"\"\"\n",
    "        \n",
    "        self.designation = str(designation)\n",
    "        self.name = str(name).title()\n",
    "        self.diameter = diameter\n",
    "        self.hazardous = hazardous\n",
    "        \n",
    "        self.approaches = []\n",
    "\n",
    "    @property\n",
    "    def fullname(self):\n",
    "        \"\"\"Return a representation of the full name of this NEO.\"\"\"\n",
    "        \n",
    "        if self.name is None:\n",
    "            return self.designation      \n",
    "        else:\n",
    "            return self.designation + \" (\" + self.name + \")\"\n",
    "    \n",
    "    @property\n",
    "    def hazard(self):\n",
    "        \"\"\"Return 'is/is not' depending on boolean value of hazardous.\"\"\"\n",
    "        \n",
    "        if self.hazardous == 'N':\n",
    "            hazard = 'is not'\n",
    "        else:\n",
    "            hazard = 'is'\n",
    "        return hazard\n",
    "\n",
    "    def __str__(self):\n",
    "        \"\"\"Return `str(self)`.\"\"\"\n",
    "        \n",
    "        formatted_string = \"NEO {} has a diameter {} km and {} potentially hazardous.\".format(\n",
    "        self.fullname, self.diameter, self.hazard\n",
    "        )\n",
    "\n",
    "        return formatted_string\n",
    "\n",
    "class CloseApproach:\n",
    "    \"\"\"A close approach to Earth by an NEO.\n",
    "\n",
    "    A `CloseApproach` encapsulates information about the NEO's close approach to\n",
    "    Earth, such as the date and time (in UTC) of closest approach, the nominal\n",
    "    approach distance in astronomical units, and the relative approach velocity\n",
    "    in kilometers per second.\n",
    "\n",
    "    A `CloseApproach` also maintains a reference to its `NearEarthObject` -\n",
    "    initally, this information (the NEO's primary designation) is saved in a\n",
    "    private attribute, but the referenced NEO is eventually replaced in the\n",
    "    `NEODatabase` constructor.\n",
    "    \"\"\"\n",
    "\n",
    "    def __init__(self, neo, time, distance=float('nan'), velocity=float('nan')):\n",
    "        \"\"\"Create a new `CloseApproach`.\n",
    "\n",
    "        :param info: \n",
    "        required unique designation (str), can be passed from the neo type'\n",
    "        required date (str);\n",
    "        optional: distance (float), velocity (bool), neo (neo).\n",
    "        \"\"\"\n",
    "\n",
    "        \n",
    "        self.neo = neo\n",
    "        self._designation = neo.designation\n",
    "        self.time = cd_to_datetime(time)\n",
    "        \n",
    "        self.distance = distance\n",
    "        self.velocity = velocity\n",
    "\n",
    "        \n",
    "    @property\n",
    "    def time_str(self):\n",
    "        \"\"\"Return a formatted representation of this `CloseApproach`'s approach time.\n",
    "\n",
    "        The value in `self.time` should be a Python `datetime` object. While a\n",
    "        `datetime` object has a string representation, the default representation\n",
    "        includes seconds - significant figures that don't exist in our input\n",
    "        data set.\n",
    "\n",
    "        The `datetime_to_str` method converts a `datetime` object to a\n",
    "        formatted string that can be used in human-readable representations and\n",
    "        in serialization to CSV and JSON files.\n",
    "        \"\"\"\n",
    "\n",
    "        return datetime_to_str(self.time)\n",
    "\n",
    "    \n",
    "    def __str__(self):\n",
    "        \"\"\"Return `str(self)`.\"\"\"\n",
    "        \n",
    "        formatted_string = \"- On {} NEO {} approaching with speed {} km/s and distance {} au.\".format(\n",
    "        self.time_str, self.neo.fullname, self.velocity, self.distance\n",
    "        )\n",
    "            \n",
    "        return formatted_string\n",
    "\n",
    "    def __repr__(self):\n",
    "        \"\"\"Return `repr(self)`, a computer-readable string representation of this object.\"\"\"\n",
    "        return (f\"CloseApproach(time={self.time_str}, distance={self.distance:.2f}, \"\n",
    "                f\"velocity={self.velocity:.2f}, neo={self.neo!r})\")"
   ]
  },
  {
   "cell_type": "code",
   "execution_count": 90,
   "metadata": {},
   "outputs": [],
   "source": [
    "neo = NearEarthObject(123, 'Barsik', 21.21, True)\n",
    "cap = CloseApproach(neo, '1900-Dec-27 12:12', 10, 0.1)"
   ]
  },
  {
   "cell_type": "code",
   "execution_count": 91,
   "metadata": {},
   "outputs": [
    {
     "name": "stdout",
     "output_type": "stream",
     "text": [
      "NEO 123 (Barsik) has a diameter 21.21 km and is potentially hazardous.\n",
      "- On 1900-12-27 12:12 NEO 123 (Barsik) approaching with speed 0.1 km/s and distance 10 au.\n"
     ]
    }
   ],
   "source": [
    "print(neo)\n",
    "print(cap)"
   ]
  },
  {
   "cell_type": "markdown",
   "metadata": {},
   "source": [
    "### Loading datasets with `extract.py`"
   ]
  },
  {
   "cell_type": "code",
   "execution_count": 82,
   "metadata": {},
   "outputs": [],
   "source": [
    "\"\"\"Extract data on near-Earth objects and close approaches from CSV and JSON files.\n",
    "\n",
    "The `load_neos` function extracts NEO data from a CSV file, formatted as\n",
    "described in the project instructions, into a collection of `NearEarthObject`s.\n",
    "\n",
    "The `load_approaches` function extracts close approach data from a JSON file,\n",
    "formatted as described in the project instructions, into a collection of\n",
    "`CloseApproach` objects.\n",
    "\n",
    "The main module calls these functions with the arguments provided at the command\n",
    "line, and uses the resulting collections to build an `NEODatabase`.\n",
    "\n",
    "You'll edit this file in Task 2.\n",
    "\"\"\"\n",
    "import csv\n",
    "import json\n",
    "\n",
    "#from models import NearEarthObject, CloseApproach\n",
    "\n",
    "\n",
    "def load_neos(neo_csv_path = 'data/neos.csv') -> list:\n",
    "    \"\"\"Read near-Earth object information from a CSV file.\n",
    "\n",
    "    :param neo_csv_path: A path to a CSV file containing data about near-Earth objects.\n",
    "    :return: A collection of `NearEarthObject`s.\n",
    "    \"\"\"\n",
    "    # List below will store instanciated NEOs objects \n",
    "    # new_neo = NearEarthObject(designation, name=None, diameter=float('nan'), hazardous=False)\n",
    "    neos = []\n",
    "    with open(neo_csv_path, 'r') as file:\n",
    "        reader = csv.DictReader(file)\n",
    "        for line in reader:\n",
    "            neos.append(NearEarthObject(designation=line['pdes'], \n",
    "                                        name=line['name'], \n",
    "                                        diameter=line['diameter'], \n",
    "                                        hazardous=['pha']\n",
    "                                       )\n",
    "                       )\n",
    "    return neos\n",
    "\n",
    "\n",
    "def load_approaches(cad_json_path = 'data/cad.json') -> dict:\n",
    "    \"\"\"Read close approach data from a JSON file.\n",
    "\n",
    "    :param neo_csv_path: A path to a JSON file containing data about close approaches.\n",
    "    :return: A collection of `CloseApproach`es.\n",
    "    \"\"\"\n",
    "    with open(cad_json_path, 'r') as file:\n",
    "        cads = json.load(file)\n",
    "    return cads"
   ]
  },
  {
   "cell_type": "code",
   "execution_count": 255,
   "metadata": {},
   "outputs": [
    {
     "data": {
      "text/plain": [
       "23967"
      ]
     },
     "execution_count": 255,
     "metadata": {},
     "output_type": "execute_result"
    }
   ],
   "source": [
    "nn = load_neos()\n",
    "len(nn)"
   ]
  },
  {
   "cell_type": "code",
   "execution_count": 266,
   "metadata": {},
   "outputs": [],
   "source": [
    "cc = load_approaches()\n",
    "l = (cc['data'])"
   ]
  },
  {
   "cell_type": "code",
   "execution_count": 273,
   "metadata": {},
   "outputs": [],
   "source": [
    "l.sort()"
   ]
  },
  {
   "cell_type": "code",
   "execution_count": 274,
   "metadata": {},
   "outputs": [
    {
     "data": {
      "text/plain": [
       "23424"
      ]
     },
     "execution_count": 274,
     "metadata": {},
     "output_type": "execute_result"
    }
   ],
   "source": [
    "db = {}\n",
    "for i in range(len(l)):\n",
    "    pdes = l[i][0]\n",
    "    if pdes in db.keys():\n",
    "        date = l[i][3]\n",
    "        distance = l[i][4]\n",
    "        speed = l[i][7]\n",
    "        db[pdes].append([{date:(distance, speed)}])\n",
    "    else:\n",
    "        db[pdes] = [{date:(distance, speed)}]\n",
    "\n",
    "len(db)  "
   ]
  },
  {
   "cell_type": "code",
   "execution_count": 275,
   "metadata": {},
   "outputs": [
    {
     "data": {
      "text/plain": [
       "[{'2099-Oct-12 12:38': ('0.30452900915319', '9.8781760028839')},\n",
       " [{'1901-Feb-01 17:22': ('0.317306929483672', '9.16507707064606')}],\n",
       " [{'1901-Aug-12 07:35': ('0.156798611127023', '8.80258435360103')}],\n",
       " [{'1902-Aug-26 05:03': ('0.494881718216013', '21.6877854066479')}],\n",
       " [{'1911-Feb-15 13:50': ('0.0813604942612545', '9.50159008762572')}],\n",
       " [{'1911-Sep-13 09:08': ('0.354094373895403', '8.37255075007055')}],\n",
       " [{'1912-Aug-17 05:58': ('0.268028007389014', '15.7303551033059')}],\n",
       " [{'1921-Feb-09 03:14': ('0.131408474981846', '12.9303388733646')}],\n",
       " [{'1921-Nov-13 11:46': ('0.426269726255214', '5.9205771753889')}],\n",
       " [{'1922-Aug-12 03:12': ('0.0750339715595801', '11.2521050955162')}],\n",
       " [{'1931-Feb-02 12:27': ('0.328262751473962', '17.7023612299244')}],\n",
       " [{'1932-Jan-26 09:07': ('0.339250517451086', '8.98732758655057')}],\n",
       " [{'1932-Aug-11 02:44': ('0.131828297765824', '8.92571579340475')}],\n",
       " [{'1942-Feb-16 00:03': ('0.138559076182843', '9.08868432910519')}],\n",
       " [{'1942-Aug-31 23:40': ('0.312918075654417', '8.67155078685061')}],\n",
       " [{'1943-Aug-20 03:35': ('0.326259338074016', '17.183545693752')}],\n",
       " [{'1952-Feb-12 07:18': ('0.0631284176562422', '11.5104017812652')}],\n",
       " [{'1952-Oct-21 03:17': ('0.418226318432563', '6.58330531926836')}],\n",
       " [{'1953-Aug-13 14:07': ('0.133739323103196', '12.5674624872359')}],\n",
       " [{'1962-Feb-03 18:45': ('0.29286264864181', '16.792235079034')}],\n",
       " [{'1963-Jan-15 20:17': ('0.363436664942748', '8.56590057460406')}],\n",
       " [{'1963-Aug-11 09:23': ('0.104761700544264', '9.11965571247626')}],\n",
       " [{'1973-Feb-15 18:05': ('0.125697696160557', '9.15174159509091')}],\n",
       " [{'1973-Sep-03 08:37': ('0.323630136804811', '8.63065442641115')}],\n",
       " [{'1974-Aug-19 10:19': ('0.308502575375056', '16.7483015880144')}],\n",
       " [{'1983-Feb-10 09:46': ('0.115344055028848', '12.5806346841051')}],\n",
       " [{'1983-Nov-09 17:26': ('0.425800479607481', '5.97230670909321')}],\n",
       " [{'1984-Aug-12 03:31': ('0.0847363031259403', '11.489422333024')}],\n",
       " [{'1993-Feb-01 13:22': ('0.346996327324195', '18.1845251032947')}],\n",
       " [{'1994-Jan-31 20:34': ('0.319074426857675', '9.12758252626171')}],\n",
       " [{'1994-Aug-12 08:51': ('0.152657234816859', '8.82117782289496')}],\n",
       " [{'1995-Aug-27 00:33': ('0.499060950452221', '21.8190239424526')}],\n",
       " [{'2004-Feb-16 00:03': ('0.0853947818056851', '9.46969583863441')}],\n",
       " [{'2004-Sep-11 17:15': ('0.351649980601254', '8.40910462089143')}],\n",
       " [{'2005-Aug-18 01:17': ('0.272778402636983', '15.8446571631888')}],\n",
       " [{'2014-Feb-09 19:54': ('0.128577629925428', '12.8479062303346')}],\n",
       " [{'2014-Nov-13 20:20': ('0.426285651571884', '5.92173445514226')}],\n",
       " [{'2015-Aug-12 17:43': ('0.0780986282045395', '11.3441067633198')}],\n",
       " [{'2024-Feb-03 07:32': ('0.325646990877854', '17.6392732549482')}],\n",
       " [{'2025-Jan-24 12:32': ('0.340233086255518', '8.94277361692897')}],\n",
       " [{'2025-Aug-11 08:14': ('0.128602225217771', '8.94013958890989')}],\n",
       " [{'2035-Feb-16 07:55': ('0.140210044026955', '9.07814146337815')}],\n",
       " [{'2035-Aug-31 20:04': ('0.311717018619845', '8.6883698020392')}],\n",
       " [{'2036-Aug-19 19:26': ('0.32832288511693', '17.2510417944644')}],\n",
       " [{'2045-Feb-11 21:19': ('0.062826930977001', '11.4948249532751')}],\n",
       " [{'2045-Oct-21 16:38': ('0.418418069561155', '6.54078567592612')}],\n",
       " [{'2046-Aug-14 05:08': ('0.13528872640242', '12.6060745099927')}],\n",
       " [{'2055-Feb-04 10:54': ('0.291833546799789', '16.7428147272458')}],\n",
       " [{'2056-Jan-15 17:31': ('0.363071789291917', '8.55524048648872')}],\n",
       " [{'2056-Aug-10 17:51': ('0.102700932073734', '9.14278718665657')}],\n",
       " [{'2066-Feb-16 01:34': ('0.126787330034541', '9.14973316570894')}],\n",
       " [{'2066-Sep-03 03:59': ('0.323145844655778', '8.63929231350525')}],\n",
       " [{'2067-Aug-20 03:53': ('0.310119613183789', '16.7971955040902')}],\n",
       " [{'2076-Feb-11 00:41': ('0.113728256358394', '12.5245493798062')}],\n",
       " [{'2076-Nov-09 07:37': ('0.425894822737', '5.94339192388889')}],\n",
       " [{'2077-Aug-12 16:55': ('0.0863488440061117', '11.5363906029323')}],\n",
       " [{'2086-Feb-02 07:19': ('0.344405861951167', '18.1197283096121')}],\n",
       " [{'2087-Jan-30 19:25': ('0.321063998198175', '9.09099463027504')}],\n",
       " [{'2087-Aug-12 11:11': ('0.149034035010326', '8.82985659357944')}],\n",
       " [{'2097-Feb-15 10:37': ('0.0904284188726775', '9.4181937910634')}],\n",
       " [{'2097-Sep-10 18:26': ('0.348971443984616', '8.4429727206322')}],\n",
       " [{'2098-Aug-18 19:47': ('0.278295281878863', '15.9764569012917')}]]"
      ]
     },
     "execution_count": 275,
     "metadata": {},
     "output_type": "execute_result"
    }
   ],
   "source": [
    "db['444004']"
   ]
  },
  {
   "cell_type": "code",
   "execution_count": 259,
   "metadata": {},
   "outputs": [],
   "source": [
    "# df2 = pd.DataFrame.from_dict(data = cc['data'])\n",
    "# df2.columns=cc['fields']\n",
    "# df2.loc[df2['des']==\"433\"].head(5)\n",
    "# #len(df2)"
   ]
  },
  {
   "cell_type": "markdown",
   "metadata": {},
   "source": [
    "### Encapsulate the data in a `NEODatabase`"
   ]
  },
  {
   "cell_type": "code",
   "execution_count": null,
   "metadata": {},
   "outputs": [],
   "source": [
    "\"\"\"A database encapsulating collections of near-Earth objects and their close approaches.\n",
    "\n",
    "A `NEODatabase` holds an interconnected data set of NEOs and close approaches.\n",
    "It provides methods to fetch an NEO by primary designation or by name, as well\n",
    "as a method to query the set of close approaches that match a collection of\n",
    "user-specified criteria.\n",
    "\n",
    "Under normal circumstances, the main module creates one NEODatabase from the\n",
    "data on NEOs and close approaches extracted by `extract.load_neos` and\n",
    "`extract.load_approaches`.\n",
    "\n",
    "\"\"\"\n",
    "#from extract import load_neos, load_approaches\n",
    "\n",
    "class NEODatabase:\n",
    "    \"\"\"A database of near-Earth objects and their close approaches.\n",
    "\n",
    "    A `NEODatabase` contains a collection of NEOs and a collection of close\n",
    "    approaches. It additionally maintains a few auxiliary data structures to\n",
    "    help fetch NEOs by primary designation or by name and to help speed up\n",
    "    querying for close approaches that match criteria.\n",
    "    \"\"\"\n",
    "    def __init__(self, neos, approaches):\n",
    "        \"\"\"Create a new `NEODatabase`.\n",
    "\n",
    "        As a precondition, this constructor assumes that the collections of NEOs\n",
    "        and close approaches haven't yet been linked - that is, the\n",
    "        `.approaches` attribute of each `NearEarthObject` resolves to an empty\n",
    "        collection, and the `.neo` attribute of each `CloseApproach` is None.\n",
    "\n",
    "        However, each `CloseApproach` has an attribute (`._designation`) that\n",
    "        matches the `.designation` attribute of the corresponding NEO. This\n",
    "        constructor modifies the supplied NEOs and close approaches to link them\n",
    "        together - after it's done, the `.approaches` attribute of each NEO has\n",
    "        a collection of that NEO's close approaches, and the `.neo` attribute of\n",
    "        each close approach references the appropriate NEO.\n",
    "\n",
    "        :param neos: A collection of `NearEarthObject`s.\n",
    "        :param approaches: A collection of `CloseApproach`es.\n",
    "        \"\"\"\n",
    "        self._neos = neos\n",
    "        self._approaches = approaches\n",
    "        \n",
    "        \n",
    "        \n",
    "\n",
    "        # TODO: What additional auxiliary data structures will be useful?\n",
    "# dict? {k:j}\n",
    "        # TODO: Link together the NEOs and their close approaches.\n",
    "\n",
    "    def get_neo_by_designation(self, designation):\n",
    "        \"\"\"Find and return an NEO by its primary designation.\n",
    "\n",
    "        If no match is found, return `None` instead.\n",
    "\n",
    "        Each NEO in the data set has a unique primary designation, as a string.\n",
    "\n",
    "        The matching is exact - check for spelling and capitalization if no\n",
    "        match is found.\n",
    "\n",
    "        :param designation: The primary designation of the NEO to search for.\n",
    "        :return: The `NearEarthObject` with the desired primary designation, or `None`.\n",
    "        \"\"\"\n",
    "        # TODO: Fetch an NEO by its primary designation.\n",
    "        return None\n",
    "\n",
    "    def get_neo_by_name(self, name):\n",
    "        \"\"\"Find and return an NEO by its name.\n",
    "\n",
    "        If no match is found, return `None` instead.\n",
    "\n",
    "        Not every NEO in the data set has a name. No NEOs are associated with\n",
    "        the empty string nor with the `None` singleton.\n",
    "\n",
    "        The matching is exact - check for spelling and capitalization if no\n",
    "        match is found.\n",
    "\n",
    "        :param name: The name, as a string, of the NEO to search for.\n",
    "        :return: The `NearEarthObject` with the desired name, or `None`.\n",
    "        \"\"\"\n",
    "        # TODO: Fetch an NEO by its name.\n",
    "        return None\n",
    "\n",
    "    def query(self, filters=()):\n",
    "        \"\"\"Query close approaches to generate those that match a collection of filters.\n",
    "\n",
    "        This generates a stream of `CloseApproach` objects that match all of the\n",
    "        provided filters.\n",
    "\n",
    "        If no arguments are provided, generate all known close approaches.\n",
    "\n",
    "        The `CloseApproach` objects are generated in internal order, which isn't\n",
    "        guaranteed to be sorted meaninfully, although is often sorted by time.\n",
    "\n",
    "        :param filters: A collection of filters capturing user-specified criteria.\n",
    "        :return: A stream of matching `CloseApproach` objects.\n",
    "        \"\"\"\n",
    "        # TODO: Generate `CloseApproach` objects that match all of the filters.\n",
    "        for approach in self._approaches:\n",
    "            yield approach\n"
   ]
  },
  {
   "cell_type": "code",
   "execution_count": null,
   "metadata": {},
   "outputs": [],
   "source": []
  },
  {
   "cell_type": "code",
   "execution_count": null,
   "metadata": {},
   "outputs": [],
   "source": []
  },
  {
   "cell_type": "code",
   "execution_count": null,
   "metadata": {},
   "outputs": [],
   "source": []
  },
  {
   "cell_type": "code",
   "execution_count": null,
   "metadata": {},
   "outputs": [],
   "source": []
  },
  {
   "cell_type": "code",
   "execution_count": null,
   "metadata": {},
   "outputs": [],
   "source": []
  },
  {
   "cell_type": "code",
   "execution_count": null,
   "metadata": {},
   "outputs": [],
   "source": []
  },
  {
   "cell_type": "markdown",
   "metadata": {},
   "source": [
    "### Example of class methods to dynamically create new classes:"
   ]
  },
  {
   "cell_type": "code",
   "execution_count": 611,
   "metadata": {},
   "outputs": [
    {
     "name": "stdout",
     "output_type": "stream",
     "text": [
      "chihuahua-terrier Mix\n"
     ]
    }
   ],
   "source": [
    "class Dog():\n",
    "\n",
    "    def __init__(self, name:str, age:int, breed:str, weight:int):\n",
    "        \"\"\"Create a new dog\"\"\"\n",
    "        self.breed = breed\n",
    "        self.weight = weight\n",
    "        self.name = name\n",
    "        self.age = age\n",
    "        \n",
    "    def __gt__(self, other):\n",
    "        return self.age > other.age\n",
    "    \n",
    "    def __str__(self):\n",
    "        return str(self.name)\n",
    "    \n",
    "    def speak(self) -> None:\n",
    "        \"\"\"Make the dog bark\"\"\"\n",
    "        print(f'{self.name} says, \"woof\"')\n",
    "    @classmethod    \n",
    "    def spawn(cls, name, mother, father):\n",
    "        breed = mother.breed\n",
    "        if mother.breed != father.breed:\n",
    "            breed = f'{mother.breed}-{father.breed} Mix'\n",
    "        weight = (mother.weight + father.weight) / (2 * 10)\n",
    "        return cls(name, 0, breed, weight)\n",
    "\n",
    "if __name__ == \"__main__\":\n",
    "    sally = Dog('Sally', 6, 'chihuahua', 7)\n",
    "    henry = Dog('Henry', 7, 'terrier', 15)\n",
    "    trixy = Dog.spawn('Trixy', sally, henry)\n",
    "    print(trixy.breed)"
   ]
  },
  {
   "cell_type": "code",
   "execution_count": 612,
   "metadata": {},
   "outputs": [
    {
     "data": {
      "text/plain": [
       "1.1"
      ]
     },
     "execution_count": 612,
     "metadata": {},
     "output_type": "execute_result"
    }
   ],
   "source": [
    "trixy.weight"
   ]
  },
  {
   "cell_type": "code",
   "execution_count": 618,
   "metadata": {},
   "outputs": [
    {
     "data": {
      "text/plain": [
       "831.8333333333334"
      ]
     },
     "execution_count": 618,
     "metadata": {},
     "output_type": "execute_result"
    }
   ],
   "source": [
    "(9257+725) / 12"
   ]
  },
  {
   "cell_type": "code",
   "execution_count": 621,
   "metadata": {},
   "outputs": [
    {
     "data": {
      "text/plain": [
       "2388"
      ]
     },
     "execution_count": 621,
     "metadata": {},
     "output_type": "execute_result"
    }
   ],
   "source": [
    "199 * 12\n"
   ]
  },
  {
   "cell_type": "code",
   "execution_count": 622,
   "metadata": {},
   "outputs": [
    {
     "data": {
      "text/plain": [
       "39"
      ]
     },
     "execution_count": 622,
     "metadata": {},
     "output_type": "execute_result"
    }
   ],
   "source": [
    "18 + 16 + 5"
   ]
  },
  {
   "cell_type": "code",
   "execution_count": null,
   "metadata": {},
   "outputs": [],
   "source": []
  }
 ],
 "metadata": {
  "kernelspec": {
   "display_name": "Python 3",
   "language": "python",
   "name": "python3"
  },
  "language_info": {
   "codemirror_mode": {
    "name": "ipython",
    "version": 3
   },
   "file_extension": ".py",
   "mimetype": "text/x-python",
   "name": "python",
   "nbconvert_exporter": "python",
   "pygments_lexer": "ipython3",
   "version": "3.8.3"
  }
 },
 "nbformat": 4,
 "nbformat_minor": 4
}
