{
 "cells": [
  {
   "cell_type": "code",
   "execution_count": 130,
   "metadata": {},
   "outputs": [],
   "source": [
    "import pandas as pd\n",
    "import numpy as np\n",
    "import matplotlib.pyplot as plt\n",
    "import json\n",
    "import os\n",
    "plt.style.use('ggplot')\n",
    "%matplotlib inline"
   ]
  },
  {
   "cell_type": "markdown",
   "metadata": {},
   "source": [
    "# Load both datasets for visual EDA"
   ]
  },
  {
   "cell_type": "code",
   "execution_count": 123,
   "metadata": {},
   "outputs": [],
   "source": [
    "neos_df = pd.read_csv('data/neos.csv', low_memory=False)"
   ]
  },
  {
   "cell_type": "code",
   "execution_count": 124,
   "metadata": {},
   "outputs": [
    {
     "data": {
      "text/html": [
       "<div>\n",
       "<style scoped>\n",
       "    .dataframe tbody tr th:only-of-type {\n",
       "        vertical-align: middle;\n",
       "    }\n",
       "\n",
       "    .dataframe tbody tr th {\n",
       "        vertical-align: top;\n",
       "    }\n",
       "\n",
       "    .dataframe thead th {\n",
       "        text-align: right;\n",
       "    }\n",
       "</style>\n",
       "<table border=\"1\" class=\"dataframe\">\n",
       "  <thead>\n",
       "    <tr style=\"text-align: right;\">\n",
       "      <th></th>\n",
       "      <th>id</th>\n",
       "      <th>spkid</th>\n",
       "      <th>full_name</th>\n",
       "      <th>pdes</th>\n",
       "      <th>name</th>\n",
       "      <th>prefix</th>\n",
       "      <th>neo</th>\n",
       "      <th>pha</th>\n",
       "      <th>H</th>\n",
       "      <th>G</th>\n",
       "      <th>...</th>\n",
       "      <th>n_obs_used</th>\n",
       "      <th>n_del_obs_used</th>\n",
       "      <th>n_dop_obs_used</th>\n",
       "      <th>condition_code</th>\n",
       "      <th>rms</th>\n",
       "      <th>two_body</th>\n",
       "      <th>A1</th>\n",
       "      <th>A2</th>\n",
       "      <th>A3</th>\n",
       "      <th>DT</th>\n",
       "    </tr>\n",
       "  </thead>\n",
       "  <tbody>\n",
       "    <tr>\n",
       "      <th>0</th>\n",
       "      <td>a0000433</td>\n",
       "      <td>2000433</td>\n",
       "      <td>433 Eros (A898 PA)</td>\n",
       "      <td>433</td>\n",
       "      <td>Eros</td>\n",
       "      <td>NaN</td>\n",
       "      <td>Y</td>\n",
       "      <td>N</td>\n",
       "      <td>10.4</td>\n",
       "      <td>0.46</td>\n",
       "      <td>...</td>\n",
       "      <td>8767</td>\n",
       "      <td>4.0</td>\n",
       "      <td>2.0</td>\n",
       "      <td>0.0</td>\n",
       "      <td>0.28397</td>\n",
       "      <td>NaN</td>\n",
       "      <td>NaN</td>\n",
       "      <td>NaN</td>\n",
       "      <td>NaN</td>\n",
       "      <td>NaN</td>\n",
       "    </tr>\n",
       "    <tr>\n",
       "      <th>1</th>\n",
       "      <td>a0000719</td>\n",
       "      <td>2000719</td>\n",
       "      <td>719 Albert (A911 TB)</td>\n",
       "      <td>719</td>\n",
       "      <td>Albert</td>\n",
       "      <td>NaN</td>\n",
       "      <td>Y</td>\n",
       "      <td>N</td>\n",
       "      <td>15.5</td>\n",
       "      <td>NaN</td>\n",
       "      <td>...</td>\n",
       "      <td>1874</td>\n",
       "      <td>NaN</td>\n",
       "      <td>NaN</td>\n",
       "      <td>0.0</td>\n",
       "      <td>0.39148</td>\n",
       "      <td>NaN</td>\n",
       "      <td>NaN</td>\n",
       "      <td>NaN</td>\n",
       "      <td>NaN</td>\n",
       "      <td>NaN</td>\n",
       "    </tr>\n",
       "    <tr>\n",
       "      <th>2</th>\n",
       "      <td>a0000887</td>\n",
       "      <td>2000887</td>\n",
       "      <td>887 Alinda (A918 AA)</td>\n",
       "      <td>887</td>\n",
       "      <td>Alinda</td>\n",
       "      <td>NaN</td>\n",
       "      <td>Y</td>\n",
       "      <td>N</td>\n",
       "      <td>13.8</td>\n",
       "      <td>-0.12</td>\n",
       "      <td>...</td>\n",
       "      <td>1424</td>\n",
       "      <td>NaN</td>\n",
       "      <td>NaN</td>\n",
       "      <td>0.0</td>\n",
       "      <td>0.48159</td>\n",
       "      <td>NaN</td>\n",
       "      <td>NaN</td>\n",
       "      <td>NaN</td>\n",
       "      <td>NaN</td>\n",
       "      <td>NaN</td>\n",
       "    </tr>\n",
       "    <tr>\n",
       "      <th>3</th>\n",
       "      <td>a0001036</td>\n",
       "      <td>2001036</td>\n",
       "      <td>1036 Ganymed (A924 UB)</td>\n",
       "      <td>1036</td>\n",
       "      <td>Ganymed</td>\n",
       "      <td>NaN</td>\n",
       "      <td>Y</td>\n",
       "      <td>N</td>\n",
       "      <td>9.4</td>\n",
       "      <td>0.30</td>\n",
       "      <td>...</td>\n",
       "      <td>6249</td>\n",
       "      <td>0.0</td>\n",
       "      <td>1.0</td>\n",
       "      <td>0.0</td>\n",
       "      <td>0.38525</td>\n",
       "      <td>NaN</td>\n",
       "      <td>NaN</td>\n",
       "      <td>NaN</td>\n",
       "      <td>NaN</td>\n",
       "      <td>NaN</td>\n",
       "    </tr>\n",
       "    <tr>\n",
       "      <th>4</th>\n",
       "      <td>a0001221</td>\n",
       "      <td>2001221</td>\n",
       "      <td>1221 Amor (1932 EA1)</td>\n",
       "      <td>1221</td>\n",
       "      <td>Amor</td>\n",
       "      <td>NaN</td>\n",
       "      <td>Y</td>\n",
       "      <td>N</td>\n",
       "      <td>17.7</td>\n",
       "      <td>NaN</td>\n",
       "      <td>...</td>\n",
       "      <td>540</td>\n",
       "      <td>NaN</td>\n",
       "      <td>NaN</td>\n",
       "      <td>0.0</td>\n",
       "      <td>0.45568</td>\n",
       "      <td>NaN</td>\n",
       "      <td>NaN</td>\n",
       "      <td>NaN</td>\n",
       "      <td>NaN</td>\n",
       "      <td>NaN</td>\n",
       "    </tr>\n",
       "  </tbody>\n",
       "</table>\n",
       "<p>5 rows × 75 columns</p>\n",
       "</div>"
      ],
      "text/plain": [
       "         id    spkid                 full_name  pdes     name prefix neo pha  \\\n",
       "0  a0000433  2000433        433 Eros (A898 PA)   433     Eros    NaN   Y   N   \n",
       "1  a0000719  2000719      719 Albert (A911 TB)   719   Albert    NaN   Y   N   \n",
       "2  a0000887  2000887      887 Alinda (A918 AA)   887   Alinda    NaN   Y   N   \n",
       "3  a0001036  2001036    1036 Ganymed (A924 UB)  1036  Ganymed    NaN   Y   N   \n",
       "4  a0001221  2001221      1221 Amor (1932 EA1)  1221     Amor    NaN   Y   N   \n",
       "\n",
       "      H     G  ...  n_obs_used  n_del_obs_used  n_dop_obs_used  \\\n",
       "0  10.4  0.46  ...        8767             4.0             2.0   \n",
       "1  15.5   NaN  ...        1874             NaN             NaN   \n",
       "2  13.8 -0.12  ...        1424             NaN             NaN   \n",
       "3   9.4  0.30  ...        6249             0.0             1.0   \n",
       "4  17.7   NaN  ...         540             NaN             NaN   \n",
       "\n",
       "   condition_code      rms  two_body  A1  A2  A3  DT  \n",
       "0             0.0  0.28397       NaN NaN NaN NaN NaN  \n",
       "1             0.0  0.39148       NaN NaN NaN NaN NaN  \n",
       "2             0.0  0.48159       NaN NaN NaN NaN NaN  \n",
       "3             0.0  0.38525       NaN NaN NaN NaN NaN  \n",
       "4             0.0  0.45568       NaN NaN NaN NaN NaN  \n",
       "\n",
       "[5 rows x 75 columns]"
      ]
     },
     "execution_count": 124,
     "metadata": {},
     "output_type": "execute_result"
    }
   ],
   "source": [
    "neos_df.head()"
   ]
  },
  {
   "cell_type": "code",
   "execution_count": 26,
   "metadata": {},
   "outputs": [],
   "source": [
    "with open('data/cad.json') as json_data:\n",
    "    cad_dict = json.load(json_data)"
   ]
  },
  {
   "cell_type": "code",
   "execution_count": 21,
   "metadata": {},
   "outputs": [],
   "source": [
    "cad_df = pd.DataFrame.from_dict(cad_dict['data']) #, orient='index').T.set_index('index')"
   ]
  },
  {
   "cell_type": "code",
   "execution_count": 27,
   "metadata": {},
   "outputs": [],
   "source": [
    "cad_df.columns = list(cad_dict['fields'])"
   ]
  },
  {
   "cell_type": "code",
   "execution_count": 29,
   "metadata": {},
   "outputs": [
    {
     "data": {
      "text/html": [
       "<div>\n",
       "<style scoped>\n",
       "    .dataframe tbody tr th:only-of-type {\n",
       "        vertical-align: middle;\n",
       "    }\n",
       "\n",
       "    .dataframe tbody tr th {\n",
       "        vertical-align: top;\n",
       "    }\n",
       "\n",
       "    .dataframe thead th {\n",
       "        text-align: right;\n",
       "    }\n",
       "</style>\n",
       "<table border=\"1\" class=\"dataframe\">\n",
       "  <thead>\n",
       "    <tr style=\"text-align: right;\">\n",
       "      <th></th>\n",
       "      <th>des</th>\n",
       "      <th>orbit_id</th>\n",
       "      <th>jd</th>\n",
       "      <th>cd</th>\n",
       "      <th>dist</th>\n",
       "      <th>dist_min</th>\n",
       "      <th>dist_max</th>\n",
       "      <th>v_rel</th>\n",
       "      <th>v_inf</th>\n",
       "      <th>t_sigma_f</th>\n",
       "      <th>h</th>\n",
       "    </tr>\n",
       "  </thead>\n",
       "  <tbody>\n",
       "    <tr>\n",
       "      <th>0</th>\n",
       "      <td>170903</td>\n",
       "      <td>105</td>\n",
       "      <td>2415020.507669610</td>\n",
       "      <td>1900-Jan-01 00:11</td>\n",
       "      <td>0.0921795123769547</td>\n",
       "      <td>0.0912006569517418</td>\n",
       "      <td>0.0931589328621254</td>\n",
       "      <td>16.7523040362574</td>\n",
       "      <td>16.7505784933163</td>\n",
       "      <td>01:00</td>\n",
       "      <td>18.1</td>\n",
       "    </tr>\n",
       "    <tr>\n",
       "      <th>1</th>\n",
       "      <td>2005 OE3</td>\n",
       "      <td>52</td>\n",
       "      <td>2415020.606013490</td>\n",
       "      <td>1900-Jan-01 02:33</td>\n",
       "      <td>0.414975519685102</td>\n",
       "      <td>0.414968315685577</td>\n",
       "      <td>0.414982724454678</td>\n",
       "      <td>17.918395877175</td>\n",
       "      <td>17.9180375373357</td>\n",
       "      <td>&lt; 00:01</td>\n",
       "      <td>20.3</td>\n",
       "    </tr>\n",
       "    <tr>\n",
       "      <th>2</th>\n",
       "      <td>2006 XO4</td>\n",
       "      <td>15</td>\n",
       "      <td>2415020.634068074</td>\n",
       "      <td>1900-Jan-01 03:13</td>\n",
       "      <td>0.114291499199114</td>\n",
       "      <td>0.114272705486348</td>\n",
       "      <td>0.114310301346124</td>\n",
       "      <td>7.39720266467069</td>\n",
       "      <td>7.3940503943318</td>\n",
       "      <td>00:23</td>\n",
       "      <td>23.4</td>\n",
       "    </tr>\n",
       "    <tr>\n",
       "      <th>3</th>\n",
       "      <td>7088</td>\n",
       "      <td>233</td>\n",
       "      <td>2415020.709345747</td>\n",
       "      <td>1900-Jan-01 05:01</td>\n",
       "      <td>0.237367466253556</td>\n",
       "      <td>0.237366346954997</td>\n",
       "      <td>0.237368585559926</td>\n",
       "      <td>4.78123058453747</td>\n",
       "      <td>4.77888225987132</td>\n",
       "      <td>&lt; 00:01</td>\n",
       "      <td>16.7</td>\n",
       "    </tr>\n",
       "    <tr>\n",
       "      <th>4</th>\n",
       "      <td>2017 EE23</td>\n",
       "      <td>6</td>\n",
       "      <td>2415020.802629888</td>\n",
       "      <td>1900-Jan-01 07:16</td>\n",
       "      <td>0.388708125934362</td>\n",
       "      <td>0.380148975861157</td>\n",
       "      <td>0.40205426614884</td>\n",
       "      <td>9.93428771818077</td>\n",
       "      <td>9.93359768958909</td>\n",
       "      <td>7_06:11</td>\n",
       "      <td>21.7</td>\n",
       "    </tr>\n",
       "  </tbody>\n",
       "</table>\n",
       "</div>"
      ],
      "text/plain": [
       "         des orbit_id                 jd                 cd  \\\n",
       "0     170903      105  2415020.507669610  1900-Jan-01 00:11   \n",
       "1   2005 OE3       52  2415020.606013490  1900-Jan-01 02:33   \n",
       "2   2006 XO4       15  2415020.634068074  1900-Jan-01 03:13   \n",
       "3       7088      233  2415020.709345747  1900-Jan-01 05:01   \n",
       "4  2017 EE23        6  2415020.802629888  1900-Jan-01 07:16   \n",
       "\n",
       "                 dist            dist_min            dist_max  \\\n",
       "0  0.0921795123769547  0.0912006569517418  0.0931589328621254   \n",
       "1   0.414975519685102   0.414968315685577   0.414982724454678   \n",
       "2   0.114291499199114   0.114272705486348   0.114310301346124   \n",
       "3   0.237367466253556   0.237366346954997   0.237368585559926   \n",
       "4   0.388708125934362   0.380148975861157    0.40205426614884   \n",
       "\n",
       "              v_rel             v_inf t_sigma_f     h  \n",
       "0  16.7523040362574  16.7505784933163     01:00  18.1  \n",
       "1   17.918395877175  17.9180375373357   < 00:01  20.3  \n",
       "2  7.39720266467069   7.3940503943318     00:23  23.4  \n",
       "3  4.78123058453747  4.77888225987132   < 00:01  16.7  \n",
       "4  9.93428771818077  9.93359768958909   7_06:11  21.7  "
      ]
     },
     "execution_count": 29,
     "metadata": {},
     "output_type": "execute_result"
    }
   ],
   "source": [
    "cad_df.head()"
   ]
  },
  {
   "cell_type": "markdown",
   "metadata": {},
   "source": [
    "# Suggested exploratory questions"
   ]
  },
  {
   "cell_type": "markdown",
   "metadata": {},
   "source": [
    "#### How many NEOs are in the neos.csv data set?"
   ]
  },
  {
   "cell_type": "code",
   "execution_count": 33,
   "metadata": {},
   "outputs": [
    {
     "data": {
      "text/plain": [
       "23967"
      ]
     },
     "execution_count": 33,
     "metadata": {},
     "output_type": "execute_result"
    }
   ],
   "source": [
    "len(neos_df)"
   ]
  },
  {
   "cell_type": "markdown",
   "metadata": {},
   "source": [
    "#### What is the primary designation of the first Near Earth Object in the neos.csv data set?"
   ]
  },
  {
   "cell_type": "code",
   "execution_count": 41,
   "metadata": {},
   "outputs": [
    {
     "data": {
      "text/plain": [
       "'433'"
      ]
     },
     "execution_count": 41,
     "metadata": {},
     "output_type": "execute_result"
    }
   ],
   "source": [
    "neos_df.pdes[0]"
   ]
  },
  {
   "cell_type": "markdown",
   "metadata": {},
   "source": [
    "#### What is the diameter of the NEO whose name is \"Apollo\"?"
   ]
  },
  {
   "cell_type": "code",
   "execution_count": 53,
   "metadata": {},
   "outputs": [
    {
     "data": {
      "text/plain": [
       "10    1.5\n",
       "Name: diameter, dtype: float64"
      ]
     },
     "execution_count": 53,
     "metadata": {},
     "output_type": "execute_result"
    }
   ],
   "source": [
    "neos_df.loc[neos_df.name=='Apollo'][\"diameter\"]"
   ]
  },
  {
   "cell_type": "markdown",
   "metadata": {},
   "source": [
    "#### How many NEOs have IAU names in the data set?"
   ]
  },
  {
   "cell_type": "code",
   "execution_count": 60,
   "metadata": {},
   "outputs": [
    {
     "data": {
      "text/plain": [
       "343"
      ]
     },
     "execution_count": 60,
     "metadata": {},
     "output_type": "execute_result"
    }
   ],
   "source": [
    "np.sum(neos_df.name.count())"
   ]
  },
  {
   "cell_type": "markdown",
   "metadata": {},
   "source": [
    "#### How many NEOs have diameters in the data set?"
   ]
  },
  {
   "cell_type": "code",
   "execution_count": 61,
   "metadata": {},
   "outputs": [
    {
     "data": {
      "text/plain": [
       "1268"
      ]
     },
     "execution_count": 61,
     "metadata": {},
     "output_type": "execute_result"
    }
   ],
   "source": [
    "np.sum(neos_df.diameter.count())"
   ]
  },
  {
   "cell_type": "markdown",
   "metadata": {},
   "source": [
    "#### How many close approaches are in the cad.json data set"
   ]
  },
  {
   "cell_type": "code",
   "execution_count": 62,
   "metadata": {},
   "outputs": [
    {
     "data": {
      "text/plain": [
       "406785"
      ]
     },
     "execution_count": 62,
     "metadata": {},
     "output_type": "execute_result"
    }
   ],
   "source": [
    "len(cad_df)"
   ]
  },
  {
   "cell_type": "markdown",
   "metadata": {},
   "source": [
    "#### On January 1st, 2000, how close did the NEO whose primary designation is \"2015 CL\" pass by Earth?"
   ]
  },
  {
   "cell_type": "code",
   "execution_count": 89,
   "metadata": {},
   "outputs": [
    {
     "data": {
      "text/plain": [
       "180844    0.144929602021186\n",
       "Name: dist, dtype: object"
      ]
     },
     "execution_count": 89,
     "metadata": {},
     "output_type": "execute_result"
    }
   ],
   "source": [
    "cad_df.loc[(cad_df.cd >\"1999-Dec-31\") & (cad_df.cd < \"2000-Jan-2\") & (cad_df.des == \"2015 CL\")].dist"
   ]
  },
  {
   "cell_type": "markdown",
   "metadata": {},
   "source": [
    "#### On January 1st, 2000, how fast did the NEO whose primary designation is \"2002 PB\" pass by Earth?"
   ]
  },
  {
   "cell_type": "code",
   "execution_count": 90,
   "metadata": {},
   "outputs": [
    {
     "data": {
      "text/plain": [
       "180845    29.3862908945476\n",
       "Name: v_rel, dtype: object"
      ]
     },
     "execution_count": 90,
     "metadata": {},
     "output_type": "execute_result"
    }
   ],
   "source": [
    "cad_df.loc[(cad_df.cd > \"1999-Dec-31\") & (cad_df.cd < \"2000-Jan-2\") & (cad_df.des == \"2002 PB\")].v_rel"
   ]
  },
  {
   "cell_type": "markdown",
   "metadata": {},
   "source": [
    "# Plots for better visual analysis"
   ]
  },
  {
   "cell_type": "code",
   "execution_count": 157,
   "metadata": {},
   "outputs": [
    {
     "data": {
      "image/png": "[encoded data removed]",
      "text/plain": [
       "<Figure size 864x288 with 1 Axes>"
      ]
     },
     "metadata": {
      "needs_background": "light"
     },
     "output_type": "display_data"
    }
   ],
   "source": [
    "ax = neos_df.loc[neos_df.pha == \"Y\"].plot.scatter('diameter', 'albedo', figsize=(12, 4))\n",
    "ax.set_title(\"Scatterplot for 'albedo' and 'diameter' of Potentially Hazardous Asteroids\")\n",
    "ax.set_xlim((0, 7))\n",
    "ax.set_ylim((0, 0.8))\n",
    "plt.show()"
   ]
  },
  {
   "cell_type": "code",
   "execution_count": 158,
   "metadata": {},
   "outputs": [
    {
     "data": {
      "image/png": "[encoded data removed]",
      "text/plain": [
       "<Figure size 864x144 with 1 Axes>"
      ]
     },
     "metadata": {
      "needs_background": "light"
     },
     "output_type": "display_data"
    }
   ],
   "source": [
    "ax = neos_df.loc[neos_df.pha ==\"Y\"].boxplot(column=\"diameter\", vert=False, figsize=(12, 2))\n",
    "ax.set_title (\"Boxplot for 'diameter' of Potentially Hazardous Asteroids\")\n",
    "plt.show()"
   ]
  },
  {
   "cell_type": "code",
   "execution_count": 159,
   "metadata": {
    "scrolled": true
   },
   "outputs": [
    {
     "data": {
      "image/png": "[encoded data removed]",
      "text/plain": [
       "<Figure size 864x144 with 1 Axes>"
      ]
     },
     "metadata": {
      "needs_background": "light"
     },
     "output_type": "display_data"
    }
   ],
   "source": [
    "ax = neos_df.loc[neos_df.pha ==\"Y\"].boxplot(column=\"albedo\", vert=False, figsize=(12, 2))\n",
    "ax.set_title (\"Boxplot for 'albedo' of Potentially Hazardous Asteroids\")\n",
    "plt.show()"
   ]
  },
  {
   "cell_type": "code",
   "execution_count": 167,
   "metadata": {},
   "outputs": [
    {
     "data": {
      "text/plain": [
       "Index(['des', 'orbit_id', 'jd', 'cd', 'dist', 'dist_min', 'dist_max', 'v_rel',\n",
       "       'v_inf', 't_sigma_f', 'h'],\n",
       "      dtype='object')"
      ]
     },
     "execution_count": 167,
     "metadata": {},
     "output_type": "execute_result"
    }
   ],
   "source": [
    "cad_df.columns"
   ]
  },
  {
   "cell_type": "code",
   "execution_count": 185,
   "metadata": {},
   "outputs": [
    {
     "data": {
      "image/png": "[encoded data removed]",
      "text/plain": [
       "<Figure size 864x144 with 1 Axes>"
      ]
     },
     "metadata": {
      "needs_background": "light"
     },
     "output_type": "display_data"
    }
   ],
   "source": [
    "cad_df['dist'] = pd.to_numeric(cad_df['dist'], errors='coerce')\n",
    "ax = cad_df.loc[(cad_df.cd >\"2001-Feb-25\") & (cad_df.cd < \"2002-Jan-1\")].boxplot(column='dist', vert=False, figsize=(12, 2))\n",
    "ax.set_title(\"Boxplot for 'dist' of Close Approaches Expected Soon\")\n",
    "plt.show()"
   ]
  },
  {
   "cell_type": "code",
   "execution_count": 360,
   "metadata": {},
   "outputs": [
    {
     "data": {
      "image/png": "[encoded data removed]",
      "text/plain": [
       "<Figure size 864x144 with 1 Axes>"
      ]
     },
     "metadata": {
      "needs_background": "light"
     },
     "output_type": "display_data"
    }
   ],
   "source": [
    "cad_df['v_rel'] = pd.to_numeric(cad_df['v_rel'], errors='coerce')\n",
    "ax = cad_df.loc[(cad_df.cd >\"2001-Feb-25\") & (cad_df.cd < \"2002-Jan-1\")].boxplot(column='v_rel', vert=False, figsize=(12, 2))\n",
    "ax.set_title(\"Boxplot for 'v_real' of Close Approaces Expected Soon\")\n",
    "plt.show()"
   ]
  },
  {
   "cell_type": "code",
   "execution_count": 306,
   "metadata": {},
   "outputs": [],
   "source": [
    "pha_neos_df = neos_df.loc[\n",
    "    (neos_df.pha == \"Y\") & \n",
    "    (neos_df.albedo > 0.05) & \n",
    "    (neos_df.diameter >0.05)].set_index('pdes')\n",
    "pha_neos_df = pha_neos_df[['name','diameter', 'albedo']]"
   ]
  },
  {
   "cell_type": "code",
   "execution_count": 307,
   "metadata": {},
   "outputs": [],
   "source": [
    "exp_cad_df = cad_df.loc[(cad_df.cd > \"2001-Feb-25\") & (cad_df.cd < \"2002-Jan-1\")].set_index('des')\n",
    "exp_cad_df = exp_cad_df[['dist', 'dist_min', 'dist_max', 'v_rel']]"
   ]
  },
  {
   "cell_type": "code",
   "execution_count": 332,
   "metadata": {},
   "outputs": [],
   "source": [
    "exp_pha_df = pha_neos_df.join(exp_cad_df, how='inner')\n",
    "exp_pha_df.diameter = exp_pha_df.diameter * 500\n",
    "exp_pha_df.albedo = 1 / exp_pha_df.albedo"
   ]
  },
  {
   "cell_type": "code",
   "execution_count": 359,
   "metadata": {
    "scrolled": true
   },
   "outputs": [
    {
     "data": {
      "image/png": "[encoded data removed]",
      "text/plain": [
       "<Figure size 864x288 with 1 Axes>"
      ]
     },
     "metadata": {
      "needs_background": "light"
     },
     "output_type": "display_data"
    }
   ],
   "source": [
    "fig, ax = plt.subplots(figsize=(12, 4))\n",
    "ax.scatter('dist', 'v_rel', s='diameter', c='albedo', cmap=\"binary\",  data=exp_pha_df, alpha=0.8)\n",
    "ax.set_xlabel('distance')\n",
    "ax.set_ylabel('speed')\n",
    "ax.set_title(\"Close Approaches Expected Soon: Size and Brightness\")\n",
    "ax.grid(True)\n",
    "fig.tight_layout()\n",
    "plt.show()"
   ]
  },
  {
   "cell_type": "code",
   "execution_count": null,
   "metadata": {},
   "outputs": [],
   "source": []
  }
 ],
 "metadata": {
  "kernelspec": {
   "display_name": "Python 3",
   "language": "python",
   "name": "python3"
  },
  "language_info": {
   "codemirror_mode": {
    "name": "ipython",
    "version": 3
   },
   "file_extension": ".py",
   "mimetype": "text/x-python",
   "name": "python",
   "nbconvert_exporter": "python",
   "pygments_lexer": "ipython3",
   "version": "3.8.3"
  }
 },
 "nbformat": 4,
 "nbformat_minor": 4
}
