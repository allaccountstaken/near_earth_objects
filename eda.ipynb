{
 "cells": [
  {
   "cell_type": "code",
   "execution_count": 130,
   "metadata": {},
   "outputs": [],
   "source": [
    "import pandas as pd\n",
    "import numpy as np\n",
    "import matplotlib.pyplot as plt\n",
    "import json\n",
    "import os\n",
    "plt.style.use('ggplot')\n",
    "%matplotlib inline"
   ]
  },
  {
   "cell_type": "markdown",
   "metadata": {},
   "source": [
    "# Load both datasets for visual EDA"
   ]
  },
  {
   "cell_type": "code",
   "execution_count": 123,
   "metadata": {},
   "outputs": [],
   "source": [
    "neos_df = pd.read_csv('data/neos.csv', low_memory=False)"
   ]
  },
  {
   "cell_type": "code",
   "execution_count": 26,
   "metadata": {},
   "outputs": [],
   "source": [
    "with open('data/cad.json') as json_data:\n",
    "    cad_dict = json.load(json_data)"
   ]
  },
  {
   "cell_type": "code",
   "execution_count": 21,
   "metadata": {},
   "outputs": [],
   "source": [
    "cad_df = pd.DataFrame.from_dict(cad_dict['data']) #, orient='index').T.set_index('index')"
   ]
  },
  {
   "cell_type": "code",
   "execution_count": 27,
   "metadata": {},
   "outputs": [],
   "source": [
    "cad_df.columns = list(cad_dict['fields'])"
   ]
  },
  {
   "cell_type": "markdown",
   "metadata": {},
   "source": [
    "# Suggested exploratory questions"
   ]
  },
  {
   "cell_type": "markdown",
   "metadata": {},
   "source": [
    "#### How many NEOs are in the neos.csv data set?"
   ]
  },
  {
   "cell_type": "code",
   "execution_count": 33,
   "metadata": {},
   "outputs": [
    {
     "data": {
      "text/plain": [
       "23967"
      ]
     },
     "execution_count": 33,
     "metadata": {},
     "output_type": "execute_result"
    }
   ],
   "source": [
    "len(neos_df)"
   ]
  },
  {
   "cell_type": "markdown",
   "metadata": {},
   "source": [
    "#### What is the primary designation of the first Near Earth Object in the neos.csv data set?"
   ]
  },
  {
   "cell_type": "code",
   "execution_count": 41,
   "metadata": {},
   "outputs": [
    {
     "data": {
      "text/plain": [
       "'433'"
      ]
     },
     "execution_count": 41,
     "metadata": {},
     "output_type": "execute_result"
    }
   ],
   "source": [
    "neos_df.pdes[0]"
   ]
  },
  {
   "cell_type": "markdown",
   "metadata": {},
   "source": [
    "#### What is the diameter of the NEO whose name is \"Apollo\"?"
   ]
  },
  {
   "cell_type": "code",
   "execution_count": 53,
   "metadata": {},
   "outputs": [
    {
     "data": {
      "text/plain": [
       "10    1.5\n",
       "Name: diameter, dtype: float64"
      ]
     },
     "execution_count": 53,
     "metadata": {},
     "output_type": "execute_result"
    }
   ],
   "source": [
    "neos_df.loc[neos_df.name=='Apollo'][\"diameter\"]"
   ]
  },
  {
   "cell_type": "markdown",
   "metadata": {},
   "source": [
    "#### How many NEOs have IAU names in the data set?"
   ]
  },
  {
   "cell_type": "code",
   "execution_count": 60,
   "metadata": {},
   "outputs": [
    {
     "data": {
      "text/plain": [
       "343"
      ]
     },
     "execution_count": 60,
     "metadata": {},
     "output_type": "execute_result"
    }
   ],
   "source": [
    "np.sum(neos_df.name.count())"
   ]
  },
  {
   "cell_type": "markdown",
   "metadata": {},
   "source": [
    "#### How many NEOs have diameters in the data set?"
   ]
  },
  {
   "cell_type": "code",
   "execution_count": 61,
   "metadata": {},
   "outputs": [
    {
     "data": {
      "text/plain": [
       "1268"
      ]
     },
     "execution_count": 61,
     "metadata": {},
     "output_type": "execute_result"
    }
   ],
   "source": [
    "np.sum(neos_df.diameter.count())"
   ]
  },
  {
   "cell_type": "markdown",
   "metadata": {},
   "source": [
    "#### How many close approaches are in the cad.json data set"
   ]
  },
  {
   "cell_type": "code",
   "execution_count": 62,
   "metadata": {},
   "outputs": [
    {
     "data": {
      "text/plain": [
       "406785"
      ]
     },
     "execution_count": 62,
     "metadata": {},
     "output_type": "execute_result"
    }
   ],
   "source": [
    "len(cad_df)"
   ]
  },
  {
   "cell_type": "markdown",
   "metadata": {},
   "source": [
    "#### On January 1st, 2000, how close did the NEO whose primary designation is \"2015 CL\" pass by Earth?"
   ]
  },
  {
   "cell_type": "code",
   "execution_count": 89,
   "metadata": {},
   "outputs": [
    {
     "data": {
      "text/plain": [
       "180844    0.144929602021186\n",
       "Name: dist, dtype: object"
      ]
     },
     "execution_count": 89,
     "metadata": {},
     "output_type": "execute_result"
    }
   ],
   "source": [
    "cad_df.loc[(cad_df.cd >\"1999-Dec-31\") & (cad_df.cd < \"2000-Jan-2\") & (cad_df.des == \"2015 CL\")].dist"
   ]
  },
  {
   "cell_type": "markdown",
   "metadata": {},
   "source": [
    "#### On January 1st, 2000, how fast did the NEO whose primary designation is \"2002 PB\" pass by Earth?"
   ]
  },
  {
   "cell_type": "code",
   "execution_count": 90,
   "metadata": {},
   "outputs": [
    {
     "data": {
      "text/plain": [
       "180845    29.3862908945476\n",
       "Name: v_rel, dtype: object"
      ]
     },
     "execution_count": 90,
     "metadata": {},
     "output_type": "execute_result"
    }
   ],
   "source": [
    "cad_df.loc[(cad_df.cd > \"1999-Dec-31\") & (cad_df.cd < \"2000-Jan-2\") & (cad_df.des == \"2002 PB\")].v_rel"
   ]
  },
  {
   "cell_type": "markdown",
   "metadata": {},
   "source": [
    "# Plots for better visual analysis"
   ]
  },
  {
   "cell_type": "code",
   "execution_count": 362,
   "metadata": {},
   "outputs": [
    {
     "data": {
      "image/png": "[encoded data removed]",
      "text/plain": [
       "<Figure size 864x288 with 1 Axes>"
      ]
     },
     "metadata": {
      "needs_background": "light"
     },
     "output_type": "display_data"
    }
   ],
   "source": [
    "ax = neos_df.loc[neos_df.pha == \"Y\"].plot.scatter('diameter', 'albedo', figsize=(12, 4))\n",
    "ax.set_title(\"Scatterplot for 'albedo' and 'diameter' of Potentially Hazardous Asteroids\")\n",
    "ax.set_xlim((0, 7))\n",
    "ax.set_ylim((0, 0.8))\n",
    "plt.show()"
   ]
  },
  {
   "cell_type": "code",
   "execution_count": 363,
   "metadata": {},
   "outputs": [
    {
     "data": {
      "image/png": "[encoded data removed]",
      "text/plain": [
       "<Figure size 864x144 with 1 Axes>"
      ]
     },
     "metadata": {
      "needs_background": "light"
     },
     "output_type": "display_data"
    }
   ],
   "source": [
    "ax = neos_df.loc[neos_df.pha ==\"Y\"].boxplot(column=\"albedo\", vert=False, figsize=(12, 2))\n",
    "ax.set_title (\"Boxplot for 'albedo' of Potentially Hazardous Asteroids\")\n",
    "plt.show()"
   ]
  },
  {
   "cell_type": "code",
   "execution_count": 364,
   "metadata": {},
   "outputs": [
    {
     "data": {
      "image/png": "[encoded data removed]",
      "text/plain": [
       "<Figure size 864x144 with 1 Axes>"
      ]
     },
     "metadata": {
      "needs_background": "light"
     },
     "output_type": "display_data"
    }
   ],
   "source": [
    "ax = neos_df.loc[neos_df.pha ==\"Y\"].boxplot(column=\"diameter\", vert=False, figsize=(12, 2))\n",
    "ax.set_title (\"Boxplot for 'diameter' of Potentially Hazardous Asteroids\")\n",
    "plt.show()"
   ]
  },
  {
   "cell_type": "code",
   "execution_count": 185,
   "metadata": {},
   "outputs": [
    {
     "data": {
      "image/png": "[encoded data removed]",
      "text/plain": [
       "<Figure size 864x144 with 1 Axes>"
      ]
     },
     "metadata": {
      "needs_background": "light"
     },
     "output_type": "display_data"
    }
   ],
   "source": [
    "cad_df['dist'] = pd.to_numeric(cad_df['dist'], errors='coerce')\n",
    "ax = cad_df.loc[(cad_df.cd >\"2001-Feb-25\") & (cad_df.cd < \"2002-Jan-1\")].boxplot(column='dist', vert=False, figsize=(12, 2))\n",
    "ax.set_title(\"Boxplot for 'dist' of Close Approaches Expected Soon\")\n",
    "plt.show()"
   ]
  },
  {
   "cell_type": "code",
   "execution_count": 360,
   "metadata": {},
   "outputs": [
    {
     "data": {
      "image/png": "[encoded data removed]",
      "text/plain": [
       "<Figure size 864x144 with 1 Axes>"
      ]
     },
     "metadata": {
      "needs_background": "light"
     },
     "output_type": "display_data"
    }
   ],
   "source": [
    "cad_df['v_rel'] = pd.to_numeric(cad_df['v_rel'], errors='coerce')\n",
    "ax = cad_df.loc[(cad_df.cd >\"2001-Feb-25\") & (cad_df.cd < \"2002-Jan-1\")].boxplot(column='v_rel', vert=False, figsize=(12, 2))\n",
    "ax.set_title(\"Boxplot for 'v_real' of Close Approaces Expected Soon\")\n",
    "plt.show()"
   ]
  },
  {
   "cell_type": "code",
   "execution_count": 367,
   "metadata": {},
   "outputs": [],
   "source": [
    "pha_neos_df = neos_df.loc[\n",
    "    (neos_df.pha == \"Y\") & \n",
    "    (neos_df.albedo > 0.05) & \n",
    "    (neos_df.diameter >0.05)].set_index('pdes')\n",
    "pha_neos_df = pha_neos_df[['name','diameter', 'albedo']]"
   ]
  },
  {
   "cell_type": "code",
   "execution_count": 412,
   "metadata": {},
   "outputs": [],
   "source": [
    "exp_cad_df = cad_df.loc[(cad_df.cd > \"2021-Feb-25\") & (cad_df.cd < \"2022-Jan-1\")].set_index('des')\n",
    "exp_cad_df = exp_cad_df[['dist', 'dist_min', 'dist_max', 'v_rel']]"
   ]
  },
  {
   "cell_type": "code",
   "execution_count": 413,
   "metadata": {},
   "outputs": [],
   "source": [
    "exp_pha_df = pha_neos_df.join(exp_cad_df, how='inner')\n",
    "exp_pha_df.diameter = exp_pha_df.diameter * 500\n",
    "exp_pha_df.albedo = 1 / exp_pha_df.albedo"
   ]
  },
  {
   "cell_type": "code",
   "execution_count": 414,
   "metadata": {
    "scrolled": true
   },
   "outputs": [
    {
     "data": {
      "image/png": "[encoded data removed]",
      "text/plain": [
       "<Figure size 864x288 with 1 Axes>"
      ]
     },
     "metadata": {
      "needs_background": "light"
     },
     "output_type": "display_data"
    }
   ],
   "source": [
    "fig, ax = plt.subplots(figsize=(12, 4))\n",
    "ax.scatter('dist', 'v_rel', s='diameter', c='albedo', cmap=\"binary\",  data=exp_pha_df, alpha=0.8)\n",
    "ax.set_xlabel('distance')\n",
    "ax.set_ylabel('speed')\n",
    "ax.set_title(\"Close Approaches Expected Soon: Size and Brightness\")\n",
    "ax.grid(True)\n",
    "fig.tight_layout()\n",
    "plt.show()"
   ]
  },
  {
   "cell_type": "code",
   "execution_count": 417,
   "metadata": {},
   "outputs": [
    {
     "data": {
      "text/html": [
       "<div>\n",
       "<style scoped>\n",
       "    .dataframe tbody tr th:only-of-type {\n",
       "        vertical-align: middle;\n",
       "    }\n",
       "\n",
       "    .dataframe tbody tr th {\n",
       "        vertical-align: top;\n",
       "    }\n",
       "\n",
       "    .dataframe thead th {\n",
       "        text-align: right;\n",
       "    }\n",
       "</style>\n",
       "<table border=\"1\" class=\"dataframe\">\n",
       "  <thead>\n",
       "    <tr style=\"text-align: right;\">\n",
       "      <th></th>\n",
       "      <th>name</th>\n",
       "      <th>diameter</th>\n",
       "      <th>albedo</th>\n",
       "      <th>dist</th>\n",
       "      <th>dist_min</th>\n",
       "      <th>dist_max</th>\n",
       "      <th>v_rel</th>\n",
       "    </tr>\n",
       "  </thead>\n",
       "  <tbody>\n",
       "    <tr>\n",
       "      <th>140158</th>\n",
       "      <td>NaN</td>\n",
       "      <td>283.0</td>\n",
       "      <td>3.460208</td>\n",
       "      <td>0.103213</td>\n",
       "      <td>0.103212170846793</td>\n",
       "      <td>0.103213154202757</td>\n",
       "      <td>10.265369</td>\n",
       "    </tr>\n",
       "    <tr>\n",
       "      <th>411165</th>\n",
       "      <td>NaN</td>\n",
       "      <td>79.5</td>\n",
       "      <td>8.264463</td>\n",
       "      <td>0.103622</td>\n",
       "      <td>0.103622002421701</td>\n",
       "      <td>0.103622893247802</td>\n",
       "      <td>19.432650</td>\n",
       "    </tr>\n",
       "    <tr>\n",
       "      <th>523664</th>\n",
       "      <td>NaN</td>\n",
       "      <td>173.0</td>\n",
       "      <td>1.865672</td>\n",
       "      <td>0.104040</td>\n",
       "      <td>0.10403879443231</td>\n",
       "      <td>0.104041266036692</td>\n",
       "      <td>22.056207</td>\n",
       "    </tr>\n",
       "    <tr>\n",
       "      <th>99942</th>\n",
       "      <td>Apophis</td>\n",
       "      <td>170.0</td>\n",
       "      <td>4.347826</td>\n",
       "      <td>0.112651</td>\n",
       "      <td>0.112650515057284</td>\n",
       "      <td>0.112651754747827</td>\n",
       "      <td>4.584526</td>\n",
       "    </tr>\n",
       "  </tbody>\n",
       "</table>\n",
       "</div>"
      ],
      "text/plain": [
       "           name  diameter    albedo      dist           dist_min  \\\n",
       "140158      NaN     283.0  3.460208  0.103213  0.103212170846793   \n",
       "411165      NaN      79.5  8.264463  0.103622  0.103622002421701   \n",
       "523664      NaN     173.0  1.865672  0.104040   0.10403879443231   \n",
       "99942   Apophis     170.0  4.347826  0.112651  0.112650515057284   \n",
       "\n",
       "                 dist_max      v_rel  \n",
       "140158  0.103213154202757  10.265369  \n",
       "411165  0.103622893247802  19.432650  \n",
       "523664  0.104041266036692  22.056207  \n",
       "99942   0.112651754747827   4.584526  "
      ]
     },
     "execution_count": 417,
     "metadata": {},
     "output_type": "execute_result"
    }
   ],
   "source": [
    "exp_pha_df.loc[(exp_pha_df.dist > 0.1) & (exp_pha_df.dist < 0.13 )]"
   ]
  },
  {
   "cell_type": "code",
   "execution_count": 420,
   "metadata": {},
   "outputs": [],
   "source": [
    "result = exp_pha_df.loc[(exp_pha_df.dist > 0.1) & (exp_pha_df.dist < 0.13 )].copy()\n",
    "result.diameter = result.diameter / 500\n",
    "result.albedo = 1 / result.albedo"
   ]
  },
  {
   "cell_type": "code",
   "execution_count": 425,
   "metadata": {},
   "outputs": [
    {
     "data": {
      "text/html": [
       "<div>\n",
       "<style scoped>\n",
       "    .dataframe tbody tr th:only-of-type {\n",
       "        vertical-align: middle;\n",
       "    }\n",
       "\n",
       "    .dataframe tbody tr th {\n",
       "        vertical-align: top;\n",
       "    }\n",
       "\n",
       "    .dataframe thead th {\n",
       "        text-align: right;\n",
       "    }\n",
       "</style>\n",
       "<table border=\"1\" class=\"dataframe\">\n",
       "  <thead>\n",
       "    <tr style=\"text-align: right;\">\n",
       "      <th></th>\n",
       "      <th>name</th>\n",
       "      <th>diameter</th>\n",
       "      <th>albedo</th>\n",
       "      <th>dist</th>\n",
       "      <th>dist_min</th>\n",
       "      <th>dist_max</th>\n",
       "      <th>v_rel</th>\n",
       "    </tr>\n",
       "  </thead>\n",
       "  <tbody>\n",
       "    <tr>\n",
       "      <th>140158</th>\n",
       "      <td>NaN</td>\n",
       "      <td>0.566</td>\n",
       "      <td>0.289</td>\n",
       "      <td>0.103213</td>\n",
       "      <td>0.103212170846793</td>\n",
       "      <td>0.103213154202757</td>\n",
       "      <td>10.265369</td>\n",
       "    </tr>\n",
       "    <tr>\n",
       "      <th>411165</th>\n",
       "      <td>NaN</td>\n",
       "      <td>0.159</td>\n",
       "      <td>0.121</td>\n",
       "      <td>0.103622</td>\n",
       "      <td>0.103622002421701</td>\n",
       "      <td>0.103622893247802</td>\n",
       "      <td>19.432650</td>\n",
       "    </tr>\n",
       "    <tr>\n",
       "      <th>523664</th>\n",
       "      <td>NaN</td>\n",
       "      <td>0.346</td>\n",
       "      <td>0.536</td>\n",
       "      <td>0.104040</td>\n",
       "      <td>0.10403879443231</td>\n",
       "      <td>0.104041266036692</td>\n",
       "      <td>22.056207</td>\n",
       "    </tr>\n",
       "    <tr>\n",
       "      <th>99942</th>\n",
       "      <td>Apophis</td>\n",
       "      <td>0.340</td>\n",
       "      <td>0.230</td>\n",
       "      <td>0.112651</td>\n",
       "      <td>0.112650515057284</td>\n",
       "      <td>0.112651754747827</td>\n",
       "      <td>4.584526</td>\n",
       "    </tr>\n",
       "  </tbody>\n",
       "</table>\n",
       "</div>"
      ],
      "text/plain": [
       "           name  diameter  albedo      dist           dist_min  \\\n",
       "140158      NaN     0.566   0.289  0.103213  0.103212170846793   \n",
       "411165      NaN     0.159   0.121  0.103622  0.103622002421701   \n",
       "523664      NaN     0.346   0.536  0.104040   0.10403879443231   \n",
       "99942   Apophis     0.340   0.230  0.112651  0.112650515057284   \n",
       "\n",
       "                 dist_max      v_rel  \n",
       "140158  0.103213154202757  10.265369  \n",
       "411165  0.103622893247802  19.432650  \n",
       "523664  0.104041266036692  22.056207  \n",
       "99942   0.112651754747827   4.584526  "
      ]
     },
     "execution_count": 425,
     "metadata": {},
     "output_type": "execute_result"
    }
   ],
   "source": [
    "result.loc[result.name != ']"
   ]
  },
  {
   "cell_type": "code",
   "execution_count": 385,
   "metadata": {},
   "outputs": [
    {
     "data": {
      "text/plain": [
       "0.2"
      ]
     },
     "execution_count": 385,
     "metadata": {},
     "output_type": "execute_result"
    }
   ],
   "source": [
    " 1 / (1 / 0.2 )"
   ]
  },
  {
   "cell_type": "code",
   "execution_count": 384,
   "metadata": {},
   "outputs": [
    {
     "data": {
      "text/plain": [
       "0.2"
      ]
     },
     "execution_count": 384,
     "metadata": {},
     "output_type": "execute_result"
    }
   ],
   "source": [
    "1 / 5"
   ]
  },
  {
   "cell_type": "code",
   "execution_count": 407,
   "metadata": {},
   "outputs": [
    {
     "data": {
      "text/plain": [
       "(56, 7)"
      ]
     },
     "execution_count": 407,
     "metadata": {},
     "output_type": "execute_result"
    }
   ],
   "source": [
    "exp_pha_df.shape"
   ]
  },
  {
   "cell_type": "code",
   "execution_count": 429,
   "metadata": {},
   "outputs": [
    {
     "data": {
      "text/html": [
       "<div>\n",
       "<style scoped>\n",
       "    .dataframe tbody tr th:only-of-type {\n",
       "        vertical-align: middle;\n",
       "    }\n",
       "\n",
       "    .dataframe tbody tr th {\n",
       "        vertical-align: top;\n",
       "    }\n",
       "\n",
       "    .dataframe thead th {\n",
       "        text-align: right;\n",
       "    }\n",
       "</style>\n",
       "<table border=\"1\" class=\"dataframe\">\n",
       "  <thead>\n",
       "    <tr style=\"text-align: right;\">\n",
       "      <th></th>\n",
       "      <th>name</th>\n",
       "      <th>diameter</th>\n",
       "      <th>albedo</th>\n",
       "      <th>dist</th>\n",
       "      <th>dist_min</th>\n",
       "      <th>dist_max</th>\n",
       "      <th>v_rel</th>\n",
       "    </tr>\n",
       "  </thead>\n",
       "  <tbody>\n",
       "    <tr>\n",
       "      <th>1862</th>\n",
       "      <td>Apollo</td>\n",
       "      <td>750.0</td>\n",
       "      <td>4.000000</td>\n",
       "      <td>0.211619</td>\n",
       "      <td>0.211618795873319</td>\n",
       "      <td>0.211619474339081</td>\n",
       "      <td>23.554582</td>\n",
       "    </tr>\n",
       "    <tr>\n",
       "      <th>99942</th>\n",
       "      <td>Apophis</td>\n",
       "      <td>170.0</td>\n",
       "      <td>4.347826</td>\n",
       "      <td>0.112651</td>\n",
       "      <td>0.112650515057284</td>\n",
       "      <td>0.112651754747827</td>\n",
       "      <td>4.584526</td>\n",
       "    </tr>\n",
       "    <tr>\n",
       "      <th>161989</th>\n",
       "      <td>Cacus</td>\n",
       "      <td>950.0</td>\n",
       "      <td>11.111111</td>\n",
       "      <td>0.384567</td>\n",
       "      <td>0.384565677258948</td>\n",
       "      <td>0.384567418275145</td>\n",
       "      <td>13.226983</td>\n",
       "    </tr>\n",
       "    <tr>\n",
       "      <th>3361</th>\n",
       "      <td>Orpheus</td>\n",
       "      <td>150.0</td>\n",
       "      <td>2.801120</td>\n",
       "      <td>0.038561</td>\n",
       "      <td>0.0385606500816589</td>\n",
       "      <td>0.0385609533285204</td>\n",
       "      <td>8.139399</td>\n",
       "    </tr>\n",
       "    <tr>\n",
       "      <th>4034</th>\n",
       "      <td>Vishnu</td>\n",
       "      <td>210.0</td>\n",
       "      <td>1.923077</td>\n",
       "      <td>0.314341</td>\n",
       "      <td>0.314339666888936</td>\n",
       "      <td>0.314342907229853</td>\n",
       "      <td>9.396137</td>\n",
       "    </tr>\n",
       "    <tr>\n",
       "      <th>12923</th>\n",
       "      <td>Zephyr</td>\n",
       "      <td>1030.0</td>\n",
       "      <td>5.025126</td>\n",
       "      <td>0.217383</td>\n",
       "      <td>0.21738191797197</td>\n",
       "      <td>0.217384524314969</td>\n",
       "      <td>14.684496</td>\n",
       "    </tr>\n",
       "    <tr>\n",
       "      <th>12538</th>\n",
       "      <td>NaN</td>\n",
       "      <td>831.5</td>\n",
       "      <td>4.310345</td>\n",
       "      <td>0.325186</td>\n",
       "      <td>0.325185853972421</td>\n",
       "      <td>0.325186364687277</td>\n",
       "      <td>15.247528</td>\n",
       "    </tr>\n",
       "    <tr>\n",
       "      <th>138127</th>\n",
       "      <td>NaN</td>\n",
       "      <td>377.0</td>\n",
       "      <td>2.227171</td>\n",
       "      <td>0.168100</td>\n",
       "      <td>0.168099704654955</td>\n",
       "      <td>0.168100918549164</td>\n",
       "      <td>15.083358</td>\n",
       "    </tr>\n",
       "    <tr>\n",
       "      <th>138127</th>\n",
       "      <td>NaN</td>\n",
       "      <td>377.0</td>\n",
       "      <td>2.227171</td>\n",
       "      <td>0.183336</td>\n",
       "      <td>0.183335297617954</td>\n",
       "      <td>0.183337134227403</td>\n",
       "      <td>20.159609</td>\n",
       "    </tr>\n",
       "    <tr>\n",
       "      <th>140158</th>\n",
       "      <td>NaN</td>\n",
       "      <td>283.0</td>\n",
       "      <td>3.460208</td>\n",
       "      <td>0.103213</td>\n",
       "      <td>0.103212170846793</td>\n",
       "      <td>0.103213154202757</td>\n",
       "      <td>10.265369</td>\n",
       "    </tr>\n",
       "    <tr>\n",
       "      <th>154276</th>\n",
       "      <td>NaN</td>\n",
       "      <td>530.0</td>\n",
       "      <td>6.993007</td>\n",
       "      <td>0.335304</td>\n",
       "      <td>0.335302884266939</td>\n",
       "      <td>0.33530481227585</td>\n",
       "      <td>14.233934</td>\n",
       "    </tr>\n",
       "    <tr>\n",
       "      <th>159857</th>\n",
       "      <td>NaN</td>\n",
       "      <td>1535.0</td>\n",
       "      <td>7.692308</td>\n",
       "      <td>0.156932</td>\n",
       "      <td>0.156930006365749</td>\n",
       "      <td>0.156934354026821</td>\n",
       "      <td>15.294475</td>\n",
       "    </tr>\n",
       "    <tr>\n",
       "      <th>162567</th>\n",
       "      <td>NaN</td>\n",
       "      <td>167.5</td>\n",
       "      <td>5.780347</td>\n",
       "      <td>0.348465</td>\n",
       "      <td>0.348463963217983</td>\n",
       "      <td>0.348465840940688</td>\n",
       "      <td>13.512370</td>\n",
       "    </tr>\n",
       "    <tr>\n",
       "      <th>162567</th>\n",
       "      <td>NaN</td>\n",
       "      <td>167.5</td>\n",
       "      <td>5.780347</td>\n",
       "      <td>0.463238</td>\n",
       "      <td>0.463236968346717</td>\n",
       "      <td>0.463238204887814</td>\n",
       "      <td>5.818775</td>\n",
       "    </tr>\n",
       "    <tr>\n",
       "      <th>163243</th>\n",
       "      <td>NaN</td>\n",
       "      <td>841.0</td>\n",
       "      <td>5.813953</td>\n",
       "      <td>0.311527</td>\n",
       "      <td>0.311525830690919</td>\n",
       "      <td>0.311527642134815</td>\n",
       "      <td>15.453810</td>\n",
       "    </tr>\n",
       "    <tr>\n",
       "      <th>164207</th>\n",
       "      <td>NaN</td>\n",
       "      <td>81.5</td>\n",
       "      <td>4.566210</td>\n",
       "      <td>0.246063</td>\n",
       "      <td>0.246062371553256</td>\n",
       "      <td>0.24606417412038</td>\n",
       "      <td>6.861837</td>\n",
       "    </tr>\n",
       "    <tr>\n",
       "      <th>2010 FF10</th>\n",
       "      <td>NaN</td>\n",
       "      <td>47.5</td>\n",
       "      <td>2.457002</td>\n",
       "      <td>0.093263</td>\n",
       "      <td>0.0878177037849383</td>\n",
       "      <td>0.0992744795547354</td>\n",
       "      <td>12.125472</td>\n",
       "    </tr>\n",
       "    <tr>\n",
       "      <th>2010 JN71</th>\n",
       "      <td>NaN</td>\n",
       "      <td>107.0</td>\n",
       "      <td>9.433962</td>\n",
       "      <td>0.318689</td>\n",
       "      <td>0.315419895305439</td>\n",
       "      <td>0.321981851753239</td>\n",
       "      <td>17.700742</td>\n",
       "    </tr>\n",
       "    <tr>\n",
       "      <th>2010 PK9</th>\n",
       "      <td>NaN</td>\n",
       "      <td>71.5</td>\n",
       "      <td>7.246377</td>\n",
       "      <td>0.419075</td>\n",
       "      <td>0.419073820710727</td>\n",
       "      <td>0.419076159575029</td>\n",
       "      <td>29.728396</td>\n",
       "    </tr>\n",
       "    <tr>\n",
       "      <th>2010 PW58</th>\n",
       "      <td>NaN</td>\n",
       "      <td>106.5</td>\n",
       "      <td>8.474576</td>\n",
       "      <td>0.489775</td>\n",
       "      <td>0.489755445419384</td>\n",
       "      <td>0.489794493844033</td>\n",
       "      <td>21.129301</td>\n",
       "    </tr>\n",
       "    <tr>\n",
       "      <th>2014 HQ124</th>\n",
       "      <td>NaN</td>\n",
       "      <td>162.5</td>\n",
       "      <td>3.436426</td>\n",
       "      <td>0.339993</td>\n",
       "      <td>0.339988368554843</td>\n",
       "      <td>0.33999773411648</td>\n",
       "      <td>14.150664</td>\n",
       "    </tr>\n",
       "    <tr>\n",
       "      <th>2014 VL6</th>\n",
       "      <td>NaN</td>\n",
       "      <td>121.0</td>\n",
       "      <td>10.989011</td>\n",
       "      <td>0.330947</td>\n",
       "      <td>0.330944933412666</td>\n",
       "      <td>0.330948949668643</td>\n",
       "      <td>5.314438</td>\n",
       "    </tr>\n",
       "    <tr>\n",
       "      <th>2016 JC6</th>\n",
       "      <td>NaN</td>\n",
       "      <td>96.0</td>\n",
       "      <td>6.896552</td>\n",
       "      <td>0.387513</td>\n",
       "      <td>0.387511971373209</td>\n",
       "      <td>0.387514524513941</td>\n",
       "      <td>12.123926</td>\n",
       "    </tr>\n",
       "    <tr>\n",
       "      <th>250680</th>\n",
       "      <td>NaN</td>\n",
       "      <td>199.0</td>\n",
       "      <td>6.802721</td>\n",
       "      <td>0.262309</td>\n",
       "      <td>0.262307543751913</td>\n",
       "      <td>0.262310285267831</td>\n",
       "      <td>7.725724</td>\n",
       "    </tr>\n",
       "    <tr>\n",
       "      <th>267221</th>\n",
       "      <td>NaN</td>\n",
       "      <td>281.0</td>\n",
       "      <td>10.309278</td>\n",
       "      <td>0.491579</td>\n",
       "      <td>0.491578755651184</td>\n",
       "      <td>0.491579880575161</td>\n",
       "      <td>37.618905</td>\n",
       "    </tr>\n",
       "    <tr>\n",
       "      <th>267337</th>\n",
       "      <td>NaN</td>\n",
       "      <td>219.5</td>\n",
       "      <td>1.730104</td>\n",
       "      <td>0.310202</td>\n",
       "      <td>0.310200812170844</td>\n",
       "      <td>0.310202679930343</td>\n",
       "      <td>11.971776</td>\n",
       "    </tr>\n",
       "    <tr>\n",
       "      <th>312070</th>\n",
       "      <td>NaN</td>\n",
       "      <td>297.5</td>\n",
       "      <td>11.494253</td>\n",
       "      <td>0.154335</td>\n",
       "      <td>0.154306832124123</td>\n",
       "      <td>0.154364090694139</td>\n",
       "      <td>15.755284</td>\n",
       "    </tr>\n",
       "    <tr>\n",
       "      <th>33342</th>\n",
       "      <td>NaN</td>\n",
       "      <td>216.0</td>\n",
       "      <td>1.529052</td>\n",
       "      <td>0.386274</td>\n",
       "      <td>0.386273311909919</td>\n",
       "      <td>0.38627475369572</td>\n",
       "      <td>21.823348</td>\n",
       "    </tr>\n",
       "    <tr>\n",
       "      <th>341843</th>\n",
       "      <td>NaN</td>\n",
       "      <td>200.0</td>\n",
       "      <td>7.299270</td>\n",
       "      <td>0.423652</td>\n",
       "      <td>0.423639617867442</td>\n",
       "      <td>0.423664427172318</td>\n",
       "      <td>16.055962</td>\n",
       "    </tr>\n",
       "    <tr>\n",
       "      <th>35396</th>\n",
       "      <td>NaN</td>\n",
       "      <td>352.0</td>\n",
       "      <td>1.295337</td>\n",
       "      <td>0.443542</td>\n",
       "      <td>0.443541474120907</td>\n",
       "      <td>0.443542774393932</td>\n",
       "      <td>27.358495</td>\n",
       "    </tr>\n",
       "    <tr>\n",
       "      <th>363024</th>\n",
       "      <td>NaN</td>\n",
       "      <td>279.0</td>\n",
       "      <td>10.101010</td>\n",
       "      <td>0.073312</td>\n",
       "      <td>0.0733109296250417</td>\n",
       "      <td>0.073312918880091</td>\n",
       "      <td>15.313956</td>\n",
       "    </tr>\n",
       "    <tr>\n",
       "      <th>363027</th>\n",
       "      <td>NaN</td>\n",
       "      <td>289.0</td>\n",
       "      <td>16.949153</td>\n",
       "      <td>0.187674</td>\n",
       "      <td>0.187672921577652</td>\n",
       "      <td>0.187674888768153</td>\n",
       "      <td>13.902519</td>\n",
       "    </tr>\n",
       "    <tr>\n",
       "      <th>363599</th>\n",
       "      <td>NaN</td>\n",
       "      <td>76.0</td>\n",
       "      <td>3.267974</td>\n",
       "      <td>0.049423</td>\n",
       "      <td>0.0494225672281994</td>\n",
       "      <td>0.049422739303079</td>\n",
       "      <td>24.503350</td>\n",
       "    </tr>\n",
       "    <tr>\n",
       "      <th>365424</th>\n",
       "      <td>NaN</td>\n",
       "      <td>106.0</td>\n",
       "      <td>13.333333</td>\n",
       "      <td>0.375081</td>\n",
       "      <td>0.375075080072224</td>\n",
       "      <td>0.375087560244237</td>\n",
       "      <td>18.819101</td>\n",
       "    </tr>\n",
       "    <tr>\n",
       "      <th>386847</th>\n",
       "      <td>NaN</td>\n",
       "      <td>331.5</td>\n",
       "      <td>4.739336</td>\n",
       "      <td>0.241145</td>\n",
       "      <td>0.241142151852491</td>\n",
       "      <td>0.241148219780146</td>\n",
       "      <td>16.489507</td>\n",
       "    </tr>\n",
       "    <tr>\n",
       "      <th>387505</th>\n",
       "      <td>NaN</td>\n",
       "      <td>530.0</td>\n",
       "      <td>13.513514</td>\n",
       "      <td>0.219899</td>\n",
       "      <td>0.219894467558448</td>\n",
       "      <td>0.219902707736966</td>\n",
       "      <td>25.729884</td>\n",
       "    </tr>\n",
       "    <tr>\n",
       "      <th>390725</th>\n",
       "      <td>NaN</td>\n",
       "      <td>146.5</td>\n",
       "      <td>3.690037</td>\n",
       "      <td>0.299161</td>\n",
       "      <td>0.299159874947916</td>\n",
       "      <td>0.299162385761445</td>\n",
       "      <td>13.262321</td>\n",
       "    </tr>\n",
       "    <tr>\n",
       "      <th>390725</th>\n",
       "      <td>NaN</td>\n",
       "      <td>146.5</td>\n",
       "      <td>3.690037</td>\n",
       "      <td>0.347398</td>\n",
       "      <td>0.34739665018787</td>\n",
       "      <td>0.347399309538735</td>\n",
       "      <td>8.539861</td>\n",
       "    </tr>\n",
       "    <tr>\n",
       "      <th>411165</th>\n",
       "      <td>NaN</td>\n",
       "      <td>79.5</td>\n",
       "      <td>8.264463</td>\n",
       "      <td>0.103622</td>\n",
       "      <td>0.103622002421701</td>\n",
       "      <td>0.103622893247802</td>\n",
       "      <td>19.432650</td>\n",
       "    </tr>\n",
       "    <tr>\n",
       "      <th>419472</th>\n",
       "      <td>NaN</td>\n",
       "      <td>229.5</td>\n",
       "      <td>11.363636</td>\n",
       "      <td>0.472557</td>\n",
       "      <td>0.472556726502303</td>\n",
       "      <td>0.472557236244413</td>\n",
       "      <td>12.881844</td>\n",
       "    </tr>\n",
       "    <tr>\n",
       "      <th>419624</th>\n",
       "      <td>NaN</td>\n",
       "      <td>178.5</td>\n",
       "      <td>11.904762</td>\n",
       "      <td>0.345958</td>\n",
       "      <td>0.345956136142494</td>\n",
       "      <td>0.345960482421625</td>\n",
       "      <td>14.006293</td>\n",
       "    </tr>\n",
       "    <tr>\n",
       "      <th>422686</th>\n",
       "      <td>NaN</td>\n",
       "      <td>88.0</td>\n",
       "      <td>6.993007</td>\n",
       "      <td>0.158880</td>\n",
       "      <td>0.158879878691771</td>\n",
       "      <td>0.158880919465599</td>\n",
       "      <td>12.666422</td>\n",
       "    </tr>\n",
       "    <tr>\n",
       "      <th>441987</th>\n",
       "      <td>NaN</td>\n",
       "      <td>114.0</td>\n",
       "      <td>14.084507</td>\n",
       "      <td>0.039924</td>\n",
       "      <td>0.0399238669798188</td>\n",
       "      <td>0.0399239158950963</td>\n",
       "      <td>13.350896</td>\n",
       "    </tr>\n",
       "    <tr>\n",
       "      <th>453707</th>\n",
       "      <td>NaN</td>\n",
       "      <td>247.5</td>\n",
       "      <td>3.831418</td>\n",
       "      <td>0.205738</td>\n",
       "      <td>0.205732330415538</td>\n",
       "      <td>0.205744301531665</td>\n",
       "      <td>17.155322</td>\n",
       "    </tr>\n",
       "    <tr>\n",
       "      <th>454100</th>\n",
       "      <td>NaN</td>\n",
       "      <td>274.0</td>\n",
       "      <td>18.518519</td>\n",
       "      <td>0.299371</td>\n",
       "      <td>0.299369926878423</td>\n",
       "      <td>0.299372552942638</td>\n",
       "      <td>21.145976</td>\n",
       "    </tr>\n",
       "    <tr>\n",
       "      <th>468727</th>\n",
       "      <td>NaN</td>\n",
       "      <td>154.0</td>\n",
       "      <td>9.259259</td>\n",
       "      <td>0.040418</td>\n",
       "      <td>0.0404163725616213</td>\n",
       "      <td>0.0404192584298918</td>\n",
       "      <td>14.939849</td>\n",
       "    </tr>\n",
       "    <tr>\n",
       "      <th>469445</th>\n",
       "      <td>NaN</td>\n",
       "      <td>71.5</td>\n",
       "      <td>7.352941</td>\n",
       "      <td>0.182999</td>\n",
       "      <td>0.182998249195505</td>\n",
       "      <td>0.182999197168225</td>\n",
       "      <td>16.358217</td>\n",
       "    </tr>\n",
       "    <tr>\n",
       "      <th>484402</th>\n",
       "      <td>NaN</td>\n",
       "      <td>226.0</td>\n",
       "      <td>8.000000</td>\n",
       "      <td>0.486629</td>\n",
       "      <td>0.486628617323449</td>\n",
       "      <td>0.486628931206836</td>\n",
       "      <td>13.611636</td>\n",
       "    </tr>\n",
       "    <tr>\n",
       "      <th>490581</th>\n",
       "      <td>NaN</td>\n",
       "      <td>118.5</td>\n",
       "      <td>3.184713</td>\n",
       "      <td>0.324419</td>\n",
       "      <td>0.324418981157919</td>\n",
       "      <td>0.324419403781424</td>\n",
       "      <td>11.354338</td>\n",
       "    </tr>\n",
       "    <tr>\n",
       "      <th>505657</th>\n",
       "      <td>NaN</td>\n",
       "      <td>485.5</td>\n",
       "      <td>14.705882</td>\n",
       "      <td>0.194348</td>\n",
       "      <td>0.194347200696258</td>\n",
       "      <td>0.194347938623453</td>\n",
       "      <td>15.924712</td>\n",
       "    </tr>\n",
       "    <tr>\n",
       "      <th>511684</th>\n",
       "      <td>NaN</td>\n",
       "      <td>157.5</td>\n",
       "      <td>10.752688</td>\n",
       "      <td>0.253120</td>\n",
       "      <td>0.253119674007034</td>\n",
       "      <td>0.253120334759587</td>\n",
       "      <td>12.283875</td>\n",
       "    </tr>\n",
       "    <tr>\n",
       "      <th>523664</th>\n",
       "      <td>NaN</td>\n",
       "      <td>173.0</td>\n",
       "      <td>1.865672</td>\n",
       "      <td>0.104040</td>\n",
       "      <td>0.10403879443231</td>\n",
       "      <td>0.104041266036692</td>\n",
       "      <td>22.056207</td>\n",
       "    </tr>\n",
       "    <tr>\n",
       "      <th>68216</th>\n",
       "      <td>NaN</td>\n",
       "      <td>497.0</td>\n",
       "      <td>2.227171</td>\n",
       "      <td>0.497550</td>\n",
       "      <td>0.497549729648603</td>\n",
       "      <td>0.497550419279426</td>\n",
       "      <td>20.783151</td>\n",
       "    </tr>\n",
       "    <tr>\n",
       "      <th>7822</th>\n",
       "      <td>NaN</td>\n",
       "      <td>801.0</td>\n",
       "      <td>13.333333</td>\n",
       "      <td>0.279044</td>\n",
       "      <td>0.279044085544113</td>\n",
       "      <td>0.279044404048653</td>\n",
       "      <td>18.368693</td>\n",
       "    </tr>\n",
       "    <tr>\n",
       "      <th>85990</th>\n",
       "      <td>NaN</td>\n",
       "      <td>225.5</td>\n",
       "      <td>10.526316</td>\n",
       "      <td>0.363928</td>\n",
       "      <td>0.363928447646351</td>\n",
       "      <td>0.363928527974916</td>\n",
       "      <td>20.860329</td>\n",
       "    </tr>\n",
       "    <tr>\n",
       "      <th>86039</th>\n",
       "      <td>NaN</td>\n",
       "      <td>1110.0</td>\n",
       "      <td>7.142857</td>\n",
       "      <td>0.350687</td>\n",
       "      <td>0.350686109659423</td>\n",
       "      <td>0.35068764299837</td>\n",
       "      <td>25.713995</td>\n",
       "    </tr>\n",
       "    <tr>\n",
       "      <th>88254</th>\n",
       "      <td>NaN</td>\n",
       "      <td>400.0</td>\n",
       "      <td>3.968254</td>\n",
       "      <td>0.370435</td>\n",
       "      <td>0.370434311563577</td>\n",
       "      <td>0.370435915600923</td>\n",
       "      <td>31.217578</td>\n",
       "    </tr>\n",
       "  </tbody>\n",
       "</table>\n",
       "</div>"
      ],
      "text/plain": [
       "               name  diameter     albedo      dist            dist_min  \\\n",
       "1862         Apollo     750.0   4.000000  0.211619   0.211618795873319   \n",
       "99942       Apophis     170.0   4.347826  0.112651   0.112650515057284   \n",
       "161989        Cacus     950.0  11.111111  0.384567   0.384565677258948   \n",
       "3361        Orpheus     150.0   2.801120  0.038561  0.0385606500816589   \n",
       "4034         Vishnu     210.0   1.923077  0.314341   0.314339666888936   \n",
       "12923        Zephyr    1030.0   5.025126  0.217383    0.21738191797197   \n",
       "12538           NaN     831.5   4.310345  0.325186   0.325185853972421   \n",
       "138127          NaN     377.0   2.227171  0.168100   0.168099704654955   \n",
       "138127          NaN     377.0   2.227171  0.183336   0.183335297617954   \n",
       "140158          NaN     283.0   3.460208  0.103213   0.103212170846793   \n",
       "154276          NaN     530.0   6.993007  0.335304   0.335302884266939   \n",
       "159857          NaN    1535.0   7.692308  0.156932   0.156930006365749   \n",
       "162567          NaN     167.5   5.780347  0.348465   0.348463963217983   \n",
       "162567          NaN     167.5   5.780347  0.463238   0.463236968346717   \n",
       "163243          NaN     841.0   5.813953  0.311527   0.311525830690919   \n",
       "164207          NaN      81.5   4.566210  0.246063   0.246062371553256   \n",
       "2010 FF10       NaN      47.5   2.457002  0.093263  0.0878177037849383   \n",
       "2010 JN71       NaN     107.0   9.433962  0.318689   0.315419895305439   \n",
       "2010 PK9        NaN      71.5   7.246377  0.419075   0.419073820710727   \n",
       "2010 PW58       NaN     106.5   8.474576  0.489775   0.489755445419384   \n",
       "2014 HQ124      NaN     162.5   3.436426  0.339993   0.339988368554843   \n",
       "2014 VL6        NaN     121.0  10.989011  0.330947   0.330944933412666   \n",
       "2016 JC6        NaN      96.0   6.896552  0.387513   0.387511971373209   \n",
       "250680          NaN     199.0   6.802721  0.262309   0.262307543751913   \n",
       "267221          NaN     281.0  10.309278  0.491579   0.491578755651184   \n",
       "267337          NaN     219.5   1.730104  0.310202   0.310200812170844   \n",
       "312070          NaN     297.5  11.494253  0.154335   0.154306832124123   \n",
       "33342           NaN     216.0   1.529052  0.386274   0.386273311909919   \n",
       "341843          NaN     200.0   7.299270  0.423652   0.423639617867442   \n",
       "35396           NaN     352.0   1.295337  0.443542   0.443541474120907   \n",
       "363024          NaN     279.0  10.101010  0.073312  0.0733109296250417   \n",
       "363027          NaN     289.0  16.949153  0.187674   0.187672921577652   \n",
       "363599          NaN      76.0   3.267974  0.049423  0.0494225672281994   \n",
       "365424          NaN     106.0  13.333333  0.375081   0.375075080072224   \n",
       "386847          NaN     331.5   4.739336  0.241145   0.241142151852491   \n",
       "387505          NaN     530.0  13.513514  0.219899   0.219894467558448   \n",
       "390725          NaN     146.5   3.690037  0.299161   0.299159874947916   \n",
       "390725          NaN     146.5   3.690037  0.347398    0.34739665018787   \n",
       "411165          NaN      79.5   8.264463  0.103622   0.103622002421701   \n",
       "419472          NaN     229.5  11.363636  0.472557   0.472556726502303   \n",
       "419624          NaN     178.5  11.904762  0.345958   0.345956136142494   \n",
       "422686          NaN      88.0   6.993007  0.158880   0.158879878691771   \n",
       "441987          NaN     114.0  14.084507  0.039924  0.0399238669798188   \n",
       "453707          NaN     247.5   3.831418  0.205738   0.205732330415538   \n",
       "454100          NaN     274.0  18.518519  0.299371   0.299369926878423   \n",
       "468727          NaN     154.0   9.259259  0.040418  0.0404163725616213   \n",
       "469445          NaN      71.5   7.352941  0.182999   0.182998249195505   \n",
       "484402          NaN     226.0   8.000000  0.486629   0.486628617323449   \n",
       "490581          NaN     118.5   3.184713  0.324419   0.324418981157919   \n",
       "505657          NaN     485.5  14.705882  0.194348   0.194347200696258   \n",
       "511684          NaN     157.5  10.752688  0.253120   0.253119674007034   \n",
       "523664          NaN     173.0   1.865672  0.104040    0.10403879443231   \n",
       "68216           NaN     497.0   2.227171  0.497550   0.497549729648603   \n",
       "7822            NaN     801.0  13.333333  0.279044   0.279044085544113   \n",
       "85990           NaN     225.5  10.526316  0.363928   0.363928447646351   \n",
       "86039           NaN    1110.0   7.142857  0.350687   0.350686109659423   \n",
       "88254           NaN     400.0   3.968254  0.370435   0.370434311563577   \n",
       "\n",
       "                      dist_max      v_rel  \n",
       "1862         0.211619474339081  23.554582  \n",
       "99942        0.112651754747827   4.584526  \n",
       "161989       0.384567418275145  13.226983  \n",
       "3361        0.0385609533285204   8.139399  \n",
       "4034         0.314342907229853   9.396137  \n",
       "12923        0.217384524314969  14.684496  \n",
       "12538        0.325186364687277  15.247528  \n",
       "138127       0.168100918549164  15.083358  \n",
       "138127       0.183337134227403  20.159609  \n",
       "140158       0.103213154202757  10.265369  \n",
       "154276        0.33530481227585  14.233934  \n",
       "159857       0.156934354026821  15.294475  \n",
       "162567       0.348465840940688  13.512370  \n",
       "162567       0.463238204887814   5.818775  \n",
       "163243       0.311527642134815  15.453810  \n",
       "164207        0.24606417412038   6.861837  \n",
       "2010 FF10   0.0992744795547354  12.125472  \n",
       "2010 JN71    0.321981851753239  17.700742  \n",
       "2010 PK9     0.419076159575029  29.728396  \n",
       "2010 PW58    0.489794493844033  21.129301  \n",
       "2014 HQ124    0.33999773411648  14.150664  \n",
       "2014 VL6     0.330948949668643   5.314438  \n",
       "2016 JC6     0.387514524513941  12.123926  \n",
       "250680       0.262310285267831   7.725724  \n",
       "267221       0.491579880575161  37.618905  \n",
       "267337       0.310202679930343  11.971776  \n",
       "312070       0.154364090694139  15.755284  \n",
       "33342         0.38627475369572  21.823348  \n",
       "341843       0.423664427172318  16.055962  \n",
       "35396        0.443542774393932  27.358495  \n",
       "363024       0.073312918880091  15.313956  \n",
       "363027       0.187674888768153  13.902519  \n",
       "363599       0.049422739303079  24.503350  \n",
       "365424       0.375087560244237  18.819101  \n",
       "386847       0.241148219780146  16.489507  \n",
       "387505       0.219902707736966  25.729884  \n",
       "390725       0.299162385761445  13.262321  \n",
       "390725       0.347399309538735   8.539861  \n",
       "411165       0.103622893247802  19.432650  \n",
       "419472       0.472557236244413  12.881844  \n",
       "419624       0.345960482421625  14.006293  \n",
       "422686       0.158880919465599  12.666422  \n",
       "441987      0.0399239158950963  13.350896  \n",
       "453707       0.205744301531665  17.155322  \n",
       "454100       0.299372552942638  21.145976  \n",
       "468727      0.0404192584298918  14.939849  \n",
       "469445       0.182999197168225  16.358217  \n",
       "484402       0.486628931206836  13.611636  \n",
       "490581       0.324419403781424  11.354338  \n",
       "505657       0.194347938623453  15.924712  \n",
       "511684       0.253120334759587  12.283875  \n",
       "523664       0.104041266036692  22.056207  \n",
       "68216        0.497550419279426  20.783151  \n",
       "7822         0.279044404048653  18.368693  \n",
       "85990        0.363928527974916  20.860329  \n",
       "86039         0.35068764299837  25.713995  \n",
       "88254        0.370435915600923  31.217578  "
      ]
     },
     "execution_count": 429,
     "metadata": {},
     "output_type": "execute_result"
    }
   ],
   "source": [
    "exp_pha_df.sort_values(by = 'name')"
   ]
  },
  {
   "cell_type": "code",
   "execution_count": null,
   "metadata": {},
   "outputs": [],
   "source": []
  }
 ],
 "metadata": {
  "kernelspec": {
   "display_name": "Python 3",
   "language": "python",
   "name": "python3"
  },
  "language_info": {
   "codemirror_mode": {
    "name": "ipython",
    "version": 3
   },
   "file_extension": ".py",
   "mimetype": "text/x-python",
   "name": "python",
   "nbconvert_exporter": "python",
   "pygments_lexer": "ipython3",
   "version": "3.8.3"
  }
 },
 "nbformat": 4,
 "nbformat_minor": 4
}
