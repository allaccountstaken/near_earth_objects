{
 "cells": [
  {
   "cell_type": "code",
   "execution_count": null,
   "metadata": {},
   "outputs": [],
   "source": []
  },
  {
   "cell_type": "code",
   "execution_count": 148,
   "metadata": {},
   "outputs": [],
   "source": [
    "class NearEarthObject:\n",
    "    \"\"\"A near-Earth object (NEO).\n",
    "\n",
    "    An NEO encapsulates semantic and physical parameters about the object, such\n",
    "    as its primary designation (required, unique), IAU name (optional), diameter\n",
    "    in kilometers (optional - sometimes unknown), and whether it's marked as\n",
    "    potentially hazardous to Earth.\n",
    "\n",
    "    A `NearEarthObject` also maintains a collection of its close approaches -\n",
    "    initialized to an empty collection, but eventually populated in the\n",
    "    `NEODatabase` constructor.\n",
    "    \"\"\"\n",
    "\n",
    "    def __init__(self, designation, name=None, diameter=float('nan'), hazardous=False):\n",
    "        \"\"\"Create a new `NearEarthObject`.\n",
    "        \n",
    "        :param info: \n",
    "        required unique designation (str), \n",
    "        optional name (str), diameter (float), hazardous (bool)\n",
    "        \"\"\"\n",
    "        \n",
    "        self.designation = str(designation)\n",
    "        self.name = str(name).title()\n",
    "        self.diameter = diameter\n",
    "        self.hazardous = hazardous\n",
    "        \n",
    "        self.approaches = []\n",
    "\n",
    "    @property\n",
    "    def fullname(self):\n",
    "        \"\"\"Return a representation of the full name of this NEO.\"\"\"\n",
    "        \n",
    "        if self.name is None:\n",
    "            return self.designation      \n",
    "        else:\n",
    "            return \"'\" + self.name + \" with designation of \" + self.designation + \"'\"\n",
    "        \n",
    "\n",
    "    def __str__(self):\n",
    "        \"\"\"Return `str(self)`.\"\"\"\n",
    "\n",
    "        return f\"This is a NEO with a fullname {self.fullname} and {self.diameter} km in diameter\"\n",
    "\n",
    "    def __repr__(self):\n",
    "        \"\"\"Return `repr(self)`, a computer-readable string representation of this object.\"\"\"\n",
    "        \n",
    "        return (f\"NearEarthObject(designation={self.designation!r}, name={self.name!r}, \"\n",
    "                f\"diameter={self.diameter:.3f}, hazardous={self.hazardous!r})\")\n"
   ]
  },
  {
   "cell_type": "code",
   "execution_count": 170,
   "metadata": {},
   "outputs": [],
   "source": [
    "from helpers import cd_to_datetime, datetime_to_str\n",
    "class CloseApproach:\n",
    "    \"\"\"A close approach to Earth by an NEO.\n",
    "\n",
    "    A `CloseApproach` encapsulates information about the NEO's close approach to\n",
    "    Earth, such as the date and time (in UTC) of closest approach, the nominal\n",
    "    approach distance in astronomical units, and the relative approach velocity\n",
    "    in kilometers per second.\n",
    "\n",
    "    A `CloseApproach` also maintains a reference to its `NearEarthObject` -\n",
    "    initally, this information (the NEO's primary designation) is saved in a\n",
    "    private attribute, but the referenced NEO is eventually replaced in the\n",
    "    `NEODatabase` constructor.\n",
    "    \"\"\"\n",
    "    # TODO: How can you, and should you, change the arguments to this constructor?\n",
    "    # If you make changes, be sure to update the comments in this file.\n",
    "\n",
    "    def __init__(self, neo=None, time=None, distance=float('nan'), velocity=float('nan')):\n",
    "        \"\"\"Create a new `CloseApproach`.\n",
    "\n",
    "        :param info: A dictionary of excess keyword arguments supplied to the constructor.\n",
    "        \"\"\"\n",
    "        # TODO: Assign information from the arguments passed to the constructor\n",
    "        # onto attributes named `_designation`, `time`, `distance`, and `velocity`.\n",
    "        # You should coerce these values to their appropriate data type and handle any edge cases.\n",
    "        # The `cd_to_datetime` function will be useful.\n",
    "        self.neo = neo\n",
    "        self.designation = neo.designation\n",
    "        # TODO: Use the cd_to_datetime function for this attribute.\n",
    "        if type(time) == str:\n",
    "            self.time = cd_to_datetime(str(time))\n",
    "        \n",
    "        self.distance = distance\n",
    "        self.velocity = velocity\n",
    "\n",
    "        # Create an attribute for the referenced NEO, originally None.\n",
    "        #self.neo = neo\n",
    "\n",
    "    @property\n",
    "    def time_str(self):\n",
    "        \"\"\"Return a formatted representation of this `CloseApproach`'s approach time.\n",
    "\n",
    "        The value in `self.time` should be a Python `datetime` object. While a\n",
    "        `datetime` object has a string representation, the default representation\n",
    "        includes seconds - significant figures that don't exist in our input\n",
    "        data set.\n",
    "\n",
    "        The `datetime_to_str` method converts a `datetime` object to a\n",
    "        formatted string that can be used in human-readable representations and\n",
    "        in serialization to CSV and JSON files.\n",
    "        \"\"\"\n",
    "        if type(self.time) == str:\n",
    "            return datetime_to_str(self.time)\n",
    "        \n",
    "        \n",
    "        \n",
    "        return ''\n",
    "\n",
    "    def __str__(self):\n",
    "        \"\"\"Return `str(self)`.\"\"\"\n",
    "        # TODO: Use this object's attributes to return a human-readable string representation.\n",
    "        # The project instructions include one possibility. Peek at the __repr__\n",
    "        # method for examples of advanced string formatting.\n",
    "        return (f\"{self.time_str} NEO {self.designation}, \"\n",
    "                f\"approaching with speed {self.velocity} and distance {self.distance}\")\n",
    "\n",
    "    def __repr__(self):\n",
    "        \"\"\"Return `repr(self)`, a computer-readable string representation of this object.\"\"\"\n",
    "        return (f\"CloseApproach(time={self.time_str!r}, distance={self.distance:.2f}, \"\n",
    "                f\"velocity={self.velocity:.2f}, neo={self.neo!r})\")\n"
   ]
  },
  {
   "cell_type": "code",
   "execution_count": 171,
   "metadata": {},
   "outputs": [],
   "source": [
    "ca = CloseApproach(neo)"
   ]
  },
  {
   "cell_type": "code",
   "execution_count": 174,
   "metadata": {},
   "outputs": [
    {
     "data": {
      "text/plain": [
       "'123'"
      ]
     },
     "execution_count": 174,
     "metadata": {},
     "output_type": "execute_result"
    }
   ],
   "source": [
    "ca.designation"
   ]
  },
  {
   "cell_type": "code",
   "execution_count": 172,
   "metadata": {},
   "outputs": [
    {
     "ename": "AttributeError",
     "evalue": "'CloseApproach' object has no attribute 'time'",
     "output_type": "error",
     "traceback": [
      "\u001b[0;31m---------------------------------------------------------------------------\u001b[0m",
      "\u001b[0;31mAttributeError\u001b[0m                            Traceback (most recent call last)",
      "\u001b[0;32m<ipython-input-172-82f73b6413ad>\u001b[0m in \u001b[0;36m<module>\u001b[0;34m\u001b[0m\n\u001b[0;32m----> 1\u001b[0;31m \u001b[0mprint\u001b[0m\u001b[0;34m(\u001b[0m\u001b[0mca\u001b[0m\u001b[0;34m)\u001b[0m\u001b[0;34m\u001b[0m\u001b[0;34m\u001b[0m\u001b[0m\n\u001b[0m",
      "\u001b[0;32m<ipython-input-170-b3de404503b1>\u001b[0m in \u001b[0;36m__str__\u001b[0;34m(self)\u001b[0m\n\u001b[1;32m     62\u001b[0m         \u001b[0;31m# The project instructions include one possibility. Peek at the __repr__\u001b[0m\u001b[0;34m\u001b[0m\u001b[0;34m\u001b[0m\u001b[0;34m\u001b[0m\u001b[0m\n\u001b[1;32m     63\u001b[0m         \u001b[0;31m# method for examples of advanced string formatting.\u001b[0m\u001b[0;34m\u001b[0m\u001b[0;34m\u001b[0m\u001b[0;34m\u001b[0m\u001b[0m\n\u001b[0;32m---> 64\u001b[0;31m         return (f\"{self.time_str} NEO {self.designation}, \"\n\u001b[0m\u001b[1;32m     65\u001b[0m                 f\"approaching with speed {self.velocity} and distance {self.distance}\")\n\u001b[1;32m     66\u001b[0m \u001b[0;34m\u001b[0m\u001b[0m\n",
      "\u001b[0;32m<ipython-input-170-b3de404503b1>\u001b[0m in \u001b[0;36mtime_str\u001b[0;34m(self)\u001b[0m\n\u001b[1;32m     50\u001b[0m         \u001b[0;32min\u001b[0m \u001b[0mserialization\u001b[0m \u001b[0mto\u001b[0m \u001b[0mCSV\u001b[0m \u001b[0;32mand\u001b[0m \u001b[0mJSON\u001b[0m \u001b[0mfiles\u001b[0m\u001b[0;34m.\u001b[0m\u001b[0;34m\u001b[0m\u001b[0;34m\u001b[0m\u001b[0m\n\u001b[1;32m     51\u001b[0m         \"\"\"\n\u001b[0;32m---> 52\u001b[0;31m         \u001b[0;32mif\u001b[0m \u001b[0mtype\u001b[0m\u001b[0;34m(\u001b[0m\u001b[0mself\u001b[0m\u001b[0;34m.\u001b[0m\u001b[0mtime\u001b[0m\u001b[0;34m)\u001b[0m \u001b[0;34m==\u001b[0m \u001b[0mstr\u001b[0m\u001b[0;34m:\u001b[0m\u001b[0;34m\u001b[0m\u001b[0;34m\u001b[0m\u001b[0m\n\u001b[0m\u001b[1;32m     53\u001b[0m             \u001b[0;32mreturn\u001b[0m \u001b[0mdatetime_to_str\u001b[0m\u001b[0;34m(\u001b[0m\u001b[0mself\u001b[0m\u001b[0;34m.\u001b[0m\u001b[0mtime\u001b[0m\u001b[0;34m)\u001b[0m\u001b[0;34m\u001b[0m\u001b[0;34m\u001b[0m\u001b[0m\n\u001b[1;32m     54\u001b[0m \u001b[0;34m\u001b[0m\u001b[0m\n",
      "\u001b[0;31mAttributeError\u001b[0m: 'CloseApproach' object has no attribute 'time'"
     ]
    }
   ],
   "source": [
    "print(ca)"
   ]
  },
  {
   "cell_type": "code",
   "execution_count": 160,
   "metadata": {},
   "outputs": [
    {
     "data": {
      "text/plain": [
       "str"
      ]
     },
     "execution_count": 160,
     "metadata": {},
     "output_type": "execute_result"
    }
   ],
   "source": [
    "type(neo.designation)"
   ]
  },
  {
   "cell_type": "code",
   "execution_count": null,
   "metadata": {},
   "outputs": [],
   "source": []
  },
  {
   "cell_type": "code",
   "execution_count": null,
   "metadata": {},
   "outputs": [],
   "source": []
  },
  {
   "cell_type": "code",
   "execution_count": null,
   "metadata": {},
   "outputs": [],
   "source": []
  },
  {
   "cell_type": "code",
   "execution_count": null,
   "metadata": {},
   "outputs": [],
   "source": []
  },
  {
   "cell_type": "code",
   "execution_count": 152,
   "metadata": {},
   "outputs": [],
   "source": [
    "neo = NearEarthObject(designation = 123, name = 123, diameter = 23.4)"
   ]
  },
  {
   "cell_type": "code",
   "execution_count": 153,
   "metadata": {},
   "outputs": [
    {
     "data": {
      "text/plain": [
       "\"'123 with designation of 123'\""
      ]
     },
     "execution_count": 153,
     "metadata": {},
     "output_type": "execute_result"
    }
   ],
   "source": [
    "neo.fullname"
   ]
  },
  {
   "cell_type": "code",
   "execution_count": 154,
   "metadata": {},
   "outputs": [
    {
     "name": "stdout",
     "output_type": "stream",
     "text": [
      "This is a NEO with a fullname '123 with designation of 123' and 23.4 km in diameter\n"
     ]
    }
   ],
   "source": [
    "print(neo)"
   ]
  },
  {
   "cell_type": "code",
   "execution_count": 155,
   "metadata": {},
   "outputs": [
    {
     "data": {
      "text/plain": [
       "'123'"
      ]
     },
     "execution_count": 155,
     "metadata": {},
     "output_type": "execute_result"
    }
   ],
   "source": [
    "neo.designation"
   ]
  },
  {
   "cell_type": "code",
   "execution_count": 156,
   "metadata": {},
   "outputs": [
    {
     "data": {
      "text/plain": [
       "\"NearEarthObject(designation='123', name='123', diameter=23.400, hazardous=False)\""
      ]
     },
     "execution_count": 156,
     "metadata": {},
     "output_type": "execute_result"
    }
   ],
   "source": [
    "neo.__repr__()"
   ]
  },
  {
   "cell_type": "code",
   "execution_count": 157,
   "metadata": {},
   "outputs": [],
   "source": [
    "other_new = NearEarthObject(1234, \"bulldog\", 23.4)"
   ]
  },
  {
   "cell_type": "code",
   "execution_count": 158,
   "metadata": {},
   "outputs": [
    {
     "name": "stdout",
     "output_type": "stream",
     "text": [
      "This is a NEO with a fullname 'Bulldog with designation of 1234' and 23.4 km in diameter\n"
     ]
    }
   ],
   "source": [
    "print(other_new)"
   ]
  },
  {
   "cell_type": "code",
   "execution_count": null,
   "metadata": {},
   "outputs": [],
   "source": []
  },
  {
   "cell_type": "code",
   "execution_count": 159,
   "metadata": {},
   "outputs": [
    {
     "data": {
      "text/plain": [
       "str"
      ]
     },
     "execution_count": 159,
     "metadata": {},
     "output_type": "execute_result"
    }
   ],
   "source": [
    "type(neo.designation)"
   ]
  },
  {
   "cell_type": "code",
   "execution_count": null,
   "metadata": {},
   "outputs": [],
   "source": []
  }
 ],
 "metadata": {
  "kernelspec": {
   "display_name": "Python 3",
   "language": "python",
   "name": "python3"
  },
  "language_info": {
   "codemirror_mode": {
    "name": "ipython",
    "version": 3
   },
   "file_extension": ".py",
   "mimetype": "text/x-python",
   "name": "python",
   "nbconvert_exporter": "python",
   "pygments_lexer": "ipython3",
   "version": "3.8.3"
  }
 },
 "nbformat": 4,
 "nbformat_minor": 4
}
