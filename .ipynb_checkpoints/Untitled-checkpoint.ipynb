{
 "cells": [
  {
   "cell_type": "code",
   "execution_count": 80,
   "metadata": {},
   "outputs": [],
   "source": [
    "class NearEarthObject:\n",
    "\n",
    "    \"\"\"A near-Earth object (NEO).\n",
    "\n",
    "    An NEO encapsulates semantic and physical parameters about the object, such\n",
    "    as its primary designation (required, unique), IAU name (optional), diameter\n",
    "    in kilometers (optional - sometimes unknown), and whether it's marked as\n",
    "    potentially hazardous to Earth.\n",
    "\n",
    "    A `NearEarthObject` also maintains a collection of its close approaches -\n",
    "    initialized to an empty collection, but eventually populated in the\n",
    "    `NEODatabase` constructor.\n",
    "    \"\"\"\n",
    "    # TODO: How can you, and should you, change the arguments to this constructor?\n",
    "    # If you make changes, be sure to update the comments in this file.\n",
    "\n",
    "    def __init__(self, designation='', name=None, diameter=float('nan'), hazardous=False):\n",
    "        \"\"\"Create a new `NearEarthObject`.\n",
    "\n",
    "        :param info: A dictionary of excess keyword arguments supplied to the constructor.\n",
    "        \"\"\"\n",
    "        # TODO: Assign information from the arguments passed to the constructor\n",
    "        # onto attributes named `designation`, `name`, `diameter`, and `hazardous`.\n",
    "        # You should coerce these values to their appropriate data type and\n",
    "        # handle any edge cases, such as a empty name being represented by `None`\n",
    "        # and a missing diameter being represented by `float('nan')`.\n",
    "        self.designation = designation\n",
    "        self.name = name\n",
    "        self.diameter = diameter\n",
    "        self.hazardous = hazardous\n",
    "\n",
    "        # Create an empty initial collection of linked approaches.\n",
    "        self.approaches = []\n",
    "\n",
    "    @property\n",
    "    def fullname(self):\n",
    "        \"\"\"Return a representation of the full name of this NEO.\"\"\"\n",
    "        # TODO: Use self.designation and self.name to build a fullname for this object.\n",
    "        if self.name is None:\n",
    "            return self.designation\n",
    "        else:\n",
    "            return self.name + ' ' + self.designation\n",
    "        return fullname\n",
    "\n",
    "    def __str__(self):\n",
    "        \"\"\"Return `str(self)`.\"\"\"\n",
    "        # TODO: Use this object's attributes to return a human-readable string representation.\n",
    "        # The project instructions include one possibility. Peek at the __repr__\n",
    "        # method for examples of advanced string formatting.\n",
    "        return f\"Reporting a new NEO with name of {self.fullname} and {self.diameter} km  in diameter\"\n",
    "\n",
    "    def __repr__(self):\n",
    "        \"\"\"Return `repr(self)`, a computer-readable string representation of this object.\"\"\"\n",
    "        return (f\"NearEarthObject(designation={self.designation!r}, name={self.name!r}, \"\n",
    "                f\"diameter={self.diameter:.3f}, hazardous={self.hazardous!r})\")\n"
   ]
  },
  {
   "cell_type": "code",
   "execution_count": 81,
   "metadata": {},
   "outputs": [],
   "source": [
    "neo = NearEarthObject(designation = '123', name = 'Pomo', diameter = 23.4)"
   ]
  },
  {
   "cell_type": "code",
   "execution_count": 82,
   "metadata": {},
   "outputs": [
    {
     "data": {
      "text/plain": [
       "'Pomo 123'"
      ]
     },
     "execution_count": 82,
     "metadata": {},
     "output_type": "execute_result"
    }
   ],
   "source": [
    "neo.fullname"
   ]
  },
  {
   "cell_type": "code",
   "execution_count": 83,
   "metadata": {},
   "outputs": [
    {
     "name": "stdout",
     "output_type": "stream",
     "text": [
      "Reporting a new NEO with name of Pomo 123 and 23.4 km  in diameter\n"
     ]
    }
   ],
   "source": [
    "print(neo)"
   ]
  },
  {
   "cell_type": "code",
   "execution_count": 84,
   "metadata": {},
   "outputs": [
    {
     "data": {
      "text/plain": [
       "\"NearEarthObject(designation='123', name='Pomo', diameter=23.400, hazardous=False)\""
      ]
     },
     "execution_count": 84,
     "metadata": {},
     "output_type": "execute_result"
    }
   ],
   "source": [
    "neo.__repr__()"
   ]
  },
  {
   "cell_type": "code",
   "execution_count": null,
   "metadata": {},
   "outputs": [],
   "source": []
  },
  {
   "cell_type": "code",
   "execution_count": null,
   "metadata": {},
   "outputs": [],
   "source": []
  },
  {
   "cell_type": "code",
   "execution_count": null,
   "metadata": {},
   "outputs": [],
   "source": []
  }
 ],
 "metadata": {
  "kernelspec": {
   "display_name": "Python 3",
   "language": "python",
   "name": "python3"
  },
  "language_info": {
   "codemirror_mode": {
    "name": "ipython",
    "version": 3
   },
   "file_extension": ".py",
   "mimetype": "text/x-python",
   "name": "python",
   "nbconvert_exporter": "python",
   "pygments_lexer": "ipython3",
   "version": "3.8.3"
  }
 },
 "nbformat": 4,
 "nbformat_minor": 4
}
