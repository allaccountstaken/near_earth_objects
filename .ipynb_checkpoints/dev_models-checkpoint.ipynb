{
 "cells": [
  {
   "cell_type": "code",
   "execution_count": null,
   "metadata": {},
   "outputs": [],
   "source": [
    "from helpers import cd_to_datetime, datetime_to_str"
   ]
  },
  {
   "cell_type": "code",
   "execution_count": 361,
   "metadata": {},
   "outputs": [],
   "source": [
    "class NearEarthObject:\n",
    "    \"\"\"A near-Earth object (NEO).\n",
    "\n",
    "    An NEO encapsulates semantic and physical parameters about the object, such\n",
    "    as its primary designation (required, unique), IAU name (optional), diameter\n",
    "    in kilometers (optional - sometimes unknown), and whether it's marked as\n",
    "    potentially hazardous to Earth.\n",
    "\n",
    "    A `NearEarthObject` also maintains a collection of its close approaches -\n",
    "    initialized to an empty collection, but eventually populated in the\n",
    "    `NEODatabase` constructor.\n",
    "    \"\"\"\n",
    "\n",
    "    def __init__(self, designation, name=None, diameter=float('nan'), hazardous=False):\n",
    "        \"\"\"Create a new `NearEarthObject`.\n",
    "        \n",
    "        :param info: \n",
    "        required unique designation (str), \n",
    "        optional name (str), diameter (float), hazardous (bool)\n",
    "        \"\"\"\n",
    "        \n",
    "        self.designation = str(designation)\n",
    "        self.name = str(name).title()\n",
    "        self.diameter = diameter\n",
    "        self.hazardous = hazardous\n",
    "        \n",
    "        self.approaches = []\n",
    "\n",
    "    @property\n",
    "    def fullname(self):\n",
    "        \"\"\"Return a representation of the full name of this NEO.\"\"\"\n",
    "        \n",
    "        if self.name is None:\n",
    "            return self.designation      \n",
    "        else:\n",
    "            return self.designation + \" (\" + self.name + \")\"\n",
    "    \n",
    "    @property\n",
    "    def hazard(self):\n",
    "        \"\"\"Return 'is/is not' depending on boolean value of hazardous.\"\"\"\n",
    "        \n",
    "        if self.hazardous:\n",
    "            hazard = 'is'\n",
    "        else:\n",
    "            hazard = 'is not'\n",
    "        return hazard\n",
    "\n",
    "    def __str__(self):\n",
    "        \"\"\"Return `str(self)`.\"\"\"\n",
    "\n",
    "        return f\"NEO {self.fullname} has a diameter {self.diameter} km and {self.hazard} potentially hazardous.\"\n",
    "\n",
    "    def __repr__(self):\n",
    "        \"\"\"Return `repr(self)`, a computer-readable string representation of this object.\"\"\"\n",
    "        \n",
    "        return (f\"NearEarthObject(designation={self.designation!r}, name={self.name!r}, \"\n",
    "                f\"diameter={self.diameter:.3f}, hazardous={self.hazardous!r})\")\n"
   ]
  },
  {
   "cell_type": "code",
   "execution_count": 382,
   "metadata": {},
   "outputs": [],
   "source": [
    "\n",
    "class CloseApproach:\n",
    "    \"\"\"A close approach to Earth by an NEO.\n",
    "\n",
    "    A `CloseApproach` encapsulates information about the NEO's close approach to\n",
    "    Earth, such as the date and time (in UTC) of closest approach, the nominal\n",
    "    approach distance in astronomical units, and the relative approach velocity\n",
    "    in kilometers per second.\n",
    "\n",
    "    A `CloseApproach` also maintains a reference to its `NearEarthObject` -\n",
    "    initally, this information (the NEO's primary designation) is saved in a\n",
    "    private attribute, but the referenced NEO is eventually replaced in the\n",
    "    `NEODatabase` constructor.\n",
    "    \"\"\"\n",
    "\n",
    "    def __init__(self, neo, time, distance=float('nan'), velocity=float('nan')):\n",
    "        \"\"\"Create a new `CloseApproach`.\n",
    "\n",
    "        :param info: \n",
    "        required unique designation (str), can be passed from the neo type'\n",
    "        required date (str);\n",
    "        optional: distance (float), velocity (bool), neo (neo).\n",
    "        \"\"\"\n",
    "\n",
    "        self.neo = neo\n",
    "        self._designation = neo.designation\n",
    "        self.time = cd_to_datetime(time)\n",
    "        \n",
    "        self.distance = distance\n",
    "        self.velocity = velocity\n",
    "\n",
    "        \n",
    "    @property\n",
    "    def time_str(self):\n",
    "        \"\"\"Return a formatted representation of this `CloseApproach`'s approach time.\n",
    "\n",
    "        The value in `self.time` should be a Python `datetime` object. While a\n",
    "        `datetime` object has a string representation, the default representation\n",
    "        includes seconds - significant figures that don't exist in our input\n",
    "        data set.\n",
    "\n",
    "        The `datetime_to_str` method converts a `datetime` object to a\n",
    "        formatted string that can be used in human-readable representations and\n",
    "        in serialization to CSV and JSON files.\n",
    "        \"\"\"\n",
    "\n",
    "        return datetime_to_str(self.time)\n",
    "\n",
    "    \n",
    "    def __str__(self):\n",
    "        \"\"\"Return `str(self)`.\"\"\"\n",
    "        return (f\"At {self.time_str} {self.neo.fullname}, \"\n",
    "                f\"approaching with speed {self.velocity} and distance {self.distance}\")\n",
    "\n",
    "    def __repr__(self):\n",
    "        \"\"\"Return `repr(self)`, a computer-readable string representation of this object.\"\"\"\n",
    "        return (f\"CloseApproach(time={self.time_str}, distance={self.distance:.2f}, \"\n",
    "                f\"velocity={self.velocity:.2f}, neo={self.neo!r})\")\n"
   ]
  },
  {
   "cell_type": "code",
   "execution_count": 383,
   "metadata": {},
   "outputs": [
    {
     "name": "stdout",
     "output_type": "stream",
     "text": [
      "NEO 10001 (Super  Hero) has a diameter 2.2 km and is potentially hazardous.\n"
     ]
    }
   ],
   "source": [
    "super_neo = NearEarthObject(10001, \"Super  Hero\", 2.2, True)\n",
    "print(super_neo)"
   ]
  },
  {
   "cell_type": "code",
   "execution_count": 384,
   "metadata": {},
   "outputs": [
    {
     "data": {
      "text/plain": [
       "'10001 (Super  Hero)'"
      ]
     },
     "execution_count": 384,
     "metadata": {},
     "output_type": "execute_result"
    }
   ],
   "source": [
    "super_neo.fullname"
   ]
  },
  {
   "cell_type": "code",
   "execution_count": 385,
   "metadata": {},
   "outputs": [],
   "source": [
    "ca4 = CloseApproach(super_neo, time='2099-Dec-11 17:15', velocity=5000, distance=2)"
   ]
  },
  {
   "cell_type": "code",
   "execution_count": 386,
   "metadata": {},
   "outputs": [
    {
     "name": "stdout",
     "output_type": "stream",
     "text": [
      "At 2099-12-11 17:15 10001 (Super  Hero), approaching with speed 5000 and distance 2\n"
     ]
    }
   ],
   "source": [
    "print(ca4)"
   ]
  },
  {
   "cell_type": "code",
   "execution_count": 313,
   "metadata": {},
   "outputs": [
    {
     "name": "stdout",
     "output_type": "stream",
     "text": [
      "2099-12-11 17:15 NEO 1234, approaching with speed 5000 and distance 2\n"
     ]
    }
   ],
   "source": [
    "print(ca2)"
   ]
  },
  {
   "cell_type": "code",
   "execution_count": 314,
   "metadata": {},
   "outputs": [],
   "source": [
    "booo_neo = NearEarthObject(111, 'Boooo')"
   ]
  },
  {
   "cell_type": "code",
   "execution_count": 317,
   "metadata": {},
   "outputs": [],
   "source": [
    "ca4 = CloseApproach(booo_neo)"
   ]
  },
  {
   "cell_type": "code",
   "execution_count": 319,
   "metadata": {},
   "outputs": [
    {
     "ename": "TypeError",
     "evalue": "descriptor 'strftime' for 'datetime.date' objects doesn't apply to a 'NoneType' object",
     "output_type": "error",
     "traceback": [
      "\u001b[0;31m---------------------------------------------------------------------------\u001b[0m",
      "\u001b[0;31mTypeError\u001b[0m                                 Traceback (most recent call last)",
      "\u001b[0;32m<ipython-input-319-794866d81322>\u001b[0m in \u001b[0;36m<module>\u001b[0;34m\u001b[0m\n\u001b[0;32m----> 1\u001b[0;31m \u001b[0mca4\u001b[0m\u001b[0;34m.\u001b[0m\u001b[0mtime_str\u001b[0m\u001b[0;34m\u001b[0m\u001b[0;34m\u001b[0m\u001b[0m\n\u001b[0m",
      "\u001b[0;32m<ipython-input-310-4b86be478811>\u001b[0m in \u001b[0;36mtime_str\u001b[0;34m(self)\u001b[0m\n\u001b[1;32m     51\u001b[0m         \"\"\"\n\u001b[1;32m     52\u001b[0m         \u001b[0;32mif\u001b[0m \u001b[0mtime\u001b[0m \u001b[0;32mis\u001b[0m \u001b[0;32mnot\u001b[0m \u001b[0;32mNone\u001b[0m\u001b[0;34m:\u001b[0m\u001b[0;34m\u001b[0m\u001b[0;34m\u001b[0m\u001b[0m\n\u001b[0;32m---> 53\u001b[0;31m             \u001b[0;32mreturn\u001b[0m \u001b[0mdatetime_to_str\u001b[0m\u001b[0;34m(\u001b[0m\u001b[0mself\u001b[0m\u001b[0;34m.\u001b[0m\u001b[0mtime\u001b[0m\u001b[0;34m)\u001b[0m\u001b[0;34m\u001b[0m\u001b[0;34m\u001b[0m\u001b[0m\n\u001b[0m\u001b[1;32m     54\u001b[0m         \u001b[0;32melse\u001b[0m\u001b[0;34m:\u001b[0m\u001b[0;34m\u001b[0m\u001b[0;34m\u001b[0m\u001b[0m\n\u001b[1;32m     55\u001b[0m             \u001b[0;32mreturn\u001b[0m \u001b[0;34m\"No datatime\"\u001b[0m\u001b[0;34m\u001b[0m\u001b[0;34m\u001b[0m\u001b[0m\n",
      "\u001b[0;32m~/Documents/code/py/s_redmond/near_earth_objects/helpers.py\u001b[0m in \u001b[0;36mdatetime_to_str\u001b[0;34m(dt)\u001b[0m\n\u001b[1;32m     42\u001b[0m     \u001b[0;34m:\u001b[0m\u001b[0;32mreturn\u001b[0m\u001b[0;34m:\u001b[0m \u001b[0mThat\u001b[0m \u001b[0mdatetime\u001b[0m\u001b[0;34m,\u001b[0m \u001b[0;32mas\u001b[0m \u001b[0ma\u001b[0m \u001b[0mhuman\u001b[0m\u001b[0;34m-\u001b[0m\u001b[0mreadable\u001b[0m \u001b[0mstring\u001b[0m \u001b[0mwithout\u001b[0m \u001b[0mseconds\u001b[0m\u001b[0;34m.\u001b[0m\u001b[0;34m\u001b[0m\u001b[0;34m\u001b[0m\u001b[0m\n\u001b[1;32m     43\u001b[0m     \"\"\"\n\u001b[0;32m---> 44\u001b[0;31m     \u001b[0;32mreturn\u001b[0m \u001b[0mdatetime\u001b[0m\u001b[0;34m.\u001b[0m\u001b[0mdatetime\u001b[0m\u001b[0;34m.\u001b[0m\u001b[0mstrftime\u001b[0m\u001b[0;34m(\u001b[0m\u001b[0mdt\u001b[0m\u001b[0;34m,\u001b[0m \u001b[0;34m\"%Y-%m-%d %H:%M\"\u001b[0m\u001b[0;34m)\u001b[0m\u001b[0;34m\u001b[0m\u001b[0;34m\u001b[0m\u001b[0m\n\u001b[0m",
      "\u001b[0;31mTypeError\u001b[0m: descriptor 'strftime' for 'datetime.date' objects doesn't apply to a 'NoneType' object"
     ]
    }
   ],
   "source": [
    "ca4.time_str"
   ]
  },
  {
   "cell_type": "code",
   "execution_count": 316,
   "metadata": {},
   "outputs": [
    {
     "ename": "TypeError",
     "evalue": "descriptor 'strftime' for 'datetime.date' objects doesn't apply to a 'NoneType' object",
     "output_type": "error",
     "traceback": [
      "\u001b[0;31m---------------------------------------------------------------------------\u001b[0m",
      "\u001b[0;31mTypeError\u001b[0m                                 Traceback (most recent call last)",
      "\u001b[0;32m<ipython-input-316-0cb9854b253d>\u001b[0m in \u001b[0;36m<module>\u001b[0;34m\u001b[0m\n\u001b[0;32m----> 1\u001b[0;31m \u001b[0mprint\u001b[0m\u001b[0;34m(\u001b[0m\u001b[0mca4\u001b[0m\u001b[0;34m)\u001b[0m\u001b[0;34m\u001b[0m\u001b[0;34m\u001b[0m\u001b[0m\n\u001b[0m",
      "\u001b[0;32m<ipython-input-310-4b86be478811>\u001b[0m in \u001b[0;36m__str__\u001b[0;34m(self)\u001b[0m\n\u001b[1;32m     57\u001b[0m     \u001b[0;32mdef\u001b[0m \u001b[0m__str__\u001b[0m\u001b[0;34m(\u001b[0m\u001b[0mself\u001b[0m\u001b[0;34m)\u001b[0m\u001b[0;34m:\u001b[0m\u001b[0;34m\u001b[0m\u001b[0;34m\u001b[0m\u001b[0m\n\u001b[1;32m     58\u001b[0m         \u001b[0;34m\"\"\"Return `str(self)`.\"\"\"\u001b[0m\u001b[0;34m\u001b[0m\u001b[0;34m\u001b[0m\u001b[0m\n\u001b[0;32m---> 59\u001b[0;31m         return (f\"{self.time_str} NEO {self._designation}, \"\n\u001b[0m\u001b[1;32m     60\u001b[0m                 f\"approaching with speed {self.velocity} and distance {self.distance}\")\n\u001b[1;32m     61\u001b[0m \u001b[0;34m\u001b[0m\u001b[0m\n",
      "\u001b[0;32m<ipython-input-310-4b86be478811>\u001b[0m in \u001b[0;36mtime_str\u001b[0;34m(self)\u001b[0m\n\u001b[1;32m     51\u001b[0m         \"\"\"\n\u001b[1;32m     52\u001b[0m         \u001b[0;32mif\u001b[0m \u001b[0mtime\u001b[0m \u001b[0;32mis\u001b[0m \u001b[0;32mnot\u001b[0m \u001b[0;32mNone\u001b[0m\u001b[0;34m:\u001b[0m\u001b[0;34m\u001b[0m\u001b[0;34m\u001b[0m\u001b[0m\n\u001b[0;32m---> 53\u001b[0;31m             \u001b[0;32mreturn\u001b[0m \u001b[0mdatetime_to_str\u001b[0m\u001b[0;34m(\u001b[0m\u001b[0mself\u001b[0m\u001b[0;34m.\u001b[0m\u001b[0mtime\u001b[0m\u001b[0;34m)\u001b[0m\u001b[0;34m\u001b[0m\u001b[0;34m\u001b[0m\u001b[0m\n\u001b[0m\u001b[1;32m     54\u001b[0m         \u001b[0;32melse\u001b[0m\u001b[0;34m:\u001b[0m\u001b[0;34m\u001b[0m\u001b[0;34m\u001b[0m\u001b[0m\n\u001b[1;32m     55\u001b[0m             \u001b[0;32mreturn\u001b[0m \u001b[0;34m\"No datatime\"\u001b[0m\u001b[0;34m\u001b[0m\u001b[0;34m\u001b[0m\u001b[0m\n",
      "\u001b[0;32m~/Documents/code/py/s_redmond/near_earth_objects/helpers.py\u001b[0m in \u001b[0;36mdatetime_to_str\u001b[0;34m(dt)\u001b[0m\n\u001b[1;32m     42\u001b[0m     \u001b[0;34m:\u001b[0m\u001b[0;32mreturn\u001b[0m\u001b[0;34m:\u001b[0m \u001b[0mThat\u001b[0m \u001b[0mdatetime\u001b[0m\u001b[0;34m,\u001b[0m \u001b[0;32mas\u001b[0m \u001b[0ma\u001b[0m \u001b[0mhuman\u001b[0m\u001b[0;34m-\u001b[0m\u001b[0mreadable\u001b[0m \u001b[0mstring\u001b[0m \u001b[0mwithout\u001b[0m \u001b[0mseconds\u001b[0m\u001b[0;34m.\u001b[0m\u001b[0;34m\u001b[0m\u001b[0;34m\u001b[0m\u001b[0m\n\u001b[1;32m     43\u001b[0m     \"\"\"\n\u001b[0;32m---> 44\u001b[0;31m     \u001b[0;32mreturn\u001b[0m \u001b[0mdatetime\u001b[0m\u001b[0;34m.\u001b[0m\u001b[0mdatetime\u001b[0m\u001b[0;34m.\u001b[0m\u001b[0mstrftime\u001b[0m\u001b[0;34m(\u001b[0m\u001b[0mdt\u001b[0m\u001b[0;34m,\u001b[0m \u001b[0;34m\"%Y-%m-%d %H:%M\"\u001b[0m\u001b[0;34m)\u001b[0m\u001b[0;34m\u001b[0m\u001b[0;34m\u001b[0m\u001b[0m\n\u001b[0m",
      "\u001b[0;31mTypeError\u001b[0m: descriptor 'strftime' for 'datetime.date' objects doesn't apply to a 'NoneType' object"
     ]
    }
   ],
   "source": [
    "print(ca4)"
   ]
  },
  {
   "cell_type": "code",
   "execution_count": 344,
   "metadata": {},
   "outputs": [],
   "source": [
    "neo = NearEarthObject(designation = 123, name = 123, diameter = 23.4, hazardous=True)"
   ]
  },
  {
   "cell_type": "code",
   "execution_count": 345,
   "metadata": {},
   "outputs": [
    {
     "data": {
      "text/plain": [
       "\"'123 with designation of 123'\""
      ]
     },
     "execution_count": 345,
     "metadata": {},
     "output_type": "execute_result"
    }
   ],
   "source": [
    "neo.fullname"
   ]
  },
  {
   "cell_type": "code",
   "execution_count": 346,
   "metadata": {},
   "outputs": [
    {
     "name": "stdout",
     "output_type": "stream",
     "text": [
      "NEO '123 with designation of 123' has a diameter 23.4 km and is potentially hazardous.\n"
     ]
    }
   ],
   "source": [
    "print(neo)"
   ]
  },
  {
   "cell_type": "code",
   "execution_count": 328,
   "metadata": {},
   "outputs": [
    {
     "data": {
      "text/plain": [
       "'123'"
      ]
     },
     "execution_count": 328,
     "metadata": {},
     "output_type": "execute_result"
    }
   ],
   "source": [
    "neo.designation"
   ]
  },
  {
   "cell_type": "code",
   "execution_count": 329,
   "metadata": {},
   "outputs": [
    {
     "data": {
      "text/plain": [
       "\"NearEarthObject(designation='123', name='123', diameter=23.400, hazardous=False)\""
      ]
     },
     "execution_count": 329,
     "metadata": {},
     "output_type": "execute_result"
    }
   ],
   "source": [
    "neo.__repr__()"
   ]
  },
  {
   "cell_type": "code",
   "execution_count": 338,
   "metadata": {},
   "outputs": [],
   "source": [
    "other_new = NearEarthObject(1234, \"bulldog\", 23.4)"
   ]
  },
  {
   "cell_type": "code",
   "execution_count": 339,
   "metadata": {},
   "outputs": [
    {
     "name": "stdout",
     "output_type": "stream",
     "text": [
      "NEO 'Bulldog with designation of 1234' has a diameter 23.4 km and is not potentially hazardous.\n"
     ]
    }
   ],
   "source": [
    "print(other_new)"
   ]
  },
  {
   "cell_type": "code",
   "execution_count": null,
   "metadata": {},
   "outputs": [],
   "source": []
  },
  {
   "cell_type": "code",
   "execution_count": 159,
   "metadata": {},
   "outputs": [
    {
     "data": {
      "text/plain": [
       "str"
      ]
     },
     "execution_count": 159,
     "metadata": {},
     "output_type": "execute_result"
    }
   ],
   "source": [
    "type(neo.designation)"
   ]
  },
  {
   "cell_type": "code",
   "execution_count": null,
   "metadata": {},
   "outputs": [],
   "source": []
  }
 ],
 "metadata": {
  "kernelspec": {
   "display_name": "Python 3",
   "language": "python",
   "name": "python3"
  },
  "language_info": {
   "codemirror_mode": {
    "name": "ipython",
    "version": 3
   },
   "file_extension": ".py",
   "mimetype": "text/x-python",
   "name": "python",
   "nbconvert_exporter": "python",
   "pygments_lexer": "ipython3",
   "version": "3.8.3"
  }
 },
 "nbformat": 4,
 "nbformat_minor": 4
}
