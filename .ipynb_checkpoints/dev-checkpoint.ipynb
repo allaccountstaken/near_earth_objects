{
 "cells": [
  {
   "cell_type": "code",
   "execution_count": 4,
   "metadata": {},
   "outputs": [],
   "source": [
    "from helpers import cd_to_datetime, datetime_to_str\n",
    "\n",
    "class NearEarthObject:\n",
    "    \"\"\"A near-Earth object (NEO).\n",
    "\n",
    "    An NEO encapsulates semantic and physical parameters about the object, such\n",
    "    as its primary designation (required, unique), IAU name (optional), diameter\n",
    "    in kilometers (optional - sometimes unknown), and whether it's marked as\n",
    "    potentially hazardous to Earth.\n",
    "\n",
    "    A `NearEarthObject` also maintains a collection of its close approaches -\n",
    "    initialized to an empty collection, but eventually populated in the\n",
    "    `NEODatabase` constructor.\n",
    "    \"\"\"\n",
    "\n",
    "    def __init__(self, designation, name=None, diameter=float('nan'), hazardous='N'):\n",
    "        \"\"\"Create a new `NearEarthObject`.\n",
    "        \n",
    "        :param info: \n",
    "        required unique designation (str), \n",
    "        optional name (str), diameter (float), hazardous (bool)\n",
    "        \"\"\"\n",
    "        \n",
    "        self.designation = str(designation)\n",
    "        self.name = str(name).title()\n",
    "        self.diameter = diameter\n",
    "        self.hazardous = hazardous\n",
    "        \n",
    "        self.approaches = []\n",
    "\n",
    "    @property\n",
    "    def fullname(self):\n",
    "        \"\"\"Return a representation of the full name of this NEO.\"\"\"\n",
    "        \n",
    "        if self.name is None:\n",
    "            return self.designation      \n",
    "        else:\n",
    "            return self.designation + \" (\" + self.name + \")\"\n",
    "    \n",
    "    @property\n",
    "    def hazard(self):\n",
    "        \"\"\"Return 'is/is not' depending on boolean value of hazardous.\"\"\"\n",
    "        \n",
    "        if self.hazardous == 'N':\n",
    "            hazard = 'is not'\n",
    "        else:\n",
    "            hazard = 'is'\n",
    "        return hazard\n",
    "\n",
    "    def __str__(self):\n",
    "        \"\"\"Return `str(self)`.\"\"\"\n",
    "        \n",
    "        formatted_string = \"NEO {} has a diameter {} km and {} potentially hazardous.\".format(\n",
    "        self.fullname, self.diameter, self.hazard\n",
    "        )\n",
    "\n",
    "        return formatted_string\n",
    "  \n",
    "    \n",
    "    def __hash__(self):\n",
    "        return hash(str(self))\n",
    "    \n",
    "    def __eq__(self, neo):\n",
    "        return self.designation is neo.designation\n",
    "\n",
    "class CloseApproach:\n",
    "    \"\"\"A close approach to Earth by an NEO.\n",
    "\n",
    "    A `CloseApproach` encapsulates information about the NEO's close approach to\n",
    "    Earth, such as the date and time (in UTC) of closest approach, the nominal\n",
    "    approach distance in astronomical units, and the relative approach velocity\n",
    "    in kilometers per second.\n",
    "\n",
    "    A `CloseApproach` also maintains a reference to its `NearEarthObject` -\n",
    "    initally, this information (the NEO's primary designation) is saved in a\n",
    "    private attribute, but the referenced NEO is eventually replaced in the\n",
    "    `NEODatabase` constructor.\n",
    "    \"\"\"\n",
    "\n",
    "    def __init__(self, des, time, distance=float('nan'), velocity=float('nan'), neo=None):\n",
    "        \"\"\"Create a new `CloseApproach`.\n",
    "\n",
    "        :param info: \n",
    "        required unique designation (str), can be passed from the neo type'\n",
    "        required date (str);\n",
    "        optional: distance (float), velocity (bool), neo (neo).\n",
    "        \"\"\"\n",
    "\n",
    "        \n",
    "        self._designation = des\n",
    "        self.time = cd_to_datetime(time)        \n",
    "        self.distance = distance\n",
    "        self.velocity = velocity\n",
    "        self.neo = neo\n",
    "\n",
    "        \n",
    "    @property\n",
    "    def time_str(self):\n",
    "        \"\"\"Return a formatted representation of this `CloseApproach`'s approach time.\n",
    "\n",
    "        The value in `self.time` should be a Python `datetime` object. While a\n",
    "        `datetime` object has a string representation, the default representation\n",
    "        includes seconds - significant figures that don't exist in our input\n",
    "        data set.\n",
    "\n",
    "        The `datetime_to_str` method converts a `datetime` object to a\n",
    "        formatted string that can be used in human-readable representations and\n",
    "        in serialization to CSV and JSON files.\n",
    "        \"\"\"\n",
    "\n",
    "        return datetime_to_str(self.time)\n",
    "\n",
    "    \n",
    "    def __str__(self):\n",
    "        \"\"\"Return `str(self)`.\"\"\"\n",
    "        \n",
    "        formatted_string = \"- On {} NEO {} approaching with speed {} km/s and distance {} au.\".format(\n",
    "        self.time_str, self.neo.fullname, self.velocity, self.distance\n",
    "        )\n",
    "            \n",
    "        return formatted_string\n",
    "\n",
    "    def __repr__(self):\n",
    "        \"\"\"Return `repr(self)`, a computer-readable string representation of this object.\"\"\"\n",
    "        \n",
    "        formatted_string = \"CloseApproach(time={}, distance={}, velocity={}, neo={})\".format(\n",
    "        self.time_str, self.distance, self.velocity, self.neo)\n",
    "        \n",
    "        return formatted_string"
   ]
  },
  {
   "cell_type": "code",
   "execution_count": 8,
   "metadata": {},
   "outputs": [],
   "source": [
    "n = NearEarthObject(123, 'Barsik', 21.21, True)\n",
    "cap1 = CloseApproach(123, '1900-Dec-27 12:12', 10, 0.1, n)\n",
    "cap2 = CloseApproach(123, '1910-Dec-27 12:12', 11, 1.1, n)"
   ]
  },
  {
   "cell_type": "code",
   "execution_count": 9,
   "metadata": {},
   "outputs": [
    {
     "name": "stdout",
     "output_type": "stream",
     "text": [
      "NEO 123 (Barsik) has a diameter 21.21 km and is potentially hazardous.\n"
     ]
    }
   ],
   "source": [
    "print(n)"
   ]
  },
  {
   "cell_type": "code",
   "execution_count": 10,
   "metadata": {},
   "outputs": [
    {
     "name": "stdout",
     "output_type": "stream",
     "text": [
      "- On 1900-12-27 12:12 NEO 123 (Barsik) approaching with speed 0.1 km/s and distance 10 au. - On 1910-12-27 12:12 NEO 123 (Barsik) approaching with speed 1.1 km/s and distance 11 au.\n"
     ]
    }
   ],
   "source": [
    "print(cap1, cap2)"
   ]
  },
  {
   "cell_type": "code",
   "execution_count": 11,
   "metadata": {},
   "outputs": [
    {
     "data": {
      "text/plain": [
       "[]"
      ]
     },
     "execution_count": 11,
     "metadata": {},
     "output_type": "execute_result"
    }
   ],
   "source": [
    "n.approaches"
   ]
  },
  {
   "cell_type": "code",
   "execution_count": 12,
   "metadata": {},
   "outputs": [],
   "source": [
    "n.approaches.append(cap1)\n",
    "n.approaches.append(cap2)"
   ]
  },
  {
   "cell_type": "code",
   "execution_count": 13,
   "metadata": {},
   "outputs": [
    {
     "data": {
      "text/plain": [
       "[CloseApproach(time=1900-12-27 12:12, distance=10, velocity=0.1, neo=NEO 123 (Barsik) has a diameter 21.21 km and is potentially hazardous.),\n",
       " CloseApproach(time=1910-12-27 12:12, distance=11, velocity=1.1, neo=NEO 123 (Barsik) has a diameter 21.21 km and is potentially hazardous.)]"
      ]
     },
     "execution_count": 13,
     "metadata": {},
     "output_type": "execute_result"
    }
   ],
   "source": [
    "n.approaches"
   ]
  },
  {
   "cell_type": "markdown",
   "metadata": {},
   "source": [
    "### Loading datasets with `extract.py`"
   ]
  },
  {
   "cell_type": "code",
   "execution_count": 172,
   "metadata": {},
   "outputs": [],
   "source": [
    "\"\"\"Extract data on near-Earth objects and close approaches from CSV and JSON files.\n",
    "\n",
    "The `load_neos` function extracts NEO data from a CSV file, formatted as\n",
    "described in the project instructions, into a collection of `NearEarthObject`s.\n",
    "\n",
    "The `load_approaches` function extracts close approach data from a JSON file,\n",
    "formatted as described in the project instructions, into a collection of\n",
    "`CloseApproach` objects.\n",
    "\n",
    "The main module calls these functions with the arguments provided at the command\n",
    "line, and uses the resulting collections to build an `NEODatabase`.\n",
    "\n",
    "You'll edit this file in Task 2.\n",
    "\"\"\"\n",
    "import csv\n",
    "import json\n",
    "from collections import defaultdict\n",
    "\n",
    "#from models import NearEarthObject, CloseApproach\n",
    "\n",
    "\n",
    "def load_neos(neo_csv_path = 'data/neos.csv') -> dict:\n",
    "    \"\"\"Read near-Earth object information from a CSV file.\n",
    "\n",
    "    :param neo_csv_path: A path to a CSV file containing data about near-Earth objects.\n",
    "    :return: A collection of `NearEarthObject`s.\n",
    "    \"\"\"\n",
    "\n",
    "    with open(neo_csv_path, 'r') as file:\n",
    "        neo_data = [row for row in csv.DictReader(file)]\n",
    "        \n",
    "    neos_dict = {}\n",
    "    for i in range(len(neo_data)):\n",
    "        neos_dict[neo_data[i]['pdes']] = NearEarthObject(\n",
    "            neo_data[i]['pdes'], \n",
    "            neo_data[i]['name'], \n",
    "            neo_data[i]['diameter'], \n",
    "            neo_data[i]['pha']\n",
    "        )\n",
    "    \n",
    "    return neos_dict\n",
    "\n",
    "\n",
    "\n",
    "def load_approaches(cad_json_path = 'data/cad.json') -> dict:\n",
    "    \"\"\"Read close approach data from a JSON file.\n",
    "\n",
    "    :param neo_csv_path: A path to a JSON file containing data about close approaches.\n",
    "    :return: A collection of `CloseApproach`es.\n",
    "    \"\"\"\n",
    "\n",
    "    with open(cad_json_path, 'r') as file:\n",
    "        cads_data = sorted(json.load(file)['data'])\n",
    "\n",
    "    cads_dict = {}\n",
    "\n",
    "    for i in range(len(cads_data)):\n",
    "        des = cads_data[i][0]\n",
    "        time = cads_data[i][3]\n",
    "        distance = cads_data[i][5] \n",
    "        velocity = cads_data[i][7]\n",
    "\n",
    "        if des not in cads_dict:\n",
    "            cads_dict[des] = []\n",
    "            cads_dict[des].append({time : CloseApproach(des, time, distance, velocity)})\n",
    "        \n",
    "        else:\n",
    "            cads_dict[des].append({time : CloseApproach(des, time, distance, velocity)})\n",
    "\n",
    "    return cads_dict\n"
   ]
  },
  {
   "cell_type": "code",
   "execution_count": 310,
   "metadata": {},
   "outputs": [],
   "source": [
    "neos_dict = load_neos()\n",
    "approaches_dict = load_approaches()\n",
    "\n",
    "for pdes, neo in neos_dict.items():   \n",
    "    for des, cads in approaches_dict.items():        \n",
    "        if pdes == des:           \n",
    "            for i in range(len(cads)):                \n",
    "                for value in cads[i].values():\n",
    "                    neos_dict[pdes].approaches.append(value)\n",
    "                    value.neo = neo"
   ]
  },
  {
   "cell_type": "code",
   "execution_count": 325,
   "metadata": {},
   "outputs": [
    {
     "data": {
      "text/plain": [
       "'433 (Eros)'"
      ]
     },
     "execution_count": 325,
     "metadata": {},
     "output_type": "execute_result"
    }
   ],
   "source": [
    "approaches_dict['433'][0]['1900-Dec-27 01:30'].neo.fullname"
   ]
  },
  {
   "cell_type": "code",
   "execution_count": 326,
   "metadata": {},
   "outputs": [],
   "source": [
    "\"\"\"A database encapsulating collections of near-Earth objects and their close approaches.\n",
    "    \n",
    "    A `NEODatabase` holds an interconnected data set of NEOs and close approaches.\n",
    "    It provides methods to fetch an NEO by primary designation or by name, as well\n",
    "    as a method to query the set of close approaches that match a collection of\n",
    "    user-specified criteria.\n",
    "    \n",
    "    Under normal circumstances, the main module creates one NEODatabase from the\n",
    "    data on NEOs and close approaches extracted by `extract.load_neos` and\n",
    "    `extract.load_approaches`.\n",
    "    \n",
    "    \"\"\"\n",
    "#from extract import load_neos, load_approaches\n",
    "\n",
    "class NEODatabase:\n",
    "    \"\"\"A database of near-Earth objects and their close approaches.\n",
    "        \n",
    "        A `NEODatabase` contains a collection of NEOs and a collection of close\n",
    "        approaches. It additionally maintains a few auxiliary data structures to\n",
    "        help fetch NEOs by primary designation or by name and to help speed up\n",
    "        querying for close approaches that match criteria.\n",
    "        \"\"\"\n",
    "    def __init__(self, neos_dict, approaches_dict):\n",
    "        \"\"\"Create a new `NEODatabase`.\n",
    "            \n",
    "            As a precondition, this constructor assumes that the collections of NEOs\n",
    "            and close approaches haven't yet been linked - that is, the\n",
    "            `.approaches` attribute of each `NearEarthObject` resolves to an empty\n",
    "            collection, and the `.neo` attribute of each `CloseApproach` is None.\n",
    "            \n",
    "            However, each `CloseApproach` has an attribute (`._designation`) that\n",
    "            matches the `.designation` attribute of the corresponding NEO. This\n",
    "            constructor modifies the supplied NEOs and close approaches to link them\n",
    "            together - after it's done, the `.approaches` attribute of each NEO has\n",
    "            a collection of that NEO's close approaches, and the `.neo` attribute of\n",
    "            each close approach references the appropriate NEO.\n",
    "            \n",
    "            :param neos: A collection of `NearEarthObject`s.\n",
    "            :param approaches: A collection of `CloseApproach`es.\n",
    "            \"\"\"\n",
    "        self.neos_dict = neos_dict\n",
    "        self.approaches_dict = approaches_dict\n",
    "\n",
    "\n",
    "        for pdes, neo in self.neos_dict.items():\n",
    "\n",
    "            for des, cads in self.approaches_dict.items():\n",
    "\n",
    "                if pdes == des:\n",
    "\n",
    "                    for i in range(len(cads)):\n",
    "\n",
    "                        for value in cads[i].values():\n",
    "                            self.neos_dict[pdes].approaches.append(value)\n",
    "                            value.neo = neo\n",
    "    \n",
    "\n",
    "\n",
    "    def get_neo_by_designation(self, designation):\n",
    "        \"\"\"Find and return an NEO by its primary designation.\n",
    "\n",
    "            If no match is found, return `None` instead.\n",
    "\n",
    "            Each NEO in the data set has a unique primary designation, as a string.\n",
    "\n",
    "            The matching is exact - check for spelling and capitalization if no\n",
    "            match is found.\n",
    "\n",
    "            :param designation: The primary designation of the NEO to search for.\n",
    "            :return: The `NearEarthObject` with the desired primary designation, or `None`.\n",
    "            \"\"\"\n",
    "        if designation in self.neos_dict.keys():\n",
    "            print (self.neos_dict[designation])\n",
    "        else:\n",
    "            print(\"No NEO designation {} was found.\".format(designation))\n",
    "        return\n",
    "                    \n",
    "\n",
    "\n",
    "    def get_neo_by_name(self, name):\n",
    "        \"\"\"Find and return an NEO by its name.\n",
    "\n",
    "            If no match is found, return `None` instead.\n",
    "\n",
    "            Not every NEO in the data set has a name. No NEOs are associated with\n",
    "            the empty string nor with the `None` singleton.\n",
    "\n",
    "            The matching is exact - check for spelling and capitalization if no\n",
    "            match is found.\n",
    "\n",
    "            :param name: The name, as a string, of the NEO to search for.\n",
    "            :return: The `NearEarthObject` with the desired name, or `None`.\n",
    "            \"\"\"\n",
    "        for neo in self.neos_dict.values():\n",
    "            if name == neo.name:\n",
    "                return neo\n",
    "                break \n",
    "            else:\n",
    "                print(\"No NEO name {} was found.\".format(name))\n",
    "        return\n",
    "\n",
    "    def query(self, filters=()):\n",
    "        \"\"\"Query close approaches to generate those that match a collection of filters.\n",
    "\n",
    "            This generates a stream of `CloseApproach` objects that match all of the\n",
    "            provided filters.\n",
    "\n",
    "            If no arguments are provided, generate all known close approaches.\n",
    "\n",
    "            The `CloseApproach` objects are generated in internal order, which isn't\n",
    "            guaranteed to be sorted meaninfully, although is often sorted by time.\n",
    "\n",
    "            :param filters: A collection of filters capturing user-specified criteria.\n",
    "            :return: A stream of matching `CloseApproach` objects.\n",
    "            \"\"\"\n",
    "\n",
    "            # TODO: Generate `CloseApproach` objects that match all of the filters.\n",
    "        for approach in self.approaches:\n",
    "            yield approach\n"
   ]
  },
  {
   "cell_type": "code",
   "execution_count": 327,
   "metadata": {},
   "outputs": [],
   "source": [
    "neo_db = NEODatabase(neos_dict, approaches_dict)"
   ]
  },
  {
   "cell_type": "code",
   "execution_count": 330,
   "metadata": {},
   "outputs": [
    {
     "data": {
      "text/plain": [
       "46"
      ]
     },
     "execution_count": 330,
     "metadata": {},
     "output_type": "execute_result"
    }
   ],
   "source": [
    "len(neo_db.neos_dict['433'].approaches)"
   ]
  },
  {
   "cell_type": "code",
   "execution_count": 332,
   "metadata": {},
   "outputs": [
    {
     "data": {
      "text/plain": [
       "23967"
      ]
     },
     "execution_count": 332,
     "metadata": {},
     "output_type": "execute_result"
    }
   ],
   "source": [
    "len(neo_db.neos_dict)"
   ]
  },
  {
   "cell_type": "code",
   "execution_count": 333,
   "metadata": {},
   "outputs": [
    {
     "data": {
      "text/plain": [
       "23424"
      ]
     },
     "execution_count": 333,
     "metadata": {},
     "output_type": "execute_result"
    }
   ],
   "source": [
    "len(neo_db.approaches_dict)"
   ]
  },
  {
   "cell_type": "code",
   "execution_count": 334,
   "metadata": {},
   "outputs": [
    {
     "name": "stdout",
     "output_type": "stream",
     "text": [
      "NEO 433 (Eros) has a diameter 16.84 km and is not potentially hazardous.\n"
     ]
    },
    {
     "data": {
      "text/plain": [
       "NoneType"
      ]
     },
     "execution_count": 334,
     "metadata": {},
     "output_type": "execute_result"
    }
   ],
   "source": [
    "type(neo_db.get_neo_by_designation('433'))"
   ]
  },
  {
   "cell_type": "code",
   "execution_count": 338,
   "metadata": {},
   "outputs": [
    {
     "data": {
      "text/plain": [
       "24"
      ]
     },
     "execution_count": 338,
     "metadata": {},
     "output_type": "execute_result"
    }
   ],
   "source": [
    "len(neo_db.neos_dict['100004'].approaches)"
   ]
  },
  {
   "cell_type": "code",
   "execution_count": 339,
   "metadata": {},
   "outputs": [
    {
     "name": "stdout",
     "output_type": "stream",
     "text": [
      "NEO 433 (Eros) has a diameter 16.84 km and is not potentially hazardous.\n"
     ]
    }
   ],
   "source": [
    "neo_db.get_neo_by_designation('433')"
   ]
  },
  {
   "cell_type": "code",
   "execution_count": 340,
   "metadata": {},
   "outputs": [
    {
     "name": "stdout",
     "output_type": "stream",
     "text": [
      "NEO 100004 () has a diameter 2.70 km and is not potentially hazardous.\n"
     ]
    }
   ],
   "source": [
    "neo_db.get_neo_by_designation('100004')"
   ]
  },
  {
   "cell_type": "code",
   "execution_count": 343,
   "metadata": {},
   "outputs": [
    {
     "data": {
      "text/plain": [
       "'433'"
      ]
     },
     "execution_count": 343,
     "metadata": {},
     "output_type": "execute_result"
    }
   ],
   "source": [
    "neo_db.get_neo_by_name('Eros').designation"
   ]
  },
  {
   "cell_type": "code",
   "execution_count": null,
   "metadata": {},
   "outputs": [],
   "source": []
  }
 ],
 "metadata": {
  "kernelspec": {
   "display_name": "Python 3",
   "language": "python",
   "name": "python3"
  },
  "language_info": {
   "codemirror_mode": {
    "name": "ipython",
    "version": 3
   },
   "file_extension": ".py",
   "mimetype": "text/x-python",
   "name": "python",
   "nbconvert_exporter": "python",
   "pygments_lexer": "ipython3",
   "version": "3.8.3"
  }
 },
 "nbformat": 4,
 "nbformat_minor": 4
}
