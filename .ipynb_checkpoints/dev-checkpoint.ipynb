{
 "cells": [
  {
   "cell_type": "code",
   "execution_count": 1,
   "metadata": {},
   "outputs": [],
   "source": [
    "from helpers import cd_to_datetime, datetime_to_str\n",
    "\n",
    "class NearEarthObject:\n",
    "    \"\"\"A near-Earth object (NEO).\n",
    "\n",
    "    An NEO encapsulates semantic and physical parameters about the object, such\n",
    "    as its primary designation (required, unique), IAU name (optional), diameter\n",
    "    in kilometers (optional - sometimes unknown), and whether it's marked as\n",
    "    potentially hazardous to Earth.\n",
    "\n",
    "    A `NearEarthObject` also maintains a collection of its close approaches -\n",
    "    initialized to an empty collection, but eventually populated in the\n",
    "    `NEODatabase` constructor.\n",
    "    \"\"\"\n",
    "\n",
    "    def __init__(self, designation, name=None, diameter=float('nan'), hazardous='N'):\n",
    "        \"\"\"Create a new `NearEarthObject`.\n",
    "        \n",
    "        :param info: \n",
    "        required unique designation (str), \n",
    "        optional name (str), diameter (float), hazardous (bool)\n",
    "        \"\"\"\n",
    "        \n",
    "        self.designation = str(designation)\n",
    "        self.name = str(name).title()\n",
    "        self.diameter = diameter\n",
    "        self.hazardous = hazardous\n",
    "        \n",
    "        self.approaches = []\n",
    "\n",
    "    @property\n",
    "    def fullname(self):\n",
    "        \"\"\"Return a representation of the full name of this NEO.\"\"\"\n",
    "        \n",
    "        if self.name is None:\n",
    "            return self.designation      \n",
    "        else:\n",
    "            return self.designation + \" (\" + self.name + \")\"\n",
    "    \n",
    "    @property\n",
    "    def hazard(self):\n",
    "        \"\"\"Return 'is/is not' depending on boolean value of hazardous.\"\"\"\n",
    "        \n",
    "        if self.hazardous == 'N':\n",
    "            hazard = 'is not'\n",
    "        else:\n",
    "            hazard = 'is'\n",
    "        return hazard\n",
    "\n",
    "    def __str__(self):\n",
    "        \"\"\"Return `str(self)`.\"\"\"\n",
    "        \n",
    "        formatted_string = \"NEO {} has a diameter {} km and {} potentially hazardous.\".format(\n",
    "        self.fullname, self.diameter, self.hazard\n",
    "        )\n",
    "\n",
    "        return formatted_string\n",
    "  \n",
    "    \n",
    "    def __hash__(self):\n",
    "        return hash(str(self))\n",
    "    \n",
    "    def __eq__(self, neo):\n",
    "        return self.designation is neo.designation\n",
    "\n",
    "class CloseApproach:\n",
    "    \"\"\"A close approach to Earth by an NEO.\n",
    "\n",
    "    A `CloseApproach` encapsulates information about the NEO's close approach to\n",
    "    Earth, such as the date and time (in UTC) of closest approach, the nominal\n",
    "    approach distance in astronomical units, and the relative approach velocity\n",
    "    in kilometers per second.\n",
    "\n",
    "    A `CloseApproach` also maintains a reference to its `NearEarthObject` -\n",
    "    initally, this information (the NEO's primary designation) is saved in a\n",
    "    private attribute, but the referenced NEO is eventually replaced in the\n",
    "    `NEODatabase` constructor.\n",
    "    \"\"\"\n",
    "\n",
    "    def __init__(self, des, time, distance=float('nan'), velocity=float('nan'), neo=None):\n",
    "        \"\"\"Create a new `CloseApproach`.\n",
    "\n",
    "        :param info: \n",
    "        required unique designation (str), can be passed from the neo type'\n",
    "        required date (str);\n",
    "        optional: distance (float), velocity (bool), neo (neo).\n",
    "        \"\"\"\n",
    "\n",
    "        \n",
    "        self._designation = des\n",
    "        self.time = cd_to_datetime(time)        \n",
    "        self.distance = distance\n",
    "        self.velocity = velocity\n",
    "        self.neo = neo\n",
    "\n",
    "        \n",
    "    @property\n",
    "    def time_str(self):\n",
    "        \"\"\"Return a formatted representation of this `CloseApproach`'s approach time.\n",
    "\n",
    "        The value in `self.time` should be a Python `datetime` object. While a\n",
    "        `datetime` object has a string representation, the default representation\n",
    "        includes seconds - significant figures that don't exist in our input\n",
    "        data set.\n",
    "\n",
    "        The `datetime_to_str` method converts a `datetime` object to a\n",
    "        formatted string that can be used in human-readable representations and\n",
    "        in serialization to CSV and JSON files.\n",
    "        \"\"\"\n",
    "\n",
    "        return datetime_to_str(self.time)\n",
    "\n",
    "    \n",
    "    def __str__(self):\n",
    "        \"\"\"Return `str(self)`.\"\"\"\n",
    "        \n",
    "        formatted_string = \"- On {} NEO {} approaching with speed {} km/s and distance {} au.\".format(\n",
    "        self.time_str, self.neo.fullname, self.velocity, self.distance\n",
    "        )\n",
    "            \n",
    "        return formatted_string\n",
    "\n",
    "    def __repr__(self):\n",
    "        \"\"\"Return `repr(self)`, a computer-readable string representation of this object.\"\"\"\n",
    "        \n",
    "        formatted_string = \"CloseApproach(time={}, distance={}, velocity={}, neo={})\".format(\n",
    "        self.time_str, self.distance, self.velocity, self.neo)\n",
    "        \n",
    "        return formatted_string"
   ]
  },
  {
   "cell_type": "code",
   "execution_count": 2,
   "metadata": {},
   "outputs": [],
   "source": [
    "n = NearEarthObject(123, 'Barsik', 21.21, True)\n",
    "cap1 = CloseApproach(123, '1900-Dec-27 12:12', 10, 0.1, n)\n",
    "cap2 = CloseApproach(123, '1910-Dec-27 12:12', 11, 1.1, n)"
   ]
  },
  {
   "cell_type": "code",
   "execution_count": 3,
   "metadata": {},
   "outputs": [
    {
     "name": "stdout",
     "output_type": "stream",
     "text": [
      "NEO 123 (Barsik) has a diameter 21.21 km and is potentially hazardous.\n"
     ]
    }
   ],
   "source": [
    "print(n)"
   ]
  },
  {
   "cell_type": "code",
   "execution_count": 4,
   "metadata": {},
   "outputs": [
    {
     "name": "stdout",
     "output_type": "stream",
     "text": [
      "- On 1900-12-27 12:12 NEO 123 (Barsik) approaching with speed 0.1 km/s and distance 10 au. - On 1910-12-27 12:12 NEO 123 (Barsik) approaching with speed 1.1 km/s and distance 11 au.\n"
     ]
    }
   ],
   "source": [
    "print(cap1, cap2)"
   ]
  },
  {
   "cell_type": "code",
   "execution_count": 5,
   "metadata": {},
   "outputs": [
    {
     "data": {
      "text/plain": [
       "[]"
      ]
     },
     "execution_count": 5,
     "metadata": {},
     "output_type": "execute_result"
    }
   ],
   "source": [
    "n.approaches"
   ]
  },
  {
   "cell_type": "code",
   "execution_count": 6,
   "metadata": {},
   "outputs": [],
   "source": [
    "n.approaches.append(cap1)\n",
    "n.approaches.append(cap2)"
   ]
  },
  {
   "cell_type": "code",
   "execution_count": 7,
   "metadata": {},
   "outputs": [
    {
     "data": {
      "text/plain": [
       "[CloseApproach(time=1900-12-27 12:12, distance=10, velocity=0.1, neo=NEO 123 (Barsik) has a diameter 21.21 km and is potentially hazardous.),\n",
       " CloseApproach(time=1910-12-27 12:12, distance=11, velocity=1.1, neo=NEO 123 (Barsik) has a diameter 21.21 km and is potentially hazardous.)]"
      ]
     },
     "execution_count": 7,
     "metadata": {},
     "output_type": "execute_result"
    }
   ],
   "source": [
    "n.approaches"
   ]
  },
  {
   "cell_type": "markdown",
   "metadata": {},
   "source": [
    "### Loading datasets with `extract.py`"
   ]
  },
  {
   "cell_type": "code",
   "execution_count": 8,
   "metadata": {},
   "outputs": [],
   "source": [
    "\"\"\"Extract data on near-Earth objects and close approaches from CSV and JSON files.\n",
    "\n",
    "The `load_neos` function extracts NEO data from a CSV file, formatted as\n",
    "described in the project instructions, into a collection of `NearEarthObject`s.\n",
    "\n",
    "The `load_approaches` function extracts close approach data from a JSON file,\n",
    "formatted as described in the project instructions, into a collection of\n",
    "`CloseApproach` objects.\n",
    "\n",
    "The main module calls these functions with the arguments provided at the command\n",
    "line, and uses the resulting collections to build an `NEODatabase`.\n",
    "\n",
    "You'll edit this file in Task 2.\n",
    "\"\"\"\n",
    "import csv\n",
    "import json\n",
    "from collections import defaultdict\n",
    "\n",
    "#from models import NearEarthObject, CloseApproach\n",
    "\n",
    "\n",
    "def load_neos(neo_csv_path = 'data/neos.csv') -> dict:\n",
    "    \"\"\"Read near-Earth object information from a CSV file.\n",
    "\n",
    "    :param neo_csv_path: A path to a CSV file containing data about near-Earth objects.\n",
    "    :return: A collection of `NearEarthObject`s.\n",
    "    \"\"\"\n",
    "\n",
    "    with open(neo_csv_path, 'r') as file:\n",
    "        neo_data = [row for row in csv.DictReader(file)]\n",
    "        \n",
    "    neos_dict = {}\n",
    "    for i in range(len(neo_data)):\n",
    "        neos_dict[neo_data[i]['pdes']] = NearEarthObject(\n",
    "            neo_data[i]['pdes'], \n",
    "            neo_data[i]['name'], \n",
    "            neo_data[i]['diameter'], \n",
    "            neo_data[i]['pha']\n",
    "        )\n",
    "    \n",
    "    return neos_dict\n",
    "\n",
    "\n",
    "\n",
    "def load_approaches(cad_json_path = 'data/cad.json') -> dict:\n",
    "    \"\"\"Read close approach data from a JSON file.\n",
    "\n",
    "    :param neo_csv_path: A path to a JSON file containing data about close approaches.\n",
    "    :return: A collection of `CloseApproach`es.\n",
    "    \"\"\"\n",
    "\n",
    "    with open(cad_json_path, 'r') as file:\n",
    "        cads_data = sorted(json.load(file)['data'])\n",
    "\n",
    "    cads_dict = {}\n",
    "\n",
    "    for i in range(len(cads_data)):\n",
    "        des = cads_data[i][0]\n",
    "        time = cads_data[i][3]\n",
    "        distance = cads_data[i][5] \n",
    "        velocity = cads_data[i][7]\n",
    "\n",
    "        if des not in cads_dict:\n",
    "            cads_dict[des] = []\n",
    "            cads_dict[des].append({time : CloseApproach(des, time, distance, velocity)})\n",
    "        \n",
    "        else:\n",
    "            cads_dict[des].append({time : CloseApproach(des, time, distance, velocity)})\n",
    "\n",
    "    return cads_dict\n"
   ]
  },
  {
   "cell_type": "code",
   "execution_count": 12,
   "metadata": {},
   "outputs": [],
   "source": [
    "neos_dict = load_neos()\n",
    "cads_dict = load_approaches()"
   ]
  },
  {
   "cell_type": "code",
   "execution_count": 88,
   "metadata": {},
   "outputs": [],
   "source": [
    "\"\"\"A database encapsulating collections of near-Earth objects and their close approaches.\n",
    "    \n",
    "    A `NEODatabase` holds an interconnected data set of NEOs and close approaches.\n",
    "    It provides methods to fetch an NEO by primary designation or by name, as well\n",
    "    as a method to query the set of close approaches that match a collection of\n",
    "    user-specified criteria.\n",
    "    \n",
    "    Under normal circumstances, the main module creates one NEODatabase from the\n",
    "    data on NEOs and close approaches extracted by `extract.load_neos` and\n",
    "    `extract.load_approaches`.\n",
    "    \n",
    "    \"\"\"\n",
    "#from extract import load_neos, load_approaches\n",
    "\n",
    "class NEODatabase:\n",
    "    \"\"\"A database of near-Earth objects and their close approaches.\n",
    "        \n",
    "        A `NEODatabase` contains a collection of NEOs and a collection of close\n",
    "        approaches. It additionally maintains a few auxiliary data structures to\n",
    "        help fetch NEOs by primary designation or by name and to help speed up\n",
    "        querying for close approaches that match criteria.\n",
    "        \"\"\"\n",
    "    def __init__(self, neos_dict, approaches_dict):\n",
    "        \"\"\"Create a new `NEODatabase`.\n",
    "            \n",
    "            As a precondition, this constructor assumes that the collections of NEOs\n",
    "            and close approaches haven't yet been linked - that is, the\n",
    "            `.approaches` attribute of each `NearEarthObject` resolves to an empty\n",
    "            collection, and the `.neo` attribute of each `CloseApproach` is None.\n",
    "            \n",
    "            However, each `CloseApproach` has an attribute (`._designation`) that\n",
    "            matches the `.designation` attribute of the corresponding NEO. This\n",
    "            constructor modifies the supplied NEOs and close approaches to link them\n",
    "            together - after it's done, the `.approaches` attribute of each NEO has\n",
    "            a collection of that NEO's close approaches, and the `.neo` attribute of\n",
    "            each close approach references the appropriate NEO.\n",
    "            \n",
    "            :param neos: A collection of `NearEarthObject`s.\n",
    "            :param approaches: A collection of `CloseApproach`es.\n",
    "            \"\"\"\n",
    "        self.neos_dict = neos_dict\n",
    "        self.approaches_dict = approaches_dict\n",
    "\n",
    "\n",
    "        for pdes, neo in self.neos_dict.items():\n",
    "            for des, cads in self.approaches_dict.items():\n",
    "                if pdes == des:\n",
    "                    for i in range(len(cads)):\n",
    "                        for value in cads[i].values():\n",
    "                            self.neos_dict[pdes].approaches.append(value)\n",
    "                            value.neo = neo\n",
    "    \n",
    "\n",
    "\n",
    "    def get_neo_by_designation(self, designation):\n",
    "        \"\"\"Find and return an NEO by its primary designation.\n",
    "\n",
    "            If no match is found, return `None` instead.\n",
    "\n",
    "            Each NEO in the data set has a unique primary designation, as a string.\n",
    "\n",
    "            The matching is exact - check for spelling and capitalization if no\n",
    "            match is found.\n",
    "\n",
    "            :param designation: The primary designation of the NEO to search for.\n",
    "            :return: The `NearEarthObject` with the desired primary designation, or `None`.\n",
    "            \"\"\"\n",
    "        if designation in self.neos_dict.keys():\n",
    "            print(self.neos_dict[designation])\n",
    "        else:\n",
    "            print(\"No NEO designation {} was found.\".format(designation))\n",
    "        return\n",
    "                    \n",
    "\n",
    "\n",
    "    def get_neo_by_name(self, name):\n",
    "        \"\"\"Find and return an NEO by its name.\n",
    "\n",
    "            If no match is found, return `None` instead.\n",
    "\n",
    "            Not every NEO in the data set has a name. No NEOs are associated with\n",
    "            the empty string nor with the `None` singleton.\n",
    "\n",
    "            The matching is exact - check for spelling and capitalization if no\n",
    "            match is found.\n",
    "\n",
    "            :param name: The name, as a string, of the NEO to search for.\n",
    "            :return: The `NearEarthObject` with the desired name, or `None`.\n",
    "            \"\"\"\n",
    "        for neo in self.neos_dict.values():\n",
    "            if name == neo.name:\n",
    "                return neo\n",
    "                break \n",
    "            else:\n",
    "                print(\"No NEO name {} was found.\".format(name))\n",
    "                break\n",
    "        return\n",
    "\n",
    "    def query(self, filters=()):\n",
    "        \"\"\"Query close approaches to generate those that match a collection of filters.\n",
    "\n",
    "            This generates a stream of `CloseApproach` objects that match all of the\n",
    "            provided filters.\n",
    "\n",
    "            If no arguments are provided, generate all known close approaches.\n",
    "\n",
    "            The `CloseApproach` objects are generated in internal order, which isn't\n",
    "            guaranteed to be sorted meaninfully, although is often sorted by time.\n",
    "\n",
    "            :param filters: A collection of filters capturing user-specified criteria.\n",
    "            :return: A stream of matching `CloseApproach` objects.\n",
    "            \"\"\"\n",
    "\n",
    "            # TODO: Generate `CloseApproach` objects that match all of the filters.\n",
    "        for approach in self.approaches_dict:\n",
    "            mapped = map(lambda x: x(approach), filters)\n",
    "            if all(flag is True for flag in mapped):\n",
    "                yield approach\n"
   ]
  },
  {
   "cell_type": "code",
   "execution_count": 89,
   "metadata": {},
   "outputs": [],
   "source": [
    "neo_db = NEODatabase(neos_dict, cads_dict)"
   ]
  },
  {
   "cell_type": "code",
   "execution_count": 94,
   "metadata": {},
   "outputs": [
    {
     "name": "stdout",
     "output_type": "stream",
     "text": [
      "NEO 433 (Eros) has a diameter 16.84 km and is not potentially hazardous.\n"
     ]
    },
    {
     "data": {
      "text/plain": [
       "[CloseApproach(time=1900-12-27 01:30, distance=0.314928770649129, velocity=5.57862036137798, neo=NEO 433 (Eros) has a diameter 16.84 km and is not potentially hazardous.),\n",
       " CloseApproach(time=1907-11-05 03:31, distance=0.471485325584323, velocity=4.39449034015508, neo=NEO 433 (Eros) has a diameter 16.84 km and is not potentially hazardous.),\n",
       " CloseApproach(time=1917-04-20 21:19, distance=0.499257057462409, velocity=4.81678458316768, neo=NEO 433 (Eros) has a diameter 16.84 km and is not potentially hazardous.),\n",
       " CloseApproach(time=1924-03-05 22:13, distance=0.35978626105059, velocity=4.5960536046792, neo=NEO 433 (Eros) has a diameter 16.84 km and is not potentially hazardous.),\n",
       " CloseApproach(time=1931-01-30 04:07, distance=0.174072995458928, velocity=5.92081851998368, neo=NEO 433 (Eros) has a diameter 16.84 km and is not potentially hazardous.),\n",
       " CloseApproach(time=1938-01-13 22:04, distance=0.215004986486131, velocity=6.08405229549247, neo=NEO 433 (Eros) has a diameter 16.84 km and is not potentially hazardous.),\n",
       " CloseApproach(time=1944-11-27 01:41, distance=0.403008868867902, velocity=3.62609871625652, neo=NEO 433 (Eros) has a diameter 16.84 km and is not potentially hazardous.),\n",
       " CloseApproach(time=1961-04-04 09:08, distance=0.442492013347152, velocity=3.70783654975265, neo=NEO 433 (Eros) has a diameter 16.84 km and is not potentially hazardous.),\n",
       " CloseApproach(time=1968-02-11 13:46, distance=0.266271277186977, velocity=6.06688484889726, neo=NEO 433 (Eros) has a diameter 16.84 km and is not potentially hazardous.),\n",
       " CloseApproach(time=1975-01-23 07:39, distance=0.151134128302004, velocity=5.82530760111607, neo=NEO 433 (Eros) has a diameter 16.84 km and is not potentially hazardous.),\n",
       " CloseApproach(time=1981-12-29 08:05, distance=0.308489217747118, velocity=5.66527178297612, neo=NEO 433 (Eros) has a diameter 16.84 km and is not potentially hazardous.),\n",
       " CloseApproach(time=1988-11-06 14:56, distance=0.467640149078182, velocity=4.30590191789382, neo=NEO 433 (Eros) has a diameter 16.84 km and is not potentially hazardous.),\n",
       " CloseApproach(time=2005-03-08 22:07, distance=0.365567167184262, velocity=4.41229243534752, neo=NEO 433 (Eros) has a diameter 16.84 km and is not potentially hazardous.),\n",
       " CloseApproach(time=2012-01-31 11:01, distance=0.178675792590141, velocity=5.94519572815633, neo=NEO 433 (Eros) has a diameter 16.84 km and is not potentially hazardous.),\n",
       " CloseApproach(time=2019-01-15 06:01, distance=0.208598631178872, velocity=6.04491769180209, neo=NEO 433 (Eros) has a diameter 16.84 km and is not potentially hazardous.),\n",
       " CloseApproach(time=2025-11-30 02:18, distance=0.397647435513751, velocity=3.72885069167641, neo=NEO 433 (Eros) has a diameter 16.84 km and is not potentially hazardous.),\n",
       " CloseApproach(time=2042-04-06 19:02, distance=0.446141630747713, velocity=3.72522463924126, neo=NEO 433 (Eros) has a diameter 16.84 km and is not potentially hazardous.),\n",
       " CloseApproach(time=2049-02-12 05:38, distance=0.272555204362666, velocity=6.05906465227428, neo=NEO 433 (Eros) has a diameter 16.84 km and is not potentially hazardous.),\n",
       " CloseApproach(time=2056-01-24 11:03, distance=0.149782127556474, velocity=5.8207578007406, neo=NEO 433 (Eros) has a diameter 16.84 km and is not potentially hazardous.),\n",
       " CloseApproach(time=2062-12-31 08:25, distance=0.302953402061065, velocity=5.73224288886345, neo=NEO 433 (Eros) has a diameter 16.84 km and is not potentially hazardous.),\n",
       " CloseApproach(time=2069-11-08 21:29, distance=0.464728132510425, velocity=4.24541832459964, neo=NEO 433 (Eros) has a diameter 16.84 km and is not potentially hazardous.),\n",
       " CloseApproach(time=2086-03-11 22:55, distance=0.371309766557622, velocity=4.22586533309328, neo=NEO 433 (Eros) has a diameter 16.84 km and is not potentially hazardous.),\n",
       " CloseApproach(time=2093-01-31 15:47, distance=0.182463647880772, velocity=5.97491340339766, neo=NEO 433 (Eros) has a diameter 16.84 km and is not potentially hazardous.),\n",
       " CloseApproach(time=1900-12-27 01:30, distance=0.314928770649129, velocity=5.57862036137798, neo=NEO 433 (Eros) has a diameter 16.84 km and is not potentially hazardous.),\n",
       " CloseApproach(time=1907-11-05 03:31, distance=0.471485325584323, velocity=4.39449034015508, neo=NEO 433 (Eros) has a diameter 16.84 km and is not potentially hazardous.),\n",
       " CloseApproach(time=1917-04-20 21:19, distance=0.499257057462409, velocity=4.81678458316768, neo=NEO 433 (Eros) has a diameter 16.84 km and is not potentially hazardous.),\n",
       " CloseApproach(time=1924-03-05 22:13, distance=0.35978626105059, velocity=4.5960536046792, neo=NEO 433 (Eros) has a diameter 16.84 km and is not potentially hazardous.),\n",
       " CloseApproach(time=1931-01-30 04:07, distance=0.174072995458928, velocity=5.92081851998368, neo=NEO 433 (Eros) has a diameter 16.84 km and is not potentially hazardous.),\n",
       " CloseApproach(time=1938-01-13 22:04, distance=0.215004986486131, velocity=6.08405229549247, neo=NEO 433 (Eros) has a diameter 16.84 km and is not potentially hazardous.),\n",
       " CloseApproach(time=1944-11-27 01:41, distance=0.403008868867902, velocity=3.62609871625652, neo=NEO 433 (Eros) has a diameter 16.84 km and is not potentially hazardous.),\n",
       " CloseApproach(time=1961-04-04 09:08, distance=0.442492013347152, velocity=3.70783654975265, neo=NEO 433 (Eros) has a diameter 16.84 km and is not potentially hazardous.),\n",
       " CloseApproach(time=1968-02-11 13:46, distance=0.266271277186977, velocity=6.06688484889726, neo=NEO 433 (Eros) has a diameter 16.84 km and is not potentially hazardous.),\n",
       " CloseApproach(time=1975-01-23 07:39, distance=0.151134128302004, velocity=5.82530760111607, neo=NEO 433 (Eros) has a diameter 16.84 km and is not potentially hazardous.),\n",
       " CloseApproach(time=1981-12-29 08:05, distance=0.308489217747118, velocity=5.66527178297612, neo=NEO 433 (Eros) has a diameter 16.84 km and is not potentially hazardous.),\n",
       " CloseApproach(time=1988-11-06 14:56, distance=0.467640149078182, velocity=4.30590191789382, neo=NEO 433 (Eros) has a diameter 16.84 km and is not potentially hazardous.),\n",
       " CloseApproach(time=2005-03-08 22:07, distance=0.365567167184262, velocity=4.41229243534752, neo=NEO 433 (Eros) has a diameter 16.84 km and is not potentially hazardous.),\n",
       " CloseApproach(time=2012-01-31 11:01, distance=0.178675792590141, velocity=5.94519572815633, neo=NEO 433 (Eros) has a diameter 16.84 km and is not potentially hazardous.),\n",
       " CloseApproach(time=2019-01-15 06:01, distance=0.208598631178872, velocity=6.04491769180209, neo=NEO 433 (Eros) has a diameter 16.84 km and is not potentially hazardous.),\n",
       " CloseApproach(time=2025-11-30 02:18, distance=0.397647435513751, velocity=3.72885069167641, neo=NEO 433 (Eros) has a diameter 16.84 km and is not potentially hazardous.),\n",
       " CloseApproach(time=2042-04-06 19:02, distance=0.446141630747713, velocity=3.72522463924126, neo=NEO 433 (Eros) has a diameter 16.84 km and is not potentially hazardous.),\n",
       " CloseApproach(time=2049-02-12 05:38, distance=0.272555204362666, velocity=6.05906465227428, neo=NEO 433 (Eros) has a diameter 16.84 km and is not potentially hazardous.),\n",
       " CloseApproach(time=2056-01-24 11:03, distance=0.149782127556474, velocity=5.8207578007406, neo=NEO 433 (Eros) has a diameter 16.84 km and is not potentially hazardous.),\n",
       " CloseApproach(time=2062-12-31 08:25, distance=0.302953402061065, velocity=5.73224288886345, neo=NEO 433 (Eros) has a diameter 16.84 km and is not potentially hazardous.),\n",
       " CloseApproach(time=2069-11-08 21:29, distance=0.464728132510425, velocity=4.24541832459964, neo=NEO 433 (Eros) has a diameter 16.84 km and is not potentially hazardous.),\n",
       " CloseApproach(time=2086-03-11 22:55, distance=0.371309766557622, velocity=4.22586533309328, neo=NEO 433 (Eros) has a diameter 16.84 km and is not potentially hazardous.),\n",
       " CloseApproach(time=2093-01-31 15:47, distance=0.182463647880772, velocity=5.97491340339766, neo=NEO 433 (Eros) has a diameter 16.84 km and is not potentially hazardous.),\n",
       " CloseApproach(time=1900-12-27 01:30, distance=0.314928770649129, velocity=5.57862036137798, neo=NEO 433 (Eros) has a diameter 16.84 km and is not potentially hazardous.),\n",
       " CloseApproach(time=1907-11-05 03:31, distance=0.471485325584323, velocity=4.39449034015508, neo=NEO 433 (Eros) has a diameter 16.84 km and is not potentially hazardous.),\n",
       " CloseApproach(time=1917-04-20 21:19, distance=0.499257057462409, velocity=4.81678458316768, neo=NEO 433 (Eros) has a diameter 16.84 km and is not potentially hazardous.),\n",
       " CloseApproach(time=1924-03-05 22:13, distance=0.35978626105059, velocity=4.5960536046792, neo=NEO 433 (Eros) has a diameter 16.84 km and is not potentially hazardous.),\n",
       " CloseApproach(time=1931-01-30 04:07, distance=0.174072995458928, velocity=5.92081851998368, neo=NEO 433 (Eros) has a diameter 16.84 km and is not potentially hazardous.),\n",
       " CloseApproach(time=1938-01-13 22:04, distance=0.215004986486131, velocity=6.08405229549247, neo=NEO 433 (Eros) has a diameter 16.84 km and is not potentially hazardous.),\n",
       " CloseApproach(time=1944-11-27 01:41, distance=0.403008868867902, velocity=3.62609871625652, neo=NEO 433 (Eros) has a diameter 16.84 km and is not potentially hazardous.),\n",
       " CloseApproach(time=1961-04-04 09:08, distance=0.442492013347152, velocity=3.70783654975265, neo=NEO 433 (Eros) has a diameter 16.84 km and is not potentially hazardous.),\n",
       " CloseApproach(time=1968-02-11 13:46, distance=0.266271277186977, velocity=6.06688484889726, neo=NEO 433 (Eros) has a diameter 16.84 km and is not potentially hazardous.),\n",
       " CloseApproach(time=1975-01-23 07:39, distance=0.151134128302004, velocity=5.82530760111607, neo=NEO 433 (Eros) has a diameter 16.84 km and is not potentially hazardous.),\n",
       " CloseApproach(time=1981-12-29 08:05, distance=0.308489217747118, velocity=5.66527178297612, neo=NEO 433 (Eros) has a diameter 16.84 km and is not potentially hazardous.),\n",
       " CloseApproach(time=1988-11-06 14:56, distance=0.467640149078182, velocity=4.30590191789382, neo=NEO 433 (Eros) has a diameter 16.84 km and is not potentially hazardous.),\n",
       " CloseApproach(time=2005-03-08 22:07, distance=0.365567167184262, velocity=4.41229243534752, neo=NEO 433 (Eros) has a diameter 16.84 km and is not potentially hazardous.),\n",
       " CloseApproach(time=2012-01-31 11:01, distance=0.178675792590141, velocity=5.94519572815633, neo=NEO 433 (Eros) has a diameter 16.84 km and is not potentially hazardous.),\n",
       " CloseApproach(time=2019-01-15 06:01, distance=0.208598631178872, velocity=6.04491769180209, neo=NEO 433 (Eros) has a diameter 16.84 km and is not potentially hazardous.),\n",
       " CloseApproach(time=2025-11-30 02:18, distance=0.397647435513751, velocity=3.72885069167641, neo=NEO 433 (Eros) has a diameter 16.84 km and is not potentially hazardous.),\n",
       " CloseApproach(time=2042-04-06 19:02, distance=0.446141630747713, velocity=3.72522463924126, neo=NEO 433 (Eros) has a diameter 16.84 km and is not potentially hazardous.),\n",
       " CloseApproach(time=2049-02-12 05:38, distance=0.272555204362666, velocity=6.05906465227428, neo=NEO 433 (Eros) has a diameter 16.84 km and is not potentially hazardous.),\n",
       " CloseApproach(time=2056-01-24 11:03, distance=0.149782127556474, velocity=5.8207578007406, neo=NEO 433 (Eros) has a diameter 16.84 km and is not potentially hazardous.),\n",
       " CloseApproach(time=2062-12-31 08:25, distance=0.302953402061065, velocity=5.73224288886345, neo=NEO 433 (Eros) has a diameter 16.84 km and is not potentially hazardous.),\n",
       " CloseApproach(time=2069-11-08 21:29, distance=0.464728132510425, velocity=4.24541832459964, neo=NEO 433 (Eros) has a diameter 16.84 km and is not potentially hazardous.),\n",
       " CloseApproach(time=2086-03-11 22:55, distance=0.371309766557622, velocity=4.22586533309328, neo=NEO 433 (Eros) has a diameter 16.84 km and is not potentially hazardous.),\n",
       " CloseApproach(time=2093-01-31 15:47, distance=0.182463647880772, velocity=5.97491340339766, neo=NEO 433 (Eros) has a diameter 16.84 km and is not potentially hazardous.),\n",
       " CloseApproach(time=1900-12-27 01:30, distance=0.314928770649129, velocity=5.57862036137798, neo=NEO 433 (Eros) has a diameter 16.84 km and is not potentially hazardous.),\n",
       " CloseApproach(time=1907-11-05 03:31, distance=0.471485325584323, velocity=4.39449034015508, neo=NEO 433 (Eros) has a diameter 16.84 km and is not potentially hazardous.),\n",
       " CloseApproach(time=1917-04-20 21:19, distance=0.499257057462409, velocity=4.81678458316768, neo=NEO 433 (Eros) has a diameter 16.84 km and is not potentially hazardous.),\n",
       " CloseApproach(time=1924-03-05 22:13, distance=0.35978626105059, velocity=4.5960536046792, neo=NEO 433 (Eros) has a diameter 16.84 km and is not potentially hazardous.),\n",
       " CloseApproach(time=1931-01-30 04:07, distance=0.174072995458928, velocity=5.92081851998368, neo=NEO 433 (Eros) has a diameter 16.84 km and is not potentially hazardous.),\n",
       " CloseApproach(time=1938-01-13 22:04, distance=0.215004986486131, velocity=6.08405229549247, neo=NEO 433 (Eros) has a diameter 16.84 km and is not potentially hazardous.),\n",
       " CloseApproach(time=1944-11-27 01:41, distance=0.403008868867902, velocity=3.62609871625652, neo=NEO 433 (Eros) has a diameter 16.84 km and is not potentially hazardous.),\n",
       " CloseApproach(time=1961-04-04 09:08, distance=0.442492013347152, velocity=3.70783654975265, neo=NEO 433 (Eros) has a diameter 16.84 km and is not potentially hazardous.),\n",
       " CloseApproach(time=1968-02-11 13:46, distance=0.266271277186977, velocity=6.06688484889726, neo=NEO 433 (Eros) has a diameter 16.84 km and is not potentially hazardous.),\n",
       " CloseApproach(time=1975-01-23 07:39, distance=0.151134128302004, velocity=5.82530760111607, neo=NEO 433 (Eros) has a diameter 16.84 km and is not potentially hazardous.),\n",
       " CloseApproach(time=1981-12-29 08:05, distance=0.308489217747118, velocity=5.66527178297612, neo=NEO 433 (Eros) has a diameter 16.84 km and is not potentially hazardous.),\n",
       " CloseApproach(time=1988-11-06 14:56, distance=0.467640149078182, velocity=4.30590191789382, neo=NEO 433 (Eros) has a diameter 16.84 km and is not potentially hazardous.),\n",
       " CloseApproach(time=2005-03-08 22:07, distance=0.365567167184262, velocity=4.41229243534752, neo=NEO 433 (Eros) has a diameter 16.84 km and is not potentially hazardous.),\n",
       " CloseApproach(time=2012-01-31 11:01, distance=0.178675792590141, velocity=5.94519572815633, neo=NEO 433 (Eros) has a diameter 16.84 km and is not potentially hazardous.),\n",
       " CloseApproach(time=2019-01-15 06:01, distance=0.208598631178872, velocity=6.04491769180209, neo=NEO 433 (Eros) has a diameter 16.84 km and is not potentially hazardous.),\n",
       " CloseApproach(time=2025-11-30 02:18, distance=0.397647435513751, velocity=3.72885069167641, neo=NEO 433 (Eros) has a diameter 16.84 km and is not potentially hazardous.),\n",
       " CloseApproach(time=2042-04-06 19:02, distance=0.446141630747713, velocity=3.72522463924126, neo=NEO 433 (Eros) has a diameter 16.84 km and is not potentially hazardous.),\n",
       " CloseApproach(time=2049-02-12 05:38, distance=0.272555204362666, velocity=6.05906465227428, neo=NEO 433 (Eros) has a diameter 16.84 km and is not potentially hazardous.),\n",
       " CloseApproach(time=2056-01-24 11:03, distance=0.149782127556474, velocity=5.8207578007406, neo=NEO 433 (Eros) has a diameter 16.84 km and is not potentially hazardous.),\n",
       " CloseApproach(time=2062-12-31 08:25, distance=0.302953402061065, velocity=5.73224288886345, neo=NEO 433 (Eros) has a diameter 16.84 km and is not potentially hazardous.),\n",
       " CloseApproach(time=2069-11-08 21:29, distance=0.464728132510425, velocity=4.24541832459964, neo=NEO 433 (Eros) has a diameter 16.84 km and is not potentially hazardous.),\n",
       " CloseApproach(time=2086-03-11 22:55, distance=0.371309766557622, velocity=4.22586533309328, neo=NEO 433 (Eros) has a diameter 16.84 km and is not potentially hazardous.),\n",
       " CloseApproach(time=2093-01-31 15:47, distance=0.182463647880772, velocity=5.97491340339766, neo=NEO 433 (Eros) has a diameter 16.84 km and is not potentially hazardous.),\n",
       " CloseApproach(time=1900-12-27 01:30, distance=0.314928770649129, velocity=5.57862036137798, neo=NEO 433 (Eros) has a diameter 16.84 km and is not potentially hazardous.),\n",
       " CloseApproach(time=1907-11-05 03:31, distance=0.471485325584323, velocity=4.39449034015508, neo=NEO 433 (Eros) has a diameter 16.84 km and is not potentially hazardous.),\n",
       " CloseApproach(time=1917-04-20 21:19, distance=0.499257057462409, velocity=4.81678458316768, neo=NEO 433 (Eros) has a diameter 16.84 km and is not potentially hazardous.),\n",
       " CloseApproach(time=1924-03-05 22:13, distance=0.35978626105059, velocity=4.5960536046792, neo=NEO 433 (Eros) has a diameter 16.84 km and is not potentially hazardous.),\n",
       " CloseApproach(time=1931-01-30 04:07, distance=0.174072995458928, velocity=5.92081851998368, neo=NEO 433 (Eros) has a diameter 16.84 km and is not potentially hazardous.),\n",
       " CloseApproach(time=1938-01-13 22:04, distance=0.215004986486131, velocity=6.08405229549247, neo=NEO 433 (Eros) has a diameter 16.84 km and is not potentially hazardous.),\n",
       " CloseApproach(time=1944-11-27 01:41, distance=0.403008868867902, velocity=3.62609871625652, neo=NEO 433 (Eros) has a diameter 16.84 km and is not potentially hazardous.),\n",
       " CloseApproach(time=1961-04-04 09:08, distance=0.442492013347152, velocity=3.70783654975265, neo=NEO 433 (Eros) has a diameter 16.84 km and is not potentially hazardous.),\n",
       " CloseApproach(time=1968-02-11 13:46, distance=0.266271277186977, velocity=6.06688484889726, neo=NEO 433 (Eros) has a diameter 16.84 km and is not potentially hazardous.),\n",
       " CloseApproach(time=1975-01-23 07:39, distance=0.151134128302004, velocity=5.82530760111607, neo=NEO 433 (Eros) has a diameter 16.84 km and is not potentially hazardous.),\n",
       " CloseApproach(time=1981-12-29 08:05, distance=0.308489217747118, velocity=5.66527178297612, neo=NEO 433 (Eros) has a diameter 16.84 km and is not potentially hazardous.),\n",
       " CloseApproach(time=1988-11-06 14:56, distance=0.467640149078182, velocity=4.30590191789382, neo=NEO 433 (Eros) has a diameter 16.84 km and is not potentially hazardous.),\n",
       " CloseApproach(time=2005-03-08 22:07, distance=0.365567167184262, velocity=4.41229243534752, neo=NEO 433 (Eros) has a diameter 16.84 km and is not potentially hazardous.),\n",
       " CloseApproach(time=2012-01-31 11:01, distance=0.178675792590141, velocity=5.94519572815633, neo=NEO 433 (Eros) has a diameter 16.84 km and is not potentially hazardous.),\n",
       " CloseApproach(time=2019-01-15 06:01, distance=0.208598631178872, velocity=6.04491769180209, neo=NEO 433 (Eros) has a diameter 16.84 km and is not potentially hazardous.),\n",
       " CloseApproach(time=2025-11-30 02:18, distance=0.397647435513751, velocity=3.72885069167641, neo=NEO 433 (Eros) has a diameter 16.84 km and is not potentially hazardous.),\n",
       " CloseApproach(time=2042-04-06 19:02, distance=0.446141630747713, velocity=3.72522463924126, neo=NEO 433 (Eros) has a diameter 16.84 km and is not potentially hazardous.),\n",
       " CloseApproach(time=2049-02-12 05:38, distance=0.272555204362666, velocity=6.05906465227428, neo=NEO 433 (Eros) has a diameter 16.84 km and is not potentially hazardous.),\n",
       " CloseApproach(time=2056-01-24 11:03, distance=0.149782127556474, velocity=5.8207578007406, neo=NEO 433 (Eros) has a diameter 16.84 km and is not potentially hazardous.),\n",
       " CloseApproach(time=2062-12-31 08:25, distance=0.302953402061065, velocity=5.73224288886345, neo=NEO 433 (Eros) has a diameter 16.84 km and is not potentially hazardous.),\n",
       " CloseApproach(time=2069-11-08 21:29, distance=0.464728132510425, velocity=4.24541832459964, neo=NEO 433 (Eros) has a diameter 16.84 km and is not potentially hazardous.),\n",
       " CloseApproach(time=2086-03-11 22:55, distance=0.371309766557622, velocity=4.22586533309328, neo=NEO 433 (Eros) has a diameter 16.84 km and is not potentially hazardous.),\n",
       " CloseApproach(time=2093-01-31 15:47, distance=0.182463647880772, velocity=5.97491340339766, neo=NEO 433 (Eros) has a diameter 16.84 km and is not potentially hazardous.),\n",
       " CloseApproach(time=1900-12-27 01:30, distance=0.314928770649129, velocity=5.57862036137798, neo=NEO 433 (Eros) has a diameter 16.84 km and is not potentially hazardous.),\n",
       " CloseApproach(time=1907-11-05 03:31, distance=0.471485325584323, velocity=4.39449034015508, neo=NEO 433 (Eros) has a diameter 16.84 km and is not potentially hazardous.),\n",
       " CloseApproach(time=1917-04-20 21:19, distance=0.499257057462409, velocity=4.81678458316768, neo=NEO 433 (Eros) has a diameter 16.84 km and is not potentially hazardous.),\n",
       " CloseApproach(time=1924-03-05 22:13, distance=0.35978626105059, velocity=4.5960536046792, neo=NEO 433 (Eros) has a diameter 16.84 km and is not potentially hazardous.),\n",
       " CloseApproach(time=1931-01-30 04:07, distance=0.174072995458928, velocity=5.92081851998368, neo=NEO 433 (Eros) has a diameter 16.84 km and is not potentially hazardous.),\n",
       " CloseApproach(time=1938-01-13 22:04, distance=0.215004986486131, velocity=6.08405229549247, neo=NEO 433 (Eros) has a diameter 16.84 km and is not potentially hazardous.),\n",
       " CloseApproach(time=1944-11-27 01:41, distance=0.403008868867902, velocity=3.62609871625652, neo=NEO 433 (Eros) has a diameter 16.84 km and is not potentially hazardous.),\n",
       " CloseApproach(time=1961-04-04 09:08, distance=0.442492013347152, velocity=3.70783654975265, neo=NEO 433 (Eros) has a diameter 16.84 km and is not potentially hazardous.),\n",
       " CloseApproach(time=1968-02-11 13:46, distance=0.266271277186977, velocity=6.06688484889726, neo=NEO 433 (Eros) has a diameter 16.84 km and is not potentially hazardous.),\n",
       " CloseApproach(time=1975-01-23 07:39, distance=0.151134128302004, velocity=5.82530760111607, neo=NEO 433 (Eros) has a diameter 16.84 km and is not potentially hazardous.),\n",
       " CloseApproach(time=1981-12-29 08:05, distance=0.308489217747118, velocity=5.66527178297612, neo=NEO 433 (Eros) has a diameter 16.84 km and is not potentially hazardous.),\n",
       " CloseApproach(time=1988-11-06 14:56, distance=0.467640149078182, velocity=4.30590191789382, neo=NEO 433 (Eros) has a diameter 16.84 km and is not potentially hazardous.),\n",
       " CloseApproach(time=2005-03-08 22:07, distance=0.365567167184262, velocity=4.41229243534752, neo=NEO 433 (Eros) has a diameter 16.84 km and is not potentially hazardous.),\n",
       " CloseApproach(time=2012-01-31 11:01, distance=0.178675792590141, velocity=5.94519572815633, neo=NEO 433 (Eros) has a diameter 16.84 km and is not potentially hazardous.),\n",
       " CloseApproach(time=2019-01-15 06:01, distance=0.208598631178872, velocity=6.04491769180209, neo=NEO 433 (Eros) has a diameter 16.84 km and is not potentially hazardous.),\n",
       " CloseApproach(time=2025-11-30 02:18, distance=0.397647435513751, velocity=3.72885069167641, neo=NEO 433 (Eros) has a diameter 16.84 km and is not potentially hazardous.),\n",
       " CloseApproach(time=2042-04-06 19:02, distance=0.446141630747713, velocity=3.72522463924126, neo=NEO 433 (Eros) has a diameter 16.84 km and is not potentially hazardous.),\n",
       " CloseApproach(time=2049-02-12 05:38, distance=0.272555204362666, velocity=6.05906465227428, neo=NEO 433 (Eros) has a diameter 16.84 km and is not potentially hazardous.),\n",
       " CloseApproach(time=2056-01-24 11:03, distance=0.149782127556474, velocity=5.8207578007406, neo=NEO 433 (Eros) has a diameter 16.84 km and is not potentially hazardous.),\n",
       " CloseApproach(time=2062-12-31 08:25, distance=0.302953402061065, velocity=5.73224288886345, neo=NEO 433 (Eros) has a diameter 16.84 km and is not potentially hazardous.),\n",
       " CloseApproach(time=2069-11-08 21:29, distance=0.464728132510425, velocity=4.24541832459964, neo=NEO 433 (Eros) has a diameter 16.84 km and is not potentially hazardous.),\n",
       " CloseApproach(time=2086-03-11 22:55, distance=0.371309766557622, velocity=4.22586533309328, neo=NEO 433 (Eros) has a diameter 16.84 km and is not potentially hazardous.),\n",
       " CloseApproach(time=2093-01-31 15:47, distance=0.182463647880772, velocity=5.97491340339766, neo=NEO 433 (Eros) has a diameter 16.84 km and is not potentially hazardous.),\n",
       " CloseApproach(time=1900-12-27 01:30, distance=0.314928770649129, velocity=5.57862036137798, neo=NEO 433 (Eros) has a diameter 16.84 km and is not potentially hazardous.),\n",
       " CloseApproach(time=1907-11-05 03:31, distance=0.471485325584323, velocity=4.39449034015508, neo=NEO 433 (Eros) has a diameter 16.84 km and is not potentially hazardous.),\n",
       " CloseApproach(time=1917-04-20 21:19, distance=0.499257057462409, velocity=4.81678458316768, neo=NEO 433 (Eros) has a diameter 16.84 km and is not potentially hazardous.),\n",
       " CloseApproach(time=1924-03-05 22:13, distance=0.35978626105059, velocity=4.5960536046792, neo=NEO 433 (Eros) has a diameter 16.84 km and is not potentially hazardous.),\n",
       " CloseApproach(time=1931-01-30 04:07, distance=0.174072995458928, velocity=5.92081851998368, neo=NEO 433 (Eros) has a diameter 16.84 km and is not potentially hazardous.),\n",
       " CloseApproach(time=1938-01-13 22:04, distance=0.215004986486131, velocity=6.08405229549247, neo=NEO 433 (Eros) has a diameter 16.84 km and is not potentially hazardous.),\n",
       " CloseApproach(time=1944-11-27 01:41, distance=0.403008868867902, velocity=3.62609871625652, neo=NEO 433 (Eros) has a diameter 16.84 km and is not potentially hazardous.),\n",
       " CloseApproach(time=1961-04-04 09:08, distance=0.442492013347152, velocity=3.70783654975265, neo=NEO 433 (Eros) has a diameter 16.84 km and is not potentially hazardous.),\n",
       " CloseApproach(time=1968-02-11 13:46, distance=0.266271277186977, velocity=6.06688484889726, neo=NEO 433 (Eros) has a diameter 16.84 km and is not potentially hazardous.),\n",
       " CloseApproach(time=1975-01-23 07:39, distance=0.151134128302004, velocity=5.82530760111607, neo=NEO 433 (Eros) has a diameter 16.84 km and is not potentially hazardous.),\n",
       " CloseApproach(time=1981-12-29 08:05, distance=0.308489217747118, velocity=5.66527178297612, neo=NEO 433 (Eros) has a diameter 16.84 km and is not potentially hazardous.),\n",
       " CloseApproach(time=1988-11-06 14:56, distance=0.467640149078182, velocity=4.30590191789382, neo=NEO 433 (Eros) has a diameter 16.84 km and is not potentially hazardous.),\n",
       " CloseApproach(time=2005-03-08 22:07, distance=0.365567167184262, velocity=4.41229243534752, neo=NEO 433 (Eros) has a diameter 16.84 km and is not potentially hazardous.),\n",
       " CloseApproach(time=2012-01-31 11:01, distance=0.178675792590141, velocity=5.94519572815633, neo=NEO 433 (Eros) has a diameter 16.84 km and is not potentially hazardous.),\n",
       " CloseApproach(time=2019-01-15 06:01, distance=0.208598631178872, velocity=6.04491769180209, neo=NEO 433 (Eros) has a diameter 16.84 km and is not potentially hazardous.),\n",
       " CloseApproach(time=2025-11-30 02:18, distance=0.397647435513751, velocity=3.72885069167641, neo=NEO 433 (Eros) has a diameter 16.84 km and is not potentially hazardous.),\n",
       " CloseApproach(time=2042-04-06 19:02, distance=0.446141630747713, velocity=3.72522463924126, neo=NEO 433 (Eros) has a diameter 16.84 km and is not potentially hazardous.),\n",
       " CloseApproach(time=2049-02-12 05:38, distance=0.272555204362666, velocity=6.05906465227428, neo=NEO 433 (Eros) has a diameter 16.84 km and is not potentially hazardous.),\n",
       " CloseApproach(time=2056-01-24 11:03, distance=0.149782127556474, velocity=5.8207578007406, neo=NEO 433 (Eros) has a diameter 16.84 km and is not potentially hazardous.),\n",
       " CloseApproach(time=2062-12-31 08:25, distance=0.302953402061065, velocity=5.73224288886345, neo=NEO 433 (Eros) has a diameter 16.84 km and is not potentially hazardous.),\n",
       " CloseApproach(time=2069-11-08 21:29, distance=0.464728132510425, velocity=4.24541832459964, neo=NEO 433 (Eros) has a diameter 16.84 km and is not potentially hazardous.),\n",
       " CloseApproach(time=2086-03-11 22:55, distance=0.371309766557622, velocity=4.22586533309328, neo=NEO 433 (Eros) has a diameter 16.84 km and is not potentially hazardous.),\n",
       " CloseApproach(time=2093-01-31 15:47, distance=0.182463647880772, velocity=5.97491340339766, neo=NEO 433 (Eros) has a diameter 16.84 km and is not potentially hazardous.)]"
      ]
     },
     "execution_count": 94,
     "metadata": {},
     "output_type": "execute_result"
    }
   ],
   "source": [
    "neo_db.get_neo_by_designation('433')\n",
    "neo_db.get_neo_by_name('Eros').approaches"
   ]
  },
  {
   "cell_type": "code",
   "execution_count": 74,
   "metadata": {},
   "outputs": [
    {
     "name": "stdout",
     "output_type": "stream",
     "text": [
      "NEO 433 (Eros) has a diameter 16.84 km and is not potentially hazardous.\n"
     ]
    }
   ],
   "source": [
    "neo_db.get_neo_by_designation('433')"
   ]
  },
  {
   "cell_type": "code",
   "execution_count": 73,
   "metadata": {},
   "outputs": [
    {
     "name": "stdout",
     "output_type": "stream",
     "text": [
      "NEO 433 (Eros) has a diameter 16.84 km and is not potentially hazardous.\n"
     ]
    }
   ],
   "source": [
    "print(neos_dict['433']) #.name"
   ]
  },
  {
   "cell_type": "code",
   "execution_count": 78,
   "metadata": {},
   "outputs": [
    {
     "name": "stdout",
     "output_type": "stream",
     "text": [
      "No NEO name w was found.\n"
     ]
    }
   ],
   "source": [
    "neo_db.get_neo_by_name('w')\n"
   ]
  },
  {
   "cell_type": "code",
   "execution_count": 31,
   "metadata": {},
   "outputs": [
    {
     "name": "stdout",
     "output_type": "stream",
     "text": [
      "NEO 433 (Eros) has a diameter 16.84 km and is not potentially hazardous.\n"
     ]
    },
    {
     "ename": "AttributeError",
     "evalue": "'NoneType' object has no attribute 'name'",
     "output_type": "error",
     "traceback": [
      "\u001b[0;31m---------------------------------------------------------------------------\u001b[0m",
      "\u001b[0;31mAttributeError\u001b[0m                            Traceback (most recent call last)",
      "\u001b[0;32m<ipython-input-31-c3fd0a92f074>\u001b[0m in \u001b[0;36m<module>\u001b[0;34m\u001b[0m\n\u001b[0;32m----> 1\u001b[0;31m \u001b[0mprint\u001b[0m\u001b[0;34m(\u001b[0m\u001b[0;34m'Print all cads for a neo'\u001b[0m\u001b[0;34m,\u001b[0m \u001b[0mneo_db\u001b[0m\u001b[0;34m.\u001b[0m\u001b[0mget_neo_by_designation\u001b[0m\u001b[0;34m(\u001b[0m\u001b[0;34m'433'\u001b[0m\u001b[0;34m)\u001b[0m\u001b[0;34m.\u001b[0m\u001b[0mname\u001b[0m\u001b[0;34m)\u001b[0m\u001b[0;34m\u001b[0m\u001b[0;34m\u001b[0m\u001b[0m\n\u001b[0m",
      "\u001b[0;31mAttributeError\u001b[0m: 'NoneType' object has no attribute 'name'"
     ]
    }
   ],
   "source": [
    "print('Print all cads for a neo', neo_db.get_neo_by_designation('433').name)"
   ]
  },
  {
   "cell_type": "code",
   "execution_count": 26,
   "metadata": {},
   "outputs": [
    {
     "name": "stdout",
     "output_type": "stream",
     "text": [
      "NEO 433 (Eros) has a diameter 16.84 km and is not potentially hazardous.\n"
     ]
    }
   ],
   "source": [
    "neo_db.get_neo_by_designation('433')"
   ]
  },
  {
   "cell_type": "code",
   "execution_count": 386,
   "metadata": {},
   "outputs": [
    {
     "name": "stdout",
     "output_type": "stream",
     "text": [
      "No NEO designation 0 was found.\n"
     ]
    }
   ],
   "source": [
    "neo_db.get_neo_by_designation('0')"
   ]
  },
  {
   "cell_type": "code",
   "execution_count": 387,
   "metadata": {},
   "outputs": [
    {
     "data": {
      "text/plain": [
       "'433'"
      ]
     },
     "execution_count": 387,
     "metadata": {},
     "output_type": "execute_result"
    }
   ],
   "source": [
    "neo_db.get_neo_by_name('Eros').designation"
   ]
  },
  {
   "cell_type": "code",
   "execution_count": 388,
   "metadata": {},
   "outputs": [
    {
     "name": "stdout",
     "output_type": "stream",
     "text": [
      "No NEO name Pooo was found.\n"
     ]
    }
   ],
   "source": [
    "neo_db.get_neo_by_name('Pooo')"
   ]
  },
  {
   "cell_type": "code",
   "execution_count": 393,
   "metadata": {},
   "outputs": [
    {
     "name": "stdout",
     "output_type": "stream",
     "text": [
      "NEO 1036 (Ganymed) has a diameter 37.675 km and is not potentially hazardous.\n",
      "NEO 1036 (Ganymed) has a diameter 37.675 km and is not potentially hazardous.\n",
      "NEO 1036 (Ganymed) has a diameter 37.675 km and is not potentially hazardous.\n",
      "NEO 1036 (Ganymed) has a diameter 37.675 km and is not potentially hazardous.\n",
      "NEO 1036 (Ganymed) has a diameter 37.675 km and is not potentially hazardous.\n",
      "NEO 1036 (Ganymed) has a diameter 37.675 km and is not potentially hazardous.\n"
     ]
    },
    {
     "ename": "IndexError",
     "evalue": "list index out of range",
     "output_type": "error",
     "traceback": [
      "\u001b[0;31m---------------------------------------------------------------------------\u001b[0m",
      "\u001b[0;31mIndexError\u001b[0m                                Traceback (most recent call last)",
      "\u001b[0;32m<ipython-input-393-a1cef0078029>\u001b[0m in \u001b[0;36m<module>\u001b[0;34m\u001b[0m\n\u001b[1;32m      1\u001b[0m \u001b[0;32mfor\u001b[0m \u001b[0mi\u001b[0m \u001b[0;32min\u001b[0m \u001b[0mrange\u001b[0m\u001b[0;34m(\u001b[0m\u001b[0mlen\u001b[0m\u001b[0;34m(\u001b[0m\u001b[0mneo_db\u001b[0m\u001b[0;34m.\u001b[0m\u001b[0mapproaches_dict\u001b[0m\u001b[0;34m[\u001b[0m\u001b[0;34m'100004'\u001b[0m\u001b[0;34m]\u001b[0m\u001b[0;34m)\u001b[0m\u001b[0;34m)\u001b[0m\u001b[0;34m:\u001b[0m\u001b[0;34m\u001b[0m\u001b[0;34m\u001b[0m\u001b[0m\n\u001b[0;32m----> 2\u001b[0;31m     \u001b[0;32mfor\u001b[0m \u001b[0mvalue\u001b[0m \u001b[0;32min\u001b[0m \u001b[0mneo_db\u001b[0m\u001b[0;34m.\u001b[0m\u001b[0mapproaches_dict\u001b[0m\u001b[0;34m[\u001b[0m\u001b[0;34m'1036'\u001b[0m\u001b[0;34m]\u001b[0m\u001b[0;34m[\u001b[0m\u001b[0mi\u001b[0m\u001b[0;34m]\u001b[0m\u001b[0;34m.\u001b[0m\u001b[0mvalues\u001b[0m\u001b[0;34m(\u001b[0m\u001b[0;34m)\u001b[0m\u001b[0;34m:\u001b[0m\u001b[0;34m\u001b[0m\u001b[0;34m\u001b[0m\u001b[0m\n\u001b[0m\u001b[1;32m      3\u001b[0m         \u001b[0mprint\u001b[0m\u001b[0;34m(\u001b[0m\u001b[0mvalue\u001b[0m\u001b[0;34m.\u001b[0m\u001b[0mneo\u001b[0m\u001b[0;34m)\u001b[0m\u001b[0;34m\u001b[0m\u001b[0;34m\u001b[0m\u001b[0m\n",
      "\u001b[0;31mIndexError\u001b[0m: list index out of range"
     ]
    }
   ],
   "source": [
    "for i in range(len(neo_db.approaches_dict['100004'])):\n",
    "    for value in neo_db.approaches_dict['1036'][i].values():\n",
    "        print(value.neo)"
   ]
  },
  {
   "cell_type": "markdown",
   "metadata": {},
   "source": [
    "### Filters functionality"
   ]
  },
  {
   "cell_type": "code",
   "execution_count": null,
   "metadata": {},
   "outputs": [],
   "source": [
    "\"\"\"Provide filters for querying close approaches and limit the generated results.\n",
    "\n",
    "The `create_filters` function produces a collection of objects that is used by\n",
    "the `query` method to generate a stream of `CloseApproach` objects that match\n",
    "all of the desired criteria. The arguments to `create_filters` are provided by\n",
    "the main module and originate from the user's command-line options.\n",
    "\n",
    "This function can be thought to return a collection of instances of subclasses\n",
    "of `AttributeFilter` - a 1-argument callable (on a `CloseApproach`) constructed\n",
    "from a comparator (from the `operator` module), a reference value, and a class\n",
    "method `get` that subclasses can override to fetch an attribute of interest from\n",
    "the supplied `CloseApproach`.\n",
    "\n",
    "The `limit` function simply limits the maximum number of values produced by an\n",
    "iterator.\n",
    "\n",
    "You'll edit this file in Tasks 3a and 3c.\n",
    "\"\"\"\n",
    "import operator\n",
    "\n",
    "\n",
    "class UnsupportedCriterionError(NotImplementedError):\n",
    "    \"\"\"A filter criterion is unsupported.\"\"\"\n",
    "\n",
    "\n",
    "class AttributeFilter:\n",
    "    \"\"\"A general superclass for filters on comparable attributes.\n",
    "\n",
    "    An `AttributeFilter` represents the search criteria pattern comparing some\n",
    "    attribute of a close approach (or its attached NEO) to a reference value. It\n",
    "    essentially functions as a callable predicate for whether a `CloseApproach`\n",
    "    object satisfies the encoded criterion.\n",
    "\n",
    "    It is constructed with a comparator operator and a reference value, and\n",
    "    calling the filter (with __call__) executes `get(approach) OP value` (in\n",
    "    infix notation).\n",
    "\n",
    "    Concrete subclasses can override the `get` classmethod to provide custom\n",
    "    behavior to fetch a desired attribute from the given `CloseApproach`.\n",
    "    \"\"\"\n",
    "    def __init__(self, op, value):\n",
    "        \"\"\"Construct a new `AttributeFilter` from an binary predicate and a reference value.\n",
    "\n",
    "        The reference value will be supplied as the second (right-hand side)\n",
    "        argument to the operator function. For example, an `AttributeFilter`\n",
    "        with `op=operator.le` and `value=10` will, when called on an approach,\n",
    "        evaluate `some_attribute <= 10`.\n",
    "\n",
    "        :param op: A 2-argument predicate comparator (such as `operator.le`).\n",
    "        :param value: The reference value to compare against.\n",
    "        \"\"\"\n",
    "        self.op = op\n",
    "        self.value = value\n",
    "\n",
    "    def __call__(self, approach):\n",
    "        \"\"\"Invoke `self(approach)`.\"\"\"\n",
    "        return self.op(self.get(approach), self.value)\n",
    "\n",
    "    @classmethod\n",
    "    def get(cls, approach):\n",
    "        \"\"\"Get an attribute of interest from a close approach.\n",
    "\n",
    "        Concrete subclasses must override this method to get an attribute of\n",
    "        interest from the supplied `CloseApproach`.\n",
    "\n",
    "        :param approach: A `CloseApproach` on which to evaluate this filter.\n",
    "        :return: The value of an attribute of interest, comparable to `self.value` via `self.op`.\n",
    "        \"\"\"\n",
    "        raise UnsupportedCriterionError\n",
    "\n",
    "    def __repr__(self):\n",
    "        return f\"{self.__class__.__name__}(op=operator.{self.op.__name__}, value={self.value})\"\n",
    "\n",
    "\n",
    "def create_filters(date=None, start_date=None, end_date=None,\n",
    "                   distance_min=None, distance_max=None,\n",
    "                   velocity_min=None, velocity_max=None,\n",
    "                   diameter_min=None, diameter_max=None,\n",
    "                   hazardous=None):\n",
    "    \"\"\"Create a collection of filters from user-specified criteria.\n",
    "\n",
    "    Each of these arguments is provided by the main module with a value from the\n",
    "    user's options at the command line. Each one corresponds to a different type\n",
    "    of filter. For example, the `--date` option corresponds to the `date`\n",
    "    argument, and represents a filter that selects close approaches that occured\n",
    "    on exactly that given date. Similarly, the `--min-distance` option\n",
    "    corresponds to the `distance_min` argument, and represents a filter that\n",
    "    selects close approaches whose nominal approach distance is at least that\n",
    "    far away from Earth. Each option is `None` if not specified at the command\n",
    "    line (in particular, this means that the `--not-hazardous` flag results in\n",
    "    `hazardous=False`, not to be confused with `hazardous=None`).\n",
    "\n",
    "    The return value must be compatible with the `query` method of `NEODatabase`\n",
    "    because the main module directly passes this result to that method. For now,\n",
    "    this can be thought of as a collection of `AttributeFilter`s.\n",
    "\n",
    "    :param date: A `date` on which a matching `CloseApproach` occurs.\n",
    "    :param start_date: A `date` on or after which a matching `CloseApproach` occurs.\n",
    "    :param end_date: A `date` on or before which a matching `CloseApproach` occurs.\n",
    "    :param distance_min: A minimum nominal approach distance for a matching `CloseApproach`.\n",
    "    :param distance_max: A maximum nominal approach distance for a matching `CloseApproach`.\n",
    "    :param velocity_min: A minimum relative approach velocity for a matching `CloseApproach`.\n",
    "    :param velocity_max: A maximum relative approach velocity for a matching `CloseApproach`.\n",
    "    :param diameter_min: A minimum diameter of the NEO of a matching `CloseApproach`.\n",
    "    :param diameter_max: A maximum diameter of the NEO of a matching `CloseApproach`.\n",
    "    :param hazardous: Whether the NEO of a matching `CloseApproach` is potentially hazardous.\n",
    "    :return: A collection of filters for use with `query`.\n",
    "    \"\"\"\n",
    "    # TODO: Decide how you will represent your filters.\n",
    "    return ()\n",
    "\n",
    "\n",
    "def limit(iterator, n=None):\n",
    "    \"\"\"Produce a limited stream of values from an iterator.\n",
    "\n",
    "    If `n` is 0 or None, don't limit the iterator at all.\n",
    "\n",
    "    :param iterator: An iterator of values.\n",
    "    :param n: The maximum number of values to produce.\n",
    "    :yield: The first (at most) `n` values from the iterator.\n",
    "    \"\"\"\n",
    "    # TODO: Produce at most `n` values from the given iterator.\n",
    "    return iterator"
   ]
  }
 ],
 "metadata": {
  "kernelspec": {
   "display_name": "Python 3",
   "language": "python",
   "name": "python3"
  },
  "language_info": {
   "codemirror_mode": {
    "name": "ipython",
    "version": 3
   },
   "file_extension": ".py",
   "mimetype": "text/x-python",
   "name": "python",
   "nbconvert_exporter": "python",
   "pygments_lexer": "ipython3",
   "version": "3.8.3"
  }
 },
 "nbformat": 4,
 "nbformat_minor": 4
}
